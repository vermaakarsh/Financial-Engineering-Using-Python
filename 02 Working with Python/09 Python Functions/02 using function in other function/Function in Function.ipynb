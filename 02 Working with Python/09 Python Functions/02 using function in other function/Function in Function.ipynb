{
 "cells": [
  {
   "cell_type": "markdown",
   "id": "8bb6b588",
   "metadata": {},
   "source": [
    "# Using a Function in Another Function\n",
    "## 1. Introduction\n",
    "In Python, functions can be used inside other functions, which is a powerful feature of the language. This allows for better code organization, reusability, and clarity.\n",
    "\n",
    "## 2. Why Use a Function Inside Another Function?\n",
    "Code Reusability: Avoid duplicating code.\n",
    "Modularity: Break down complex tasks into smaller, manageable pieces.\n",
    "Abstraction: Hide the internal workings of a helper function.\n",
    "## 3. Example of Using a Function in Another Function"
   ]
  },
  {
   "cell_type": "code",
   "execution_count": 1,
   "id": "6398f09b",
   "metadata": {},
   "outputs": [
    {
     "name": "stdout",
     "output_type": "stream",
     "text": [
      "Sum of squares: 25\n"
     ]
    }
   ],
   "source": [
    "# Function to calculate the square of a number\n",
    "def square(x):\n",
    "    return x * x\n",
    "\n",
    "# Function to calculate the sum of squares of two numbers using the square() function\n",
    "def sum_of_squares(a, b):\n",
    "    return square(a) + square(b)\n",
    "\n",
    "# Testing the function\n",
    "result = sum_of_squares(3, 4)\n",
    "print(\"Sum of squares:\", result)\n"
   ]
  },
  {
   "cell_type": "markdown",
   "id": "bffbc4c9",
   "metadata": {},
   "source": [
    "- square(x): This is a simple function that returns the square of the input number x.\n",
    "- sum_of_squares(a, b): This function uses the square() function to calculate the squares of a and b and then sums them.\n",
    "- When we pass 3 and 4, it returns 9 + 16 = 25."
   ]
  },
  {
   "cell_type": "markdown",
   "id": "7ea4805c",
   "metadata": {},
   "source": [
    "## 4. Steps to Use a Function Inside Another Function\n",
    "- Step 1: Define the First Function\n",
    "\n",
    "Start by defining the helper function that will be used inside another function."
   ]
  },
  {
   "cell_type": "code",
   "execution_count": 6,
   "id": "230ace4f",
   "metadata": {},
   "outputs": [],
   "source": [
    "def helper_function(param):\n",
    "    # Perform a task\n",
    "    result = param * param\n",
    "    return result\n"
   ]
  },
  {
   "cell_type": "markdown",
   "id": "3f031c45",
   "metadata": {},
   "source": [
    "- Step 2: Define the Main Function\n",
    "\n",
    "Now, define the main function where the helper function will be used."
   ]
  },
  {
   "cell_type": "code",
   "execution_count": 7,
   "id": "5d0e92a7",
   "metadata": {},
   "outputs": [],
   "source": [
    "def main_function(param1, param2):\n",
    "    # Use the helper_function\n",
    "    result = helper_function(param1) + helper_function(param2)\n",
    "    return result\n"
   ]
  },
  {
   "cell_type": "markdown",
   "id": "e413d7e8",
   "metadata": {},
   "source": [
    "- Step 3: Call the Main Function\n",
    "\n",
    "Test your main function by calling it and passing appropriate arguments."
   ]
  },
  {
   "cell_type": "code",
   "execution_count": 8,
   "id": "771f3fe8",
   "metadata": {},
   "outputs": [
    {
     "name": "stdout",
     "output_type": "stream",
     "text": [
      "25\n"
     ]
    }
   ],
   "source": [
    "main_result = main_function(3, 4)\n",
    "print(main_result)"
   ]
  },
  {
   "cell_type": "markdown",
   "id": "c360c04f",
   "metadata": {},
   "source": [
    "## 5. Another Example: Nested Function Calls\n",
    "Let's explore a scenario where we calculate the distance between two points using helper functions for clarity:"
   ]
  },
  {
   "cell_type": "code",
   "execution_count": 9,
   "id": "8db16995",
   "metadata": {},
   "outputs": [
    {
     "name": "stdout",
     "output_type": "stream",
     "text": [
      "Distance between the points: 5.0\n"
     ]
    }
   ],
   "source": [
    "import math\n",
    "\n",
    "# Function to calculate the square of the difference between two numbers\n",
    "def diff_square(x, y):\n",
    "    return square(x - y)\n",
    "\n",
    "# Function to calculate the distance between two points (x1, y1) and (x2, y2)\n",
    "def calculate_distance(x1, y1, x2, y2):\n",
    "    return math.sqrt(diff_square(x1, x2) + diff_square(y1, y2))\n",
    "\n",
    "# Testing the distance function\n",
    "distance = calculate_distance(1, 2, 4, 6)\n",
    "print(\"Distance between the points:\", distance)\n"
   ]
  },
  {
   "cell_type": "markdown",
   "id": "dc47dc7c",
   "metadata": {},
   "source": [
    "- diff_square(x, y): Calculates the square of the difference between two numbers.\n",
    "- calculate_distance(x1, y1, x2, y2): Uses diff_square() for the x and y coordinates and then finds the Euclidean distance between the two points using the formula  √((x2 – x1)² + (y2 – y1)²). \n",
    "- Result is the distance between points (1, 2) and (4, 6)."
   ]
  },
  {
   "cell_type": "markdown",
   "id": "fe06632f",
   "metadata": {},
   "source": [
    "## 6. Conclusion\n",
    "Using functions within other functions enhances the readability and maintainability of the code. It enables breaking down tasks into smaller, reusable components, which leads to better structured programs.\n",
    "\n"
   ]
  },
  {
   "cell_type": "code",
   "execution_count": null,
   "id": "a429fb45",
   "metadata": {},
   "outputs": [],
   "source": []
  }
 ],
 "metadata": {
  "kernelspec": {
   "display_name": "Python 3 (ipykernel)",
   "language": "python",
   "name": "python3"
  },
  "language_info": {
   "codemirror_mode": {
    "name": "ipython",
    "version": 3
   },
   "file_extension": ".py",
   "mimetype": "text/x-python",
   "name": "python",
   "nbconvert_exporter": "python",
   "pygments_lexer": "ipython3",
   "version": "3.9.6"
  }
 },
 "nbformat": 4,
 "nbformat_minor": 5
}
