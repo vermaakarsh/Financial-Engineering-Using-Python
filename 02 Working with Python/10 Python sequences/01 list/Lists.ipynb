{
 "cells": [
  {
   "cell_type": "markdown",
   "id": "bb0bb886",
   "metadata": {},
   "source": [
    "# Lists"
   ]
  },
  {
   "cell_type": "markdown",
   "id": "78ab7a4a",
   "metadata": {},
   "source": [
    "## 1. Introduction to Lists\n",
    "\n",
    "Lists are one of the most powerful data types in Python. A list is a collection of items that are ordered and changeable. Lists allow duplicate elements and are defined by square brackets `[]`.\n",
    "\n"
   ]
  },
  {
   "cell_type": "code",
   "execution_count": 1,
   "id": "03f99bda",
   "metadata": {},
   "outputs": [],
   "source": [
    "my_list = [1, 2, 3, 4, 5]"
   ]
  },
  {
   "cell_type": "markdown",
   "id": "65fa11d6",
   "metadata": {},
   "source": [
    "## 2. Creating Lists\n",
    "\n",
    "Lists in Python can contain any type of item such as numbers, strings, and even other lists (nested lists)."
   ]
  },
  {
   "cell_type": "code",
   "execution_count": 2,
   "id": "83ffe6ed",
   "metadata": {},
   "outputs": [
    {
     "name": "stdout",
     "output_type": "stream",
     "text": [
      "[1, 2, 3, 4, 5]\n",
      "['apple', 'banana', 'cherry']\n",
      "[1, 'apple', 3.5, True]\n",
      "[1, [2, 3], [4, 5]]\n"
     ]
    }
   ],
   "source": [
    "# Creating different types of lists\n",
    "numbers = [1, 2, 3, 4, 5]\n",
    "strings = [\"apple\", \"banana\", \"cherry\"]\n",
    "mixed = [1, \"apple\", 3.5, True]\n",
    "nested_list = [1, [2, 3], [4, 5]]\n",
    "\n",
    "print(numbers)\n",
    "print(strings)\n",
    "print(mixed)\n",
    "print(nested_list)\n"
   ]
  },
  {
   "cell_type": "markdown",
   "id": "1874812f",
   "metadata": {},
   "source": [
    "## 3. Accessing List Elements\n",
    "\n",
    "You can access list items using their index. Indexing in Python starts from 0, meaning the first item has an index of 0."
   ]
  },
  {
   "cell_type": "code",
   "execution_count": 3,
   "id": "36f6ec27",
   "metadata": {},
   "outputs": [
    {
     "name": "stdout",
     "output_type": "stream",
     "text": [
      "apple\n",
      "banana\n",
      "cherry\n"
     ]
    }
   ],
   "source": [
    "# Accessing list elements by index\n",
    "fruits = [\"apple\", \"banana\", \"cherry\"]\n",
    "print(fruits[0])  # First item\n",
    "print(fruits[1])  # Second item\n",
    "print(fruits[-1]) # Last item (negative indexing)\n"
   ]
  },
  {
   "cell_type": "markdown",
   "id": "ab0dcede",
   "metadata": {},
   "source": [
    "## 4. Modifying Lists\n",
    "Lists are mutable, meaning you can change the value of an element using its index. You can also append, insert, and remove elements."
   ]
  },
  {
   "cell_type": "code",
   "execution_count": 4,
   "id": "96bd8a07",
   "metadata": {},
   "outputs": [
    {
     "name": "stdout",
     "output_type": "stream",
     "text": [
      "['apple', 'orange', 'cherry']\n",
      "['apple', 'orange', 'cherry', 'grape']\n",
      "['apple', 'mango', 'orange', 'cherry', 'grape']\n"
     ]
    }
   ],
   "source": [
    "# Modifying a list\n",
    "fruits = [\"apple\", \"banana\", \"cherry\"]\n",
    "fruits[1] = \"orange\"  # Change \"banana\" to \"orange\"\n",
    "print(fruits)\n",
    "\n",
    "# Appending to a list\n",
    "fruits.append(\"grape\")\n",
    "print(fruits)\n",
    "\n",
    "# Inserting into a list\n",
    "fruits.insert(1, \"mango\")  # Insert \"mango\" at index 1\n",
    "print(fruits)\n"
   ]
  },
  {
   "cell_type": "markdown",
   "id": "b85b7e4e",
   "metadata": {},
   "source": [
    "## 5. Removing Elements from a List\n",
    "\n",
    "You can remove items from a list using methods like remove(), pop(), or del. The clear() method can remove all items from the list."
   ]
  },
  {
   "cell_type": "code",
   "execution_count": 5,
   "id": "e1c82d9a",
   "metadata": {},
   "outputs": [
    {
     "name": "stdout",
     "output_type": "stream",
     "text": [
      "['apple', 'cherry', 'orange', 'mango']\n",
      "['apple', 'cherry', 'mango']\n",
      "Popped item: orange\n",
      "['apple', 'mango']\n",
      "[]\n"
     ]
    }
   ],
   "source": [
    "# Removing items\n",
    "fruits = [\"apple\", \"banana\", \"cherry\", \"orange\", \"mango\"]\n",
    "fruits.remove(\"banana\")  # Remove by value\n",
    "print(fruits)\n",
    "\n",
    "popped_item = fruits.pop(2)  # Remove by index\n",
    "print(fruits)\n",
    "print(\"Popped item:\", popped_item)\n",
    "\n",
    "del fruits[1]  # Delete by index\n",
    "print(fruits)\n",
    "\n",
    "# Clear the entire list\n",
    "fruits.clear()\n",
    "print(fruits)  # Output will be an empty list\n"
   ]
  },
  {
   "cell_type": "markdown",
   "id": "05f9b4b0",
   "metadata": {},
   "source": [
    "## 6. List Operations\n",
    "You can perform various operations on lists, such as concatenation, repetition, and checking for the existence of an element.\n"
   ]
  },
  {
   "cell_type": "code",
   "execution_count": 6,
   "id": "a86b367e",
   "metadata": {},
   "outputs": [
    {
     "name": "stdout",
     "output_type": "stream",
     "text": [
      "Concatenated list: [1, 2, 3, 4, 5, 6]\n",
      "Repeated list: [0, 0, 0, 0, 0]\n",
      "True\n",
      "False\n"
     ]
    }
   ],
   "source": [
    "# Concatenation\n",
    "list1 = [1, 2, 3]\n",
    "list2 = [4, 5, 6]\n",
    "combined = list1 + list2\n",
    "print(\"Concatenated list:\", combined)\n",
    "\n",
    "# Repetition\n",
    "repeated_list = [0] * 5\n",
    "print(\"Repeated list:\", repeated_list)\n",
    "\n",
    "# Checking if an element exists\n",
    "print(3 in combined)\n",
    "print(7 in combined)\n"
   ]
  },
  {
   "cell_type": "markdown",
   "id": "810c0fc3",
   "metadata": {},
   "source": [
    "## 7. List Slicing\n",
    "\n",
    "You can use slicing to get a portion of the list by specifying start and end indices. The syntax for slicing is list[start:end]."
   ]
  },
  {
   "cell_type": "code",
   "execution_count": 7,
   "id": "a8d729d4",
   "metadata": {},
   "outputs": [
    {
     "name": "stdout",
     "output_type": "stream",
     "text": [
      "[20, 30, 40]\n",
      "[10, 20, 30]\n",
      "[40, 50, 60, 70]\n",
      "[50, 60, 70]\n"
     ]
    }
   ],
   "source": [
    "# Slicing a list\n",
    "numbers = [10, 20, 30, 40, 50, 60, 70]\n",
    "print(numbers[1:4])   # Items from index 1 to 3\n",
    "print(numbers[:3])    # First 3 items\n",
    "print(numbers[3:])    # Items from index 3 to the end\n",
    "print(numbers[-3:])   # Last 3 items\n"
   ]
  },
  {
   "cell_type": "markdown",
   "id": "b7389b65",
   "metadata": {},
   "source": [
    "## 8. Looping Through Lists\n",
    "\n",
    "You can loop through a list using a for loop to access each element one by one."
   ]
  },
  {
   "cell_type": "code",
   "execution_count": 8,
   "id": "f1f3de30",
   "metadata": {},
   "outputs": [
    {
     "name": "stdout",
     "output_type": "stream",
     "text": [
      "apple\n",
      "banana\n",
      "cherry\n",
      "orange\n"
     ]
    }
   ],
   "source": [
    "# Looping through a list\n",
    "fruits = [\"apple\", \"banana\", \"cherry\", \"orange\"]\n",
    "for fruit in fruits:\n",
    "    print(fruit)"
   ]
  },
  {
   "cell_type": "markdown",
   "id": "ac7b9ec9",
   "metadata": {},
   "source": [
    "## 9. List Comprehension\n",
    "\n",
    "List comprehension provides a concise way to create lists. It is a powerful and fast technique for creating new lists by applying expressions to existing lists.\n",
    "\n"
   ]
  },
  {
   "cell_type": "code",
   "execution_count": 9,
   "id": "6d4b8431",
   "metadata": {},
   "outputs": [
    {
     "name": "stdout",
     "output_type": "stream",
     "text": [
      "[1, 4, 9, 16, 25]\n",
      "[0, 2, 4, 6, 8]\n"
     ]
    }
   ],
   "source": [
    "# List comprehension example: creating a list of squares\n",
    "squares = [x**2 for x in range(1, 6)]\n",
    "print(squares)\n",
    "\n",
    "# Conditional list comprehension: even numbers\n",
    "even_numbers = [x for x in range(10) if x % 2 == 0]\n",
    "print(even_numbers)\n"
   ]
  },
  {
   "cell_type": "markdown",
   "id": "0672a748",
   "metadata": {},
   "source": [
    "## 10. Common List Methods\n",
    "Here are some common list methods:\n",
    "\n",
    "- append(): Adds an element to the end of the list.\n",
    "- insert(): Adds an element at a specified index.\n",
    "- remove(): Removes the first occurrence of an element.\n",
    "- pop(): Removes and returns the element at the specified index.\n",
    "- clear(): Removes all elements from the list.\n",
    "- sort(): Sorts the list in ascending order.\n",
    "- reverse(): Reverses the elements of the list."
   ]
  },
  {
   "cell_type": "code",
   "execution_count": 10,
   "id": "de59312a",
   "metadata": {},
   "outputs": [
    {
     "name": "stdout",
     "output_type": "stream",
     "text": [
      "After append: [4, 2, 7, 1, 9, 5]\n",
      "After sort: [1, 2, 4, 5, 7, 9]\n",
      "After reverse: [9, 7, 5, 4, 2, 1]\n"
     ]
    }
   ],
   "source": [
    "# Demonstrating common list methods\n",
    "numbers = [4, 2, 7, 1, 9]\n",
    "\n",
    "numbers.append(5)\n",
    "print(\"After append:\", numbers)\n",
    "\n",
    "numbers.sort()\n",
    "print(\"After sort:\", numbers)\n",
    "\n",
    "numbers.reverse()\n",
    "print(\"After reverse:\", numbers)\n"
   ]
  },
  {
   "cell_type": "markdown",
   "id": "5022c6ea",
   "metadata": {},
   "source": [
    "## 11. Nested Lists\n",
    "A list can contain other lists, which allows for more complex data structures. These are called nested lists."
   ]
  },
  {
   "cell_type": "code",
   "execution_count": 11,
   "id": "82e328f7",
   "metadata": {},
   "outputs": [
    {
     "name": "stdout",
     "output_type": "stream",
     "text": [
      "[4, 5, 6]\n",
      "6\n"
     ]
    }
   ],
   "source": [
    "# Example of nested lists\n",
    "nested_list = [[1, 2, 3], [4, 5, 6], [7, 8, 9]]\n",
    "\n",
    "# Accessing elements in a nested list\n",
    "print(nested_list[1])    # Second sub-list\n",
    "print(nested_list[1][2]) # Third element in the second sub-list\n"
   ]
  },
  {
   "cell_type": "markdown",
   "id": "8197b4fc",
   "metadata": {},
   "source": [
    "## 12. Conclusion\n",
    "\n",
    "Lists are one of the most versatile data structures in Python. They allow you to store collections of data, modify them, and access their elements in various ways. Understanding lists is crucial for working with data in Python.\n",
    "\n"
   ]
  },
  {
   "cell_type": "code",
   "execution_count": null,
   "id": "b382683e",
   "metadata": {},
   "outputs": [],
   "source": []
  }
 ],
 "metadata": {
  "kernelspec": {
   "display_name": "Python 3 (ipykernel)",
   "language": "python",
   "name": "python3"
  },
  "language_info": {
   "codemirror_mode": {
    "name": "ipython",
    "version": 3
   },
   "file_extension": ".py",
   "mimetype": "text/x-python",
   "name": "python",
   "nbconvert_exporter": "python",
   "pygments_lexer": "ipython3",
   "version": "3.9.6"
  }
 },
 "nbformat": 4,
 "nbformat_minor": 5
}
