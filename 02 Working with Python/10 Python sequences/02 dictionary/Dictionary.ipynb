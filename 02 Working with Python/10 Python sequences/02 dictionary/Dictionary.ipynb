{
 "cells": [
  {
   "cell_type": "markdown",
   "id": "5643eeab",
   "metadata": {},
   "source": [
    "# Dictionaries\n",
    "## 1. Introduction to Dictionaries\n",
    "A dictionary in Python is an unordered, mutable collection that holds data in key-value pairs. Dictionaries are defined using curly braces {} with keys and values separated by a colon :.\n",
    "\n",
    "### Key Points:\n",
    "- Keys must be unique and immutable (like strings, numbers, or tuples).\n",
    "- Values can be of any data type and are mutable."
   ]
  },
  {
   "cell_type": "code",
   "execution_count": 1,
   "id": "42943ac6",
   "metadata": {},
   "outputs": [
    {
     "name": "stdout",
     "output_type": "stream",
     "text": [
      "{'name': 'John Doe', 'age': 20, 'course': 'Computer Science'}\n"
     ]
    }
   ],
   "source": [
    "# Defining a dictionary\n",
    "student = {\n",
    "    \"name\": \"John Doe\",\n",
    "    \"age\": 20,\n",
    "    \"course\": \"Computer Science\"\n",
    "}\n",
    "print(student)\n"
   ]
  },
  {
   "cell_type": "markdown",
   "id": "153e72ed",
   "metadata": {},
   "source": [
    "## 2. Accessing Dictionary Values\n",
    "You can access a dictionary's value using its corresponding key."
   ]
  },
  {
   "cell_type": "code",
   "execution_count": 2,
   "id": "3209504a",
   "metadata": {},
   "outputs": [
    {
     "name": "stdout",
     "output_type": "stream",
     "text": [
      "John Doe\n",
      "20\n"
     ]
    }
   ],
   "source": [
    "# Accessing the value associated with a key\n",
    "print(student[\"name\"])  # Output: John Doe\n",
    "print(student[\"age\"])   # Output: 20\n"
   ]
  },
  {
   "cell_type": "markdown",
   "id": "36929108",
   "metadata": {},
   "source": [
    "- Use square brackets `[]` to retrieve the value associated with a specific key.\n",
    "- If the key doesn't exist, Python will raise a KeyError. Alternatively, you can use the `get()` method, which returns None if the key doesn't exist."
   ]
  },
  {
   "cell_type": "code",
   "execution_count": 3,
   "id": "d2031bda",
   "metadata": {},
   "outputs": [
    {
     "name": "stdout",
     "output_type": "stream",
     "text": [
      "None\n"
     ]
    }
   ],
   "source": [
    "print(student.get(\"grade\"))  # Output: None"
   ]
  },
  {
   "cell_type": "markdown",
   "id": "b7267c74",
   "metadata": {},
   "source": [
    "## 3. Modifying Dictionaries\n",
    "Dictionaries are mutable, meaning you can modify them by adding, updating, or deleting key-value pairs.\n",
    "\n",
    "### Adding/Updating Values:"
   ]
  },
  {
   "cell_type": "code",
   "execution_count": 4,
   "id": "b60e2ba5",
   "metadata": {},
   "outputs": [
    {
     "name": "stdout",
     "output_type": "stream",
     "text": [
      "{'name': 'John Doe', 'age': 21, 'course': 'Computer Science', 'grade': 'A'}\n"
     ]
    }
   ],
   "source": [
    "# Adding a new key-value pair\n",
    "student[\"grade\"] = \"A\"\n",
    "\n",
    "# Updating an existing value\n",
    "student[\"age\"] = 21\n",
    "\n",
    "print(student)\n"
   ]
  },
  {
   "cell_type": "markdown",
   "id": "b00f29e0",
   "metadata": {},
   "source": [
    "### Deleting a Key-Value Pair:\n"
   ]
  },
  {
   "cell_type": "code",
   "execution_count": 5,
   "id": "6f745a4b",
   "metadata": {},
   "outputs": [
    {
     "name": "stdout",
     "output_type": "stream",
     "text": [
      "{'name': 'John Doe', 'age': 21, 'grade': 'A'}\n"
     ]
    }
   ],
   "source": [
    "# Using the del keyword\n",
    "del student[\"course\"]\n",
    "print(student)\n"
   ]
  },
  {
   "cell_type": "markdown",
   "id": "9c466075",
   "metadata": {},
   "source": [
    "- To add a new key-value pair or update an existing one, use the assignment operator (=).\n",
    "- Use the del keyword to remove a key-value pair from the dictionary."
   ]
  },
  {
   "cell_type": "markdown",
   "id": "f1bfdcf9",
   "metadata": {},
   "source": [
    "## 4. Dictionary Methods\n",
    "Python provides several built-in methods to work with dictionaries.\n",
    "\n",
    "### Common Methods:\n",
    "- keys(): Returns a view object containing the dictionary’s keys.\n",
    "- values(): Returns a view object containing the dictionary’s values.\n",
    "- items(): Returns a view object containing the dictionary’s key-value pairs as tuples.\n",
    "- pop(): Removes the specified key and returns its value.\n",
    "- update(): Updates the dictionary with key-value pairs from another dictionary."
   ]
  },
  {
   "cell_type": "code",
   "execution_count": 6,
   "id": "bfdaf9f0",
   "metadata": {},
   "outputs": [
    {
     "name": "stdout",
     "output_type": "stream",
     "text": [
      "dict_keys(['name', 'age', 'grade'])\n",
      "dict_values(['John Doe', 21, 'A'])\n"
     ]
    }
   ],
   "source": [
    "# Getting all keys, values, and items\n",
    "print(student.keys())    # Output: dict_keys(['name', 'age', 'grade'])\n",
    "print(student.values())  # Output: dict_values(['John Doe', 21, 'A'])\n"
   ]
  },
  {
   "cell_type": "markdown",
   "id": "b6427990",
   "metadata": {},
   "source": [
    "- popitem():\n",
    "\n",
    "Removes and returns the last inserted key-value pair as a tuple. This is useful when you need to remove items in a LIFO (Last In First Out) manner."
   ]
  },
  {
   "cell_type": "code",
   "execution_count": null,
   "id": "51a7d509",
   "metadata": {},
   "outputs": [],
   "source": [
    "# Removing the last inserted item\n",
    "last_item = student.popitem()\n",
    "print(last_item)      # Output: ('grade', 'A')\n",
    "print(student)        # Output: {'name': 'John Doe', 'age': 21}\n"
   ]
  },
  {
   "cell_type": "markdown",
   "id": "999a6d4c",
   "metadata": {},
   "source": [
    "- clear(): \n",
    "\n",
    "Removes all items from the dictionary, leaving it empty."
   ]
  },
  {
   "cell_type": "code",
   "execution_count": 7,
   "id": "3c6bf442",
   "metadata": {},
   "outputs": [
    {
     "name": "stdout",
     "output_type": "stream",
     "text": [
      "{}\n"
     ]
    }
   ],
   "source": [
    "# Clearing the dictionary\n",
    "student.clear()\n",
    "print(student)        # Output: {}\n"
   ]
  },
  {
   "cell_type": "markdown",
   "id": "07f7df00",
   "metadata": {},
   "source": [
    "- copy():\n",
    "\n",
    "Returns a shallow copy of the dictionary, meaning changes in the copied dictionary won’t affect the original."
   ]
  },
  {
   "cell_type": "code",
   "execution_count": 8,
   "id": "38308b14",
   "metadata": {},
   "outputs": [
    {
     "name": "stdout",
     "output_type": "stream",
     "text": [
      "{}\n"
     ]
    }
   ],
   "source": [
    "# Copying the dictionary\n",
    "student_copy = student.copy()\n",
    "print(student_copy)\n"
   ]
  },
  {
   "cell_type": "markdown",
   "id": "bf6ed1cb",
   "metadata": {},
   "source": [
    "- fromkeys():\n",
    "\n",
    "Creates a new dictionary with keys from an iterable and a specified value (or None if no value is provided)."
   ]
  },
  {
   "cell_type": "code",
   "execution_count": 9,
   "id": "516fec4c",
   "metadata": {},
   "outputs": [
    {
     "name": "stdout",
     "output_type": "stream",
     "text": [
      "{'name': 'Unknown', 'age': 'Unknown', 'grade': 'Unknown'}\n"
     ]
    }
   ],
   "source": [
    "# Creating a dictionary from keys\n",
    "keys = ['name', 'age', 'grade']\n",
    "new_dict = dict.fromkeys(keys, \"Unknown\")\n",
    "print(new_dict)       # Output: {'name': 'Unknown', 'age': 'Unknown', 'grade': 'Unknown'}\n"
   ]
  },
  {
   "cell_type": "markdown",
   "id": "7a53a46c",
   "metadata": {},
   "source": [
    "- setdefault():\n",
    "\n",
    "Returns the value of a key if it exists. If the key does not exist, it adds the key with a default value."
   ]
  },
  {
   "cell_type": "code",
   "execution_count": 10,
   "id": "33093911",
   "metadata": {},
   "outputs": [
    {
     "name": "stdout",
     "output_type": "stream",
     "text": [
      "22\n"
     ]
    }
   ],
   "source": [
    "# Using setdefault() to avoid KeyError\n",
    "age = student.setdefault('age', 22)\n",
    "print(age)            # Output: 21 (because 'age' exists)\n"
   ]
  },
  {
   "cell_type": "markdown",
   "id": "6bd7226d",
   "metadata": {},
   "source": [
    "## 5. Looping Through a Dictionary\n",
    "Dictionaries can be looped through using different methods, depending on what part of the dictionary you want to access: keys, values, or both key-value pairs.\n",
    "\n",
    "- Looping through Keys:"
   ]
  },
  {
   "cell_type": "code",
   "execution_count": 16,
   "id": "a5dc351b",
   "metadata": {},
   "outputs": [
    {
     "name": "stdout",
     "output_type": "stream",
     "text": [
      "age\n",
      "grade\n",
      "name\n",
      "course\n"
     ]
    }
   ],
   "source": [
    "student = {'age':20, 'grade': 'A', 'name': 'John Doe', 'course': 'Computer Science'}\n",
    "\n",
    "# Iterating through dictionary keys\n",
    "for key in student.keys():\n",
    "    print(key)\n"
   ]
  },
  {
   "cell_type": "markdown",
   "id": "f514d5cc",
   "metadata": {},
   "source": [
    "- looping thorugh dictionary values: "
   ]
  },
  {
   "cell_type": "code",
   "execution_count": 17,
   "id": "2a3a9b5f",
   "metadata": {},
   "outputs": [
    {
     "name": "stdout",
     "output_type": "stream",
     "text": [
      "20\n",
      "A\n",
      "John Doe\n",
      "Computer Science\n"
     ]
    }
   ],
   "source": [
    "# Iterating through dictionary values\n",
    "for value in student.values():\n",
    "    print(value)\n"
   ]
  },
  {
   "cell_type": "markdown",
   "id": "f0235e88",
   "metadata": {},
   "source": [
    "- Looping through Key-Value Pairs:\n",
    "\n"
   ]
  },
  {
   "cell_type": "code",
   "execution_count": 18,
   "id": "463f8273",
   "metadata": {},
   "outputs": [
    {
     "name": "stdout",
     "output_type": "stream",
     "text": [
      "age: 20\n",
      "grade: A\n",
      "name: John Doe\n",
      "course: Computer Science\n"
     ]
    }
   ],
   "source": [
    "# Iterating through key-value pairs\n",
    "for key, value in student.items():\n",
    "    print(f\"{key}: {value}\")\n"
   ]
  },
  {
   "cell_type": "markdown",
   "id": "bde4d2f7",
   "metadata": {},
   "source": [
    "## 6. Dictionary Comprehension\n",
    "Dictionary comprehension is a concise way to create dictionaries from iterables. It’s similar to list comprehensions but instead creates a dictionary.\n"
   ]
  },
  {
   "cell_type": "code",
   "execution_count": 19,
   "id": "03665d30",
   "metadata": {},
   "outputs": [
    {
     "name": "stdout",
     "output_type": "stream",
     "text": [
      "{1: 1, 2: 4, 3: 9, 4: 16, 5: 25}\n"
     ]
    }
   ],
   "source": [
    "# Dictionary comprehension example\n",
    "squares = {x: x*x for x in range(1, 6)}\n",
    "print(squares)  # Output: {1: 1, 2: 4, 3: 9, 4: 16, 5: 25}\n"
   ]
  },
  {
   "cell_type": "markdown",
   "id": "7d57d2fa",
   "metadata": {},
   "source": [
    "- Conditionally Adding Key-Value Pairs:"
   ]
  },
  {
   "cell_type": "code",
   "execution_count": 20,
   "id": "ccb1ec7c",
   "metadata": {},
   "outputs": [
    {
     "name": "stdout",
     "output_type": "stream",
     "text": [
      "{2: 4, 4: 16, 6: 36, 8: 64, 10: 100}\n"
     ]
    }
   ],
   "source": [
    "# Dictionary comprehension with condition\n",
    "even_squares = {x: x*x for x in range(1, 11) if x % 2 == 0}\n",
    "print(even_squares)  # Output: {2: 4, 4: 16, 6: 36, 8: 64, 10: 100}\n"
   ]
  },
  {
   "cell_type": "markdown",
   "id": "25e1ee8b",
   "metadata": {},
   "source": [
    "## 7. Nested Dictionaries\n",
    "A dictionary can contain other dictionaries as its values, which is useful for representing structured or hierarchical data.\n",
    "\n",
    "Example of Nested Dictionary:"
   ]
  },
  {
   "cell_type": "code",
   "execution_count": 21,
   "id": "5d3e263c",
   "metadata": {},
   "outputs": [
    {
     "name": "stdout",
     "output_type": "stream",
     "text": [
      "{'student1': {'name': 'John', 'age': 20}, 'student2': {'name': 'Jane', 'age': 22}}\n"
     ]
    }
   ],
   "source": [
    "# Nested dictionary example\n",
    "student_data = {\n",
    "    \"student1\": {\n",
    "        \"name\": \"John\",\n",
    "        \"age\": 20\n",
    "    },\n",
    "    \"student2\": {\n",
    "        \"name\": \"Jane\",\n",
    "        \"age\": 22\n",
    "    }\n",
    "}\n",
    "print(student_data)\n"
   ]
  },
  {
   "cell_type": "markdown",
   "id": "2ec61d14",
   "metadata": {},
   "source": [
    "- Accessing Values in a Nested Dictionary:\n",
    "\n"
   ]
  },
  {
   "cell_type": "code",
   "execution_count": 22,
   "id": "b313c01e",
   "metadata": {},
   "outputs": [
    {
     "name": "stdout",
     "output_type": "stream",
     "text": [
      "John\n"
     ]
    }
   ],
   "source": [
    "# Accessing nested dictionary values\n",
    "print(student_data[\"student1\"][\"name\"])  # Output: John\n"
   ]
  },
  {
   "cell_type": "markdown",
   "id": "b2c7d493",
   "metadata": {},
   "source": [
    "- Adding/Modifying Values in a Nested Dictionary:\n",
    "\n"
   ]
  },
  {
   "cell_type": "code",
   "execution_count": 23,
   "id": "a5c231a7",
   "metadata": {},
   "outputs": [
    {
     "name": "stdout",
     "output_type": "stream",
     "text": [
      "{'name': 'John', 'age': 21}\n"
     ]
    }
   ],
   "source": [
    "# Modifying nested dictionary values\n",
    "student_data[\"student1\"][\"age\"] = 21\n",
    "print(student_data[\"student1\"])  # Output: {'name': 'John', 'age': 21}\n"
   ]
  },
  {
   "cell_type": "markdown",
   "id": "e5a69088",
   "metadata": {},
   "source": [
    "## 8. Merging Dictionaries\n",
    "You can merge two or more dictionaries using the update() method or the ** operator.\n",
    "\n",
    "### Using update() Method:"
   ]
  },
  {
   "cell_type": "code",
   "execution_count": 26,
   "id": "da201eb2",
   "metadata": {},
   "outputs": [
    {
     "name": "stdout",
     "output_type": "stream",
     "text": [
      "{'name': 'Akarsh', 'age': 25, 'course': 'Financial Programming', 'grade': 'A'}\n"
     ]
    }
   ],
   "source": [
    "# Merging dictionaries using update()\n",
    "dict1 = {\"name\": \"Akarsh\", \"age\": 25}\n",
    "dict2 = {\"course\": \"Financial Programming\", \"grade\": \"A\"}\n",
    "\n",
    "dict1.update(dict2)\n",
    "print(dict1)  # Output: {'name': 'Alice', 'age': 25, 'course': 'Data Science', 'grade': 'A'}\n"
   ]
  },
  {
   "cell_type": "markdown",
   "id": "14316093",
   "metadata": {},
   "source": [
    "### Using the ** Operator:"
   ]
  },
  {
   "cell_type": "code",
   "execution_count": 27,
   "id": "66ee9b74",
   "metadata": {},
   "outputs": [
    {
     "name": "stdout",
     "output_type": "stream",
     "text": [
      "{'name': 'Akarsh', 'age': 25, 'course': 'Financial Programming', 'grade': 'A'}\n"
     ]
    }
   ],
   "source": [
    "# Merging dictionaries using the ** operator\n",
    "merged_dict = {**dict1, **dict2}\n",
    "print(merged_dict)  # Output: {'name': 'Alice', 'age': 25, 'course': 'Data Science', 'grade': 'A'}\n"
   ]
  },
  {
   "cell_type": "markdown",
   "id": "bad9d211",
   "metadata": {},
   "source": [
    "## 9. Handling Missing Keys in Dictionaries\n",
    "Handling missing keys in dictionaries is essential to avoid KeyError. You can do this with the get() method or setdefault().\n",
    "\n",
    "### Using get():\n",
    "\n",
    "\n"
   ]
  },
  {
   "cell_type": "code",
   "execution_count": 28,
   "id": "aad51778",
   "metadata": {},
   "outputs": [
    {
     "name": "stdout",
     "output_type": "stream",
     "text": [
      "Not Found\n"
     ]
    }
   ],
   "source": [
    "# Safe key access using get()\n",
    "print(student.get(\"address\", \"Not Found\"))  # Output: Not Found\n"
   ]
  },
  {
   "cell_type": "markdown",
   "id": "1a5b0319",
   "metadata": {},
   "source": [
    "### Using setdefault():\n",
    "\n"
   ]
  },
  {
   "cell_type": "code",
   "execution_count": 30,
   "id": "f613980c",
   "metadata": {},
   "outputs": [
    {
     "name": "stdout",
     "output_type": "stream",
     "text": [
      "{'age': 20, 'grade': 'A', 'name': 'John Doe', 'course': 'Computer Science', 'address': 'Unknown'}\n"
     ]
    }
   ],
   "source": [
    "# Adding default value if key doesn't exist\n",
    "student.setdefault(\"address\", \"Unknown\")\n",
    "print(student)  # Output: {'name': 'John Doe', 'age': 21, 'grade': 'A', 'address': 'Unknown'}\n"
   ]
  },
  {
   "cell_type": "markdown",
   "id": "1a3bbbd4",
   "metadata": {},
   "source": [
    "## 10. Use Cases of Dictionaries\n",
    "Dictionaries are incredibly versatile and are used for various purposes in Python programming, such as:\n",
    "\n",
    "### Storing User Data: User profiles, settings, or preferences."
   ]
  },
  {
   "cell_type": "code",
   "execution_count": 31,
   "id": "6ab7f06b",
   "metadata": {},
   "outputs": [],
   "source": [
    "# User profile example\n",
    "user_profile = {\n",
    "    \"username\": \"johndoe\",\n",
    "    \"email\": \"john@example.com\",\n",
    "    \"preferences\": {\n",
    "        \"theme\": \"dark\",\n",
    "        \"notifications\": True\n",
    "    }\n",
    "}\n"
   ]
  },
  {
   "cell_type": "markdown",
   "id": "f67fb31b",
   "metadata": {},
   "source": [
    "###  Counting Occurrences: Counting the frequency of elements in a list.\n",
    "\n"
   ]
  },
  {
   "cell_type": "code",
   "execution_count": 32,
   "id": "560d230d",
   "metadata": {},
   "outputs": [
    {
     "name": "stdout",
     "output_type": "stream",
     "text": [
      "{'red': 1, 'blue': 2, 'green': 3}\n"
     ]
    }
   ],
   "source": [
    "# Frequency count using dictionary\n",
    "colors = [\"red\", \"blue\", \"green\", \"blue\", \"green\", \"green\"]\n",
    "freq = {}\n",
    "\n",
    "for color in colors:\n",
    "    freq[color] = freq.get(color, 0) + 1\n",
    "\n",
    "print(freq)  # Output: {'red': 1, 'blue': 2, 'green': 3}\n"
   ]
  },
  {
   "cell_type": "markdown",
   "id": "29072ed3",
   "metadata": {},
   "source": [
    "### Mapping Relationships: Storing relationships between two items, like mapping employee IDs to names."
   ]
  },
  {
   "cell_type": "code",
   "execution_count": 34,
   "id": "52921617",
   "metadata": {},
   "outputs": [
    {
     "name": "stdout",
     "output_type": "stream",
     "text": [
      "Khoobi\n"
     ]
    }
   ],
   "source": [
    "# Mapping employee IDs to names\n",
    "employees = {101: \"Akarsh\", 102: \"Khoobi\", 103: \"Gaurav\", 104: \"Pratham\"}\n",
    "print(employees[102])  # Output: Khoobi\n"
   ]
  },
  {
   "cell_type": "markdown",
   "id": "6bec05df",
   "metadata": {},
   "source": [
    "### Conclusion\n",
    "Dictionaries are one of the most powerful and versatile data structures in Python. They allow efficient storage and retrieval of data using key-value pairs. Understanding how to use dictionaries, their methods, and advanced techniques like comprehension and nesting, is crucial for handling complex data efficiently in Python."
   ]
  },
  {
   "cell_type": "code",
   "execution_count": null,
   "id": "53d47bf9",
   "metadata": {},
   "outputs": [],
   "source": []
  }
 ],
 "metadata": {
  "kernelspec": {
   "display_name": "Python 3 (ipykernel)",
   "language": "python",
   "name": "python3"
  },
  "language_info": {
   "codemirror_mode": {
    "name": "ipython",
    "version": 3
   },
   "file_extension": ".py",
   "mimetype": "text/x-python",
   "name": "python",
   "nbconvert_exporter": "python",
   "pygments_lexer": "ipython3",
   "version": "3.9.6"
  }
 },
 "nbformat": 4,
 "nbformat_minor": 5
}
