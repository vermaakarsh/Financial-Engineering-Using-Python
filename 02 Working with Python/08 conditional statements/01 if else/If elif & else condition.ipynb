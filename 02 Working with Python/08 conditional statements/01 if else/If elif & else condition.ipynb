{
 "cells": [
  {
   "cell_type": "markdown",
   "id": "0692191a",
   "metadata": {},
   "source": [
    "# Python Basics: If, Elif, Else Conditions\n",
    "\n",
    "## Introduction\n",
    "In Python, conditional statements are used to execute a block of code based on certain conditions. This notebook covers the `if`, `elif`, and `else` statements, which are fundamental for controlling the flow of a program.\n",
    "\n",
    "## Table of Contents\n",
    "1. What are Conditional Statements?\n",
    "2. The `if` Statement\n",
    "3. The `elif` Statement\n",
    "4. The `else` Statement\n",
    "5. Nested Conditional Statements\n",
    "6. Conclusion\n",
    "7. References\n"
   ]
  },
  {
   "cell_type": "markdown",
   "id": "e99a04aa",
   "metadata": {},
   "source": [
    "### 1. What are Conditional Statements?\n",
    "Conditional statements allow a program to make decisions based on conditions. They evaluate a condition and execute a block of code if the condition is true. If the condition is false, the program can either execute another block of code or skip execution altogether.\n"
   ]
  },
  {
   "cell_type": "markdown",
   "id": "485deba4",
   "metadata": {},
   "source": [
    "### 2. The if Statement\n",
    "The `if` statement evaluates a condition. If the condition is true, the block of code under the `if` statement is executed.\n",
    "\n",
    "### Syntax\n",
    "```python\n",
    "if condition:\n",
    "    # code to execute if condition is true\n"
   ]
  },
  {
   "cell_type": "code",
   "execution_count": 2,
   "id": "fc8c84f4",
   "metadata": {},
   "outputs": [
    {
     "name": "stdout",
     "output_type": "stream",
     "text": [
      "x is greater than 5\n"
     ]
    }
   ],
   "source": [
    "x = 10\n",
    "if x > 5:\n",
    "    print(\"x is greater than 5\")\n"
   ]
  },
  {
   "cell_type": "markdown",
   "id": "67a8d77e",
   "metadata": {},
   "source": [
    "\n",
    "### 3. The `elif` Statement\n",
    "```markdown\n",
    "The `elif` (else if) statement allows you to check multiple expressions for `True`. It follows an `if` statement and runs if the preceding `if` condition is false.\n",
    "\n",
    "\n",
    "```python\n",
    "if condition1:\n",
    "    # code to execute if condition1 is true\n",
    "elif condition2:\n",
    "    # code to execute if condition2 is true\n"
   ]
  },
  {
   "cell_type": "code",
   "execution_count": 3,
   "id": "74271d30",
   "metadata": {},
   "outputs": [
    {
     "name": "stdout",
     "output_type": "stream",
     "text": [
      "x is equal to 10\n"
     ]
    }
   ],
   "source": [
    "x = 10\n",
    "if x < 5:\n",
    "    print(\"x is less than 5\")\n",
    "elif x == 10:\n",
    "    print(\"x is equal to 10\")\n"
   ]
  },
  {
   "cell_type": "markdown",
   "id": "43d7dc3d",
   "metadata": {},
   "source": [
    "\n",
    "### 4. The `else` Statement\n",
    "```markdown\n",
    "The `else` statement is an optional final statement that executes if none of the preceding conditions are true.\n",
    "\n",
    "```python\n",
    "if condition1:\n",
    "    # code to execute if condition1 is true\n",
    "else:\n",
    "    # code to execute if condition1 is false\n"
   ]
  },
  {
   "cell_type": "code",
   "execution_count": 4,
   "id": "ec355d5f",
   "metadata": {},
   "outputs": [
    {
     "name": "stdout",
     "output_type": "stream",
     "text": [
      "x is not greater than 5\n"
     ]
    }
   ],
   "source": [
    "x = 3\n",
    "if x > 5:\n",
    "    print(\"x is greater than 5\")\n",
    "else:\n",
    "    print(\"x is not greater than 5\")\n"
   ]
  },
  {
   "cell_type": "markdown",
   "id": "f72fd9ce",
   "metadata": {},
   "source": [
    "\n",
    "### 5. Nested Conditional Statements\n",
    "```markdown\n",
    "You can nest `if`, `elif`, and `else` statements within each other to check multiple layers of conditions.\n",
    "\n",
    "\n",
    "```python\n",
    "x = 15\n",
    "if x > 10:\n",
    "    print(\"x is greater than 10\")\n",
    "    if x > 20:\n",
    "        print(\"x is also greater than 20\")\n",
    "    else:\n",
    "        print(\"x is not greater than 20\")\n",
    "else:\n",
    "    print(\"x is not greater than 10\")\n"
   ]
  },
  {
   "cell_type": "code",
   "execution_count": 5,
   "id": "73b440ef",
   "metadata": {},
   "outputs": [
    {
     "name": "stdout",
     "output_type": "stream",
     "text": [
      "x is greater than 10\n",
      "x is not greater than 20\n"
     ]
    }
   ],
   "source": [
    "x = 15\n",
    "if x > 10:\n",
    "    print(\"x is greater than 10\")\n",
    "    if x > 20:\n",
    "        print(\"x is also greater than 20\")\n",
    "    else:\n",
    "        print(\"x is not greater than 20\")\n",
    "else:\n",
    "    print(\"x is not greater than 10\")"
   ]
  },
  {
   "cell_type": "markdown",
   "id": "fd470323",
   "metadata": {},
   "source": [
    "\n",
    "### 6. Conclusion\n",
    "```markdown\n",
    "In this notebook, we explored the `if`, `elif`, and `else` statements in Python. These conditional statements are essential for controlling the flow of your programs based on various conditions. Understanding these concepts will help you make your code more dynamic and responsive.\n"
   ]
  }
 ],
 "metadata": {
  "kernelspec": {
   "display_name": "Python 3 (ipykernel)",
   "language": "python",
   "name": "python3"
  },
  "language_info": {
   "codemirror_mode": {
    "name": "ipython",
    "version": 3
   },
   "file_extension": ".py",
   "mimetype": "text/x-python",
   "name": "python",
   "nbconvert_exporter": "python",
   "pygments_lexer": "ipython3",
   "version": "3.9.6"
  }
 },
 "nbformat": 4,
 "nbformat_minor": 5
}
