{
 "cells": [
  {
   "cell_type": "markdown",
   "id": "aae94801",
   "metadata": {},
   "source": [
    "## Python Basics - Understanding the Double Equal Sign (==)"
   ]
  },
  {
   "cell_type": "markdown",
   "id": "0772e848",
   "metadata": {},
   "source": [
    "## 1. Introduction\n",
    "What is == in Python?\n",
    "- The == operator in Python is used to check whether two values are equal. It is a comparison operator, meaning it compares two values and returns True if they are equal, otherwise it returns False."
   ]
  },
  {
   "cell_type": "markdown",
   "id": "eec40e4b",
   "metadata": {},
   "source": [
    "## 2. Understanding the Syntax\n",
    "The basic syntax for using the == operator is:"
   ]
  },
  {
   "cell_type": "code",
   "execution_count": null,
   "id": "5f948ca5",
   "metadata": {},
   "outputs": [],
   "source": [
    "value1==value2"
   ]
  },
  {
   "cell_type": "markdown",
   "id": "416a5eb5",
   "metadata": {},
   "source": [
    "- value1: The first value to compare.\n",
    "- value2: The second value to compare.\n",
    "\n",
    "If value1 and value2 are the same, the result will be True; otherwise, it will be False.\n",
    "\n"
   ]
  },
  {
   "cell_type": "markdown",
   "id": "63050f16",
   "metadata": {},
   "source": [
    "## 3. Example 1: Comparing Numbers\n"
   ]
  },
  {
   "cell_type": "code",
   "execution_count": 5,
   "id": "59caffa4",
   "metadata": {},
   "outputs": [
    {
     "name": "stdout",
     "output_type": "stream",
     "text": [
      "True\n",
      "False\n"
     ]
    }
   ],
   "source": [
    "# Example of number comparison\n",
    "a = 10\n",
    "b = 10\n",
    "print(a == b)  # Output: True\n",
    "\n",
    "c = 5\n",
    "d = 8\n",
    "print(c == d)  # Output: False\n"
   ]
  },
  {
   "cell_type": "markdown",
   "id": "a48abb04",
   "metadata": {},
   "source": [
    "- In the first comparison, a and b both have the value 10, so a == b is True.\n",
    "- In the second comparison, c is 5 and d is 8, so c == d is False.\n"
   ]
  },
  {
   "cell_type": "markdown",
   "id": "1744556e",
   "metadata": {},
   "source": [
    "## 4. Example 2: Comparing Strings\n"
   ]
  },
  {
   "cell_type": "code",
   "execution_count": 6,
   "id": "253c9021",
   "metadata": {},
   "outputs": [
    {
     "name": "stdout",
     "output_type": "stream",
     "text": [
      "True\n",
      "False\n"
     ]
    }
   ],
   "source": [
    "# Example of string comparison\n",
    "string1 = \"Hello\"\n",
    "string2 = \"Hello\"\n",
    "print(string1 == string2)  # Output: True\n",
    "\n",
    "string3 = \"World\"\n",
    "print(string1 == string3)  # Output: False\n"
   ]
  },
  {
   "cell_type": "markdown",
   "id": "5dce13a9",
   "metadata": {},
   "source": [
    "- The first comparison checks if \"Hello\" is equal to \"Hello\", which is True.\n",
    "- The second comparison checks if \"Hello\" is equal to \"World\", which is False."
   ]
  },
  {
   "cell_type": "markdown",
   "id": "7c06ed6d",
   "metadata": {},
   "source": [
    "## 5. Example 3: Comparing Lists\n"
   ]
  },
  {
   "cell_type": "code",
   "execution_count": 7,
   "id": "bb36d414",
   "metadata": {},
   "outputs": [
    {
     "name": "stdout",
     "output_type": "stream",
     "text": [
      "True\n",
      "False\n"
     ]
    }
   ],
   "source": [
    "# Example of list comparison\n",
    "list1 = [1, 2, 3]\n",
    "list2 = [1, 2, 3]\n",
    "list3 = [4, 5, 6]\n",
    "\n",
    "print(list1 == list2)  # Output: True\n",
    "print(list1 == list3)  # Output: False\n"
   ]
  },
  {
   "cell_type": "markdown",
   "id": "b271eacb",
   "metadata": {},
   "source": [
    "- list1 and list2 have identical elements in the same order, so list1 == list2 is True.\n",
    "- list1 and list3 have different elements, so list1 == list3 is False."
   ]
  },
  {
   "cell_type": "markdown",
   "id": "2329aa5b",
   "metadata": {},
   "source": [
    "## 6. Example 4: Comparing Boolean Values"
   ]
  },
  {
   "cell_type": "code",
   "execution_count": null,
   "id": "4feaca62",
   "metadata": {},
   "outputs": [],
   "source": [
    "# Example of boolean comparison\n",
    "bool1 = True\n",
    "bool2 = True\n",
    "bool3 = False\n",
    "\n",
    "print(bool1 == bool2)  # Output: True\n",
    "print(bool1 == bool3)  # Output: False\n"
   ]
  },
  {
   "cell_type": "markdown",
   "id": "8c03cb07",
   "metadata": {},
   "source": [
    "- bool1 and bool2 are both True, so the comparison returns True.\n",
    "- bool1 is True and bool3 is False, so the comparison returns False.\n"
   ]
  },
  {
   "cell_type": "markdown",
   "id": "2fd5186f",
   "metadata": {},
   "source": [
    "## 7. Example 5: Comparing Mixed Data Types"
   ]
  },
  {
   "cell_type": "code",
   "execution_count": 8,
   "id": "566a392b",
   "metadata": {},
   "outputs": [
    {
     "name": "stdout",
     "output_type": "stream",
     "text": [
      "False\n"
     ]
    }
   ],
   "source": [
    "# Comparing different data types\n",
    "number = 10\n",
    "string = \"10\"\n",
    "print(number == string)  # Output: False\n"
   ]
  },
  {
   "cell_type": "markdown",
   "id": "46f8988b",
   "metadata": {},
   "source": [
    "In this case, Python compares an integer 10 with a string \"10\". Even though they look similar, their data types are different, so number == string returns False."
   ]
  },
  {
   "cell_type": "markdown",
   "id": "49d60fc2",
   "metadata": {},
   "source": [
    "## 8. Summary\n",
    "The double equal sign == in Python is used for comparing values. It is essential to understand that:\n",
    "\n",
    "- It compares both the value and the data type.\n",
    "- True is returned when both values and data types match.\n",
    "- False is returned otherwise.\n",
    "\n",
    "Use the == operator in situations where you need to check equality between two values, whether numbers, strings, lists, or other data types.\n",
    "\n"
   ]
  }
 ],
 "metadata": {
  "kernelspec": {
   "display_name": "Python 3 (ipykernel)",
   "language": "python",
   "name": "python3"
  },
  "language_info": {
   "codemirror_mode": {
    "name": "ipython",
    "version": 3
   },
   "file_extension": ".py",
   "mimetype": "text/x-python",
   "name": "python",
   "nbconvert_exporter": "python",
   "pygments_lexer": "ipython3",
   "version": "3.9.6"
  }
 },
 "nbformat": 4,
 "nbformat_minor": 5
}
