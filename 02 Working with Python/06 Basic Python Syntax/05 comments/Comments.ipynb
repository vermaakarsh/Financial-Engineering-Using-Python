{
 "cells": [
  {
   "cell_type": "markdown",
   "id": "733bf191",
   "metadata": {},
   "source": [
    "# Introduction to Comments in Python\n",
    "\n",
    "## What Are Comments?\n",
    " Comments in Python are lines in the code that are not executed by the interpreter. They are used to explain code, make it more readable, and help other programmers understand its purpose."
   ]
  },
  {
   "cell_type": "code",
   "execution_count": 1,
   "id": "8b898c2a",
   "metadata": {},
   "outputs": [
    {
     "name": "stdout",
     "output_type": "stream",
     "text": [
      "Hello, world!\n"
     ]
    }
   ],
   "source": [
    "# This is a comment\n",
    "print(\"Hello, world!\")  # This is also a comment\n"
   ]
  },
  {
   "cell_type": "markdown",
   "id": "d1f5a7a7",
   "metadata": {},
   "source": [
    "Explanation of Example: In the code above, the first line is a comment explaining that it won't be executed. The second comment explains the print statement."
   ]
  },
  {
   "cell_type": "markdown",
   "id": "0a56a014",
   "metadata": {},
   "source": [
    "## Types of Comments\n",
    "\n",
    "### Single-line Comments\n",
    "Single-line comments start with a # symbol and extend to the end of the line. They are used for short explanations or to temporarily disable code."
   ]
  },
  {
   "cell_type": "code",
   "execution_count": 2,
   "id": "67fd8db9",
   "metadata": {},
   "outputs": [],
   "source": [
    "# This is a single-line comment\n",
    "x = 5  # Single-line comment after code\n"
   ]
  },
  {
   "cell_type": "markdown",
   "id": "98fb8fad",
   "metadata": {},
   "source": [
    "## Multi-line Comments\n",
    "Multi-line comments are useful when you need to explain larger sections of code. Python doesn't have a specific multi-line comment syntax, but you can use triple quotes (''' or \"\"\") to simulate them."
   ]
  },
  {
   "cell_type": "code",
   "execution_count": 3,
   "id": "c83662a7",
   "metadata": {},
   "outputs": [],
   "source": [
    "\"\"\"\n",
    "This is a multi-line comment\n",
    "that spans multiple lines.\n",
    "It is often used for documentation.\n",
    "\"\"\"\n",
    "y = 10\n"
   ]
  },
  {
   "cell_type": "markdown",
   "id": "ce2fd268",
   "metadata": {},
   "source": [
    "Note: In practice, triple quotes are treated as string literals if not used as comments, so this method should be used cautiously."
   ]
  },
  {
   "cell_type": "markdown",
   "id": "48590f3c",
   "metadata": {},
   "source": [
    "## Best Practices for Using Comments\n",
    "\n",
    "### Keep Comments Concise\n",
    "- Comments should be short and to the point, focusing on explaining why something is done rather than what is done.\n",
    "###  Use Comments to Explain Complex Logic\n",
    "- For more complex code or algorithms, explain the logic or reasoning to improve clarity for others who may read the code later."
   ]
  },
  {
   "cell_type": "code",
   "execution_count": 4,
   "id": "fe7c7169",
   "metadata": {},
   "outputs": [
    {
     "name": "stdout",
     "output_type": "stream",
     "text": [
      "Odd\n"
     ]
    }
   ],
   "source": [
    "# Check if the number is even or odd\n",
    "if x % 2 == 0:\n",
    "    print(\"Even\")\n",
    "else:\n",
    "    print(\"Odd\")\n"
   ]
  },
  {
   "cell_type": "markdown",
   "id": "b8ba9a1d",
   "metadata": {},
   "source": [
    "## Avoid Redundant Comments\n",
    " Do not comment on obvious code, as this adds unnecessary clutter. Focus on what is not immediately clear from reading the code."
   ]
  },
  {
   "cell_type": "code",
   "execution_count": 5,
   "id": "d32c4ca1",
   "metadata": {},
   "outputs": [],
   "source": [
    "x = 5  # Set x to 5 (redundant)\n"
   ]
  },
  {
   "cell_type": "markdown",
   "id": "5b8278d1",
   "metadata": {},
   "source": [
    "## Commenting Out Code for Debugging\n",
    " Sometimes, you may want to disable certain parts of the code for debugging. Commenting out code lines temporarily allows you to test different scenarios without deleting the code."
   ]
  },
  {
   "cell_type": "code",
   "execution_count": 6,
   "id": "73f600f2",
   "metadata": {},
   "outputs": [],
   "source": [
    "x = 10\n",
    "# print(x)  # This line is disabled for debugging\n",
    "y = 20\n"
   ]
  },
  {
   "cell_type": "markdown",
   "id": "ac702b31",
   "metadata": {},
   "source": [
    "## Using Docstrings as Comments\n",
    " Docstrings (documentation strings) are special multi-line comments typically used to describe modules, classes, and functions. They are placed directly after function definitions and can be accessed using the help() function."
   ]
  },
  {
   "cell_type": "code",
   "execution_count": 7,
   "id": "4939fccc",
   "metadata": {},
   "outputs": [
    {
     "name": "stdout",
     "output_type": "stream",
     "text": [
      "Help on function add in module __main__:\n",
      "\n",
      "add(a, b)\n",
      "    This function adds two numbers.\n",
      "    Args:\n",
      "        a (int): The first number\n",
      "        b (int): The second number\n",
      "    Returns:\n",
      "        int: The sum of a and b\n",
      "\n"
     ]
    }
   ],
   "source": [
    "def add(a, b):\n",
    "    \"\"\"\n",
    "    This function adds two numbers.\n",
    "    Args:\n",
    "        a (int): The first number\n",
    "        b (int): The second number\n",
    "    Returns:\n",
    "        int: The sum of a and b\n",
    "    \"\"\"\n",
    "    return a + b\n",
    "\n",
    "# Accessing the docstring using the help() function\n",
    "help(add)\n"
   ]
  },
  {
   "cell_type": "markdown",
   "id": "ed2b5feb",
   "metadata": {},
   "source": [
    "## Conclusion\n",
    "In Python, comments play a vital role in making your code more readable and maintainable. By using single-line and multi-line comments, following best practices, and utilizing docstrings for documentation, you can enhance the clarity and functionality of your programs.\n",
    "\n"
   ]
  },
  {
   "cell_type": "code",
   "execution_count": null,
   "id": "e51950df",
   "metadata": {},
   "outputs": [],
   "source": []
  }
 ],
 "metadata": {
  "kernelspec": {
   "display_name": "Python 3 (ipykernel)",
   "language": "python",
   "name": "python3"
  },
  "language_info": {
   "codemirror_mode": {
    "name": "ipython",
    "version": 3
   },
   "file_extension": ".py",
   "mimetype": "text/x-python",
   "name": "python",
   "nbconvert_exporter": "python",
   "pygments_lexer": "ipython3",
   "version": "3.9.6"
  }
 },
 "nbformat": 4,
 "nbformat_minor": 5
}
