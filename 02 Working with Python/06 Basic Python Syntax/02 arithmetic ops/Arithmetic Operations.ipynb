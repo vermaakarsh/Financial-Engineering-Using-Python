{
 "cells": [
  {
   "cell_type": "markdown",
   "id": "a73246b5",
   "metadata": {},
   "source": [
    "## Python Basics: Arithmetic Operations\n",
    "\n",
    "In this notebook, we'll explore Python's arithmetic operations. Arithmetic operations allow us to perform basic mathematical operations such as addition, subtraction, multiplication, division, and more. These operations are fundamental when working with numbers and data in Python.\n",
    "\n",
    "We'll cover:\n",
    "\n",
    "- Addition (+)\n",
    "- Subtraction (-)\n",
    "- Multiplication (*)\n",
    "- Division (/)\n",
    "- Floor Division (//)\n",
    "- Modulus (%)\n",
    "- Exponentiation (**)"
   ]
  },
  {
   "cell_type": "markdown",
   "id": "0a6c790f",
   "metadata": {},
   "source": [
    "## 1. Addition (+)\n",
    "Addition is used to sum numbers. Let's see how it works in Python."
   ]
  },
  {
   "cell_type": "code",
   "execution_count": 1,
   "id": "e7e0a797",
   "metadata": {},
   "outputs": [
    {
     "data": {
      "text/plain": [
       "15"
      ]
     },
     "execution_count": 1,
     "metadata": {},
     "output_type": "execute_result"
    }
   ],
   "source": [
    "# Example: Adding two numbers\n",
    "a = 10\n",
    "b = 5\n",
    "addition = a + b\n",
    "addition\n"
   ]
  },
  {
   "cell_type": "markdown",
   "id": "1e76e4c1",
   "metadata": {},
   "source": [
    "\n",
    "We assign the values 10 and 5 to variables a and b, respectively. The expression a + b performs the addition of these two numbers, resulting in 15.\n",
    "\n"
   ]
  },
  {
   "cell_type": "markdown",
   "id": "a53a4b0d",
   "metadata": {},
   "source": [
    "## 2. Subtraction (-)\n",
    "Subtraction subtracts one number from another."
   ]
  },
  {
   "cell_type": "code",
   "execution_count": 2,
   "id": "f8543689",
   "metadata": {},
   "outputs": [
    {
     "data": {
      "text/plain": [
       "5"
      ]
     },
     "execution_count": 2,
     "metadata": {},
     "output_type": "execute_result"
    }
   ],
   "source": [
    "# Example: Subtracting two numbers\n",
    "a = 10\n",
    "b = 5\n",
    "subtraction = a - b\n",
    "subtraction\n"
   ]
  },
  {
   "cell_type": "markdown",
   "id": "66d941d2",
   "metadata": {},
   "source": [
    "Here, a - b calculates the difference between 10 and 5, resulting in 5."
   ]
  },
  {
   "cell_type": "markdown",
   "id": "abecda8f",
   "metadata": {},
   "source": [
    "## 3. Multiplication (*)\n",
    "The * operator is used for multiplication."
   ]
  },
  {
   "cell_type": "code",
   "execution_count": 3,
   "id": "85211dd3",
   "metadata": {},
   "outputs": [
    {
     "data": {
      "text/plain": [
       "50"
      ]
     },
     "execution_count": 3,
     "metadata": {},
     "output_type": "execute_result"
    }
   ],
   "source": [
    "# Example: Multiplying two numbers\n",
    "a = 10\n",
    "b = 5\n",
    "multiplication = a * b\n",
    "multiplication\n"
   ]
  },
  {
   "cell_type": "markdown",
   "id": "102dc19a",
   "metadata": {},
   "source": [
    "Multiplying 10 by 5 gives us 50."
   ]
  },
  {
   "cell_type": "markdown",
   "id": "2460ad7d",
   "metadata": {},
   "source": [
    "## 4. Division (/)\n",
    "Division returns the quotient when one number is divided by another. The result is a floating-point number."
   ]
  },
  {
   "cell_type": "code",
   "execution_count": 4,
   "id": "64177d4c",
   "metadata": {},
   "outputs": [
    {
     "data": {
      "text/plain": [
       "2.0"
      ]
     },
     "execution_count": 4,
     "metadata": {},
     "output_type": "execute_result"
    }
   ],
   "source": [
    "# Example: Dividing two numbers\n",
    "a = 10\n",
    "b = 5\n",
    "division = a / b\n",
    "division\n"
   ]
  },
  {
   "cell_type": "markdown",
   "id": "26328b7b",
   "metadata": {},
   "source": [
    "Dividing 10 by 5 results in 2.0. Even though the result is mathematically an integer, Python returns it as a float (2.0).\n",
    "\n"
   ]
  },
  {
   "cell_type": "markdown",
   "id": "0a4dd19b",
   "metadata": {},
   "source": [
    "## 5. Floor Division (//)\n",
    "Floor division divides two numbers but rounds down the result to the nearest integer."
   ]
  },
  {
   "cell_type": "code",
   "execution_count": 5,
   "id": "7c813ecb",
   "metadata": {},
   "outputs": [
    {
     "data": {
      "text/plain": [
       "3"
      ]
     },
     "execution_count": 5,
     "metadata": {},
     "output_type": "execute_result"
    }
   ],
   "source": [
    "# Example: Floor division of two numbers\n",
    "a = 10\n",
    "b = 3\n",
    "floor_division = a // b\n",
    "floor_division\n"
   ]
  },
  {
   "cell_type": "markdown",
   "id": "188648e1",
   "metadata": {},
   "source": [
    "Here, 10 // 3 equals 3. The result is rounded down to the nearest whole number."
   ]
  },
  {
   "cell_type": "markdown",
   "id": "0344e2c5",
   "metadata": {},
   "source": [
    "## 6. Modulus (%)\n",
    "The modulus operator returns the remainder when one number is divided by another."
   ]
  },
  {
   "cell_type": "code",
   "execution_count": 6,
   "id": "bd6e9fa9",
   "metadata": {},
   "outputs": [
    {
     "data": {
      "text/plain": [
       "1"
      ]
     },
     "execution_count": 6,
     "metadata": {},
     "output_type": "execute_result"
    }
   ],
   "source": [
    "# Example: Modulus of two numbers\n",
    "a = 10\n",
    "b = 3\n",
    "modulus = a % b\n",
    "modulus\n"
   ]
  },
  {
   "cell_type": "markdown",
   "id": "efb85c4a",
   "metadata": {},
   "source": [
    "The expression 10 % 3 gives 1, which is the remainder when 10 is divided by 3."
   ]
  },
  {
   "cell_type": "markdown",
   "id": "bc822bb6",
   "metadata": {},
   "source": [
    "## 7. Exponentiation (**)\n",
    "Exponentiation raises one number to the power of another."
   ]
  },
  {
   "cell_type": "code",
   "execution_count": 7,
   "id": "abce77ae",
   "metadata": {},
   "outputs": [
    {
     "data": {
      "text/plain": [
       "8"
      ]
     },
     "execution_count": 7,
     "metadata": {},
     "output_type": "execute_result"
    }
   ],
   "source": [
    "# Example: Exponentiation\n",
    "a = 2\n",
    "b = 3\n",
    "exponentiation = a ** b\n",
    "exponentiation\n"
   ]
  },
  {
   "cell_type": "markdown",
   "id": "c9205b0a",
   "metadata": {},
   "source": [
    "Here, 2 ** 3 calculates 2 raised to the power of 3, which is 8."
   ]
  },
  {
   "cell_type": "markdown",
   "id": "dff4f755",
   "metadata": {},
   "source": [
    "## Conclusion\n",
    "This notebook provides a brief introduction to the basic arithmetic operations in Python. These operations are essential building blocks in programming, and understanding them helps you handle numbers and calculations effectively.\n",
    "\n",
    "You can expand upon these operations by incorporating them into more complex mathematical functions and real-world applications in Python.\n",
    "\n"
   ]
  },
  {
   "cell_type": "code",
   "execution_count": null,
   "id": "866fe796",
   "metadata": {},
   "outputs": [],
   "source": []
  }
 ],
 "metadata": {
  "kernelspec": {
   "display_name": "Python 3 (ipykernel)",
   "language": "python",
   "name": "python3"
  },
  "language_info": {
   "codemirror_mode": {
    "name": "ipython",
    "version": 3
   },
   "file_extension": ".py",
   "mimetype": "text/x-python",
   "name": "python",
   "nbconvert_exporter": "python",
   "pygments_lexer": "ipython3",
   "version": "3.9.6"
  }
 },
 "nbformat": 4,
 "nbformat_minor": 5
}
