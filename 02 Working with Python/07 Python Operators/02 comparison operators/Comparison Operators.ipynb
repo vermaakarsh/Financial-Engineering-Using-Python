{
 "cells": [
  {
   "cell_type": "markdown",
   "id": "dda65031",
   "metadata": {},
   "source": [
    "# Comparison Operators in Python"
   ]
  },
  {
   "cell_type": "markdown",
   "id": "b53f540a",
   "metadata": {},
   "source": [
    "\n",
    "Comparison operators are used to compare two values. The result of a comparison is a Boolean value, either `True` or `False`. Understanding how to use these operators is essential for making decisions in your code.\n",
    "\n",
    "## 1. Introduction to Comparison Operators\n",
    "\n",
    "Comparison operators allow you to compare values and perform logical operations. They are commonly used in conditional statements, loops, and various algorithms.\n",
    "\n",
    "### 2. List of Comparison Operators\n",
    "\n",
    "| Operator | Description              | Example               | Returns    |\n",
    "|----------|--------------------------|-----------------------|------------|\n",
    "| `==`     | Equal to                 | `a == b`              | `True` if `a` is equal to `b` |\n",
    "| `!=`     | Not equal to             | `a != b`              | `True` if `a` is not equal to `b` |\n",
    "| `>`      | Greater than             | `a > b`               | `True` if `a` is greater than `b` |\n",
    "| `<`      | Less than                | `a < b`               | `True` if `a` is less than `b` |\n",
    "| `>=`     | Greater than or equal to | `a >= b`              | `True` if `a` is greater than or equal to `b` |\n",
    "| `<=`     | Less than or equal to    | `a <= b`              | `True` if `a` is less than or equal to `b` |\n",
    "\n",
    "## 3. Detailed Explanation of Each Operator\n",
    "\n",
    "\n"
   ]
  },
  {
   "cell_type": "markdown",
   "id": "6c972192",
   "metadata": {},
   "source": [
    "### 3.1 Equal to (`==`)\n",
    "\n",
    "The `==` operator checks if two values are equal.\n",
    "\n"
   ]
  },
  {
   "cell_type": "code",
   "execution_count": 2,
   "id": "40e7f0f3",
   "metadata": {},
   "outputs": [
    {
     "name": "stdout",
     "output_type": "stream",
     "text": [
      "True\n"
     ]
    }
   ],
   "source": [
    "a = 10\n",
    "b = 10\n",
    "result = (a == b)\n",
    "print(result)  # Output: True"
   ]
  },
  {
   "cell_type": "markdown",
   "id": "c58c3524",
   "metadata": {},
   "source": [
    "### 3.2 Not Equal to (!=)\n",
    "The != operator checks if two values are not equal.\n",
    "\n"
   ]
  },
  {
   "cell_type": "code",
   "execution_count": 1,
   "id": "7dc796a9",
   "metadata": {},
   "outputs": [
    {
     "name": "stdout",
     "output_type": "stream",
     "text": [
      "True\n"
     ]
    }
   ],
   "source": [
    "# Example\n",
    "a = 10\n",
    "b = 5\n",
    "result = (a != b)\n",
    "print(result)  # Output: True\n"
   ]
  },
  {
   "cell_type": "markdown",
   "id": "add56ba9",
   "metadata": {},
   "source": [
    "### 3.3 Greater Than (>)\n",
    "The > operator checks if the left value is greater than the right value."
   ]
  },
  {
   "cell_type": "code",
   "execution_count": 3,
   "id": "ac18bd9b",
   "metadata": {},
   "outputs": [
    {
     "name": "stdout",
     "output_type": "stream",
     "text": [
      "True\n"
     ]
    }
   ],
   "source": [
    "# Example\n",
    "a = 10\n",
    "b = 5\n",
    "result = (a > b)\n",
    "print(result)  # Output: True\n"
   ]
  },
  {
   "cell_type": "markdown",
   "id": "356e4be9",
   "metadata": {},
   "source": [
    "### 3.4 Less Than (<)\n",
    "The < operator checks if the left value is less than the right value.\n"
   ]
  },
  {
   "cell_type": "code",
   "execution_count": 4,
   "id": "4d215866",
   "metadata": {},
   "outputs": [
    {
     "name": "stdout",
     "output_type": "stream",
     "text": [
      "True\n"
     ]
    }
   ],
   "source": [
    "# Example\n",
    "a = 5\n",
    "b = 10\n",
    "result = (a < b)\n",
    "print(result)  # Output: True\n"
   ]
  },
  {
   "cell_type": "markdown",
   "id": "d76b6ab7",
   "metadata": {},
   "source": [
    "### 3.5 Greater Than or Equal To (>=)\n",
    "The >= operator checks if the left value is greater than or equal to the right value."
   ]
  },
  {
   "cell_type": "code",
   "execution_count": 5,
   "id": "a8c34a73",
   "metadata": {},
   "outputs": [
    {
     "name": "stdout",
     "output_type": "stream",
     "text": [
      "True\n"
     ]
    }
   ],
   "source": [
    "# Example\n",
    "a = 10\n",
    "b = 10\n",
    "result = (a >= b)\n",
    "print(result)  # Output: True\n"
   ]
  },
  {
   "cell_type": "markdown",
   "id": "1d4673ad",
   "metadata": {},
   "source": [
    "### 3.6 Less Than or Equal To (<=)\n",
    "The <= operator checks if the left value is less than or equal to the right value."
   ]
  },
  {
   "cell_type": "code",
   "execution_count": 6,
   "id": "7086b2f5",
   "metadata": {},
   "outputs": [
    {
     "name": "stdout",
     "output_type": "stream",
     "text": [
      "True\n"
     ]
    }
   ],
   "source": [
    "# Example\n",
    "a = 5\n",
    "b = 10\n",
    "result = (a <= b)\n",
    "print(result)  # Output: True\n"
   ]
  },
  {
   "cell_type": "markdown",
   "id": "6c14657d",
   "metadata": {},
   "source": [
    "### 4. Practical Applications of Comparison Operators\n",
    "Comparison operators are frequently used in decision-making constructs, such as if statements.\n",
    "\n",
    "Example: Using Comparison Operators in an If Statement"
   ]
  },
  {
   "cell_type": "code",
   "execution_count": 7,
   "id": "6faa70a8",
   "metadata": {},
   "outputs": [
    {
     "name": "stdout",
     "output_type": "stream",
     "text": [
      "You are eligible to vote.\n"
     ]
    }
   ],
   "source": [
    "# Example\n",
    "age = 20\n",
    "\n",
    "if age >= 18:\n",
    "    print(\"You are eligible to vote.\")\n",
    "else:\n",
    "    print(\"You are not eligible to vote.\")\n"
   ]
  },
  {
   "cell_type": "markdown",
   "id": "4684ba3e",
   "metadata": {},
   "source": [
    "### 5. Summary\n",
    "In this notebook, we've covered the six main comparison operators in Python. They are essential for performing logical comparisons and making decisions based on conditions in your code.\n",
    "\n",
    "### 6. Exercises\n",
    "- Write a Python function that takes two numbers as input and returns whether the first number is greater than the second.\n",
    "- Create a program that checks if a given year is a leap year using comparison operators."
   ]
  },
  {
   "cell_type": "code",
   "execution_count": null,
   "id": "3ad4b4fd",
   "metadata": {},
   "outputs": [],
   "source": []
  }
 ],
 "metadata": {
  "kernelspec": {
   "display_name": "Python 3 (ipykernel)",
   "language": "python",
   "name": "python3"
  },
  "language_info": {
   "codemirror_mode": {
    "name": "ipython",
    "version": 3
   },
   "file_extension": ".py",
   "mimetype": "text/x-python",
   "name": "python",
   "nbconvert_exporter": "python",
   "pygments_lexer": "ipython3",
   "version": "3.9.6"
  }
 },
 "nbformat": 4,
 "nbformat_minor": 5
}
