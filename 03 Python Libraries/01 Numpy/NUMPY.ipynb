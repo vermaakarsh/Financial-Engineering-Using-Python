{
 "cells": [
  {
   "cell_type": "markdown",
   "id": "c418c5ce",
   "metadata": {},
   "source": [
    "# NumPy\n",
    "\n",
    "## What is NumPy?\n",
    "\n",
    "NumPy (Numerical Python) is a powerful library for numerical computing in Python. It provides support for arrays, matrices, and a large collection of mathematical functions.\n",
    "\n",
    "## Why use NumPy? \n",
    "Fast and efficient operations on large datasets.\n",
    "\n",
    "\n",
    "Installation:"
   ]
  },
  {
   "cell_type": "code",
   "execution_count": 2,
   "id": "6fe2f24c",
   "metadata": {},
   "outputs": [
    {
     "name": "stdout",
     "output_type": "stream",
     "text": [
      "Requirement already satisfied: numpy in c:\\python 39\\lib\\site-packages (1.26.4)\n",
      "Note: you may need to restart the kernel to use updated packages.\n"
     ]
    }
   ],
   "source": [
    "pip install numpy"
   ]
  },
  {
   "cell_type": "markdown",
   "id": "a00efdb0",
   "metadata": {},
   "source": [
    "## 1. Basics of NumPy Arrays\n",
    "### 1.1. Creating Arrays\n",
    "Array from Lists:"
   ]
  },
  {
   "cell_type": "code",
   "execution_count": 3,
   "id": "74023e39",
   "metadata": {},
   "outputs": [
    {
     "name": "stdout",
     "output_type": "stream",
     "text": [
      "[1 2 3]\n"
     ]
    }
   ],
   "source": [
    "import numpy as np\n",
    "arr = np.array([1, 2, 3])\n",
    "print(arr)"
   ]
  },
  {
   "cell_type": "markdown",
   "id": "70897d7d",
   "metadata": {},
   "source": [
    "Converting Python lists into NumPy arrays is the foundation of using the library.\n",
    "\n",
    "- Multidimensional Arrays:"
   ]
  },
  {
   "cell_type": "code",
   "execution_count": 4,
   "id": "a05d430d",
   "metadata": {},
   "outputs": [
    {
     "name": "stdout",
     "output_type": "stream",
     "text": [
      "[[1 2 3]\n",
      " [4 5 6]]\n"
     ]
    }
   ],
   "source": [
    "arr_2d = np.array([[1, 2, 3], [4, 5, 6]])\n",
    "print(arr_2d)"
   ]
  },
  {
   "cell_type": "markdown",
   "id": "b6658984",
   "metadata": {},
   "source": [
    "## 1.2. Array Properties\n",
    "- Shape, Size, and Data Types:"
   ]
  },
  {
   "cell_type": "code",
   "execution_count": 5,
   "id": "e4e8a0f0",
   "metadata": {},
   "outputs": [
    {
     "name": "stdout",
     "output_type": "stream",
     "text": [
      "(2, 3)\n",
      "6\n",
      "int32\n"
     ]
    }
   ],
   "source": [
    "print(arr_2d.shape)   # Dimensions of the array\n",
    "print(arr_2d.size)    # Total elements\n",
    "print(arr_2d.dtype)   # Data type"
   ]
  },
  {
   "cell_type": "markdown",
   "id": "f96dd54a",
   "metadata": {},
   "source": [
    "## 1.3. Initializing Arrays\n",
    "- Zeros and Ones:"
   ]
  },
  {
   "cell_type": "code",
   "execution_count": 6,
   "id": "d3c8d424",
   "metadata": {},
   "outputs": [
    {
     "name": "stdout",
     "output_type": "stream",
     "text": [
      "[[0. 0. 0.]\n",
      " [0. 0. 0.]\n",
      " [0. 0. 0.]]\n",
      "\n",
      "[[1. 1.]\n",
      " [1. 1.]]\n"
     ]
    }
   ],
   "source": [
    "zeros = np.zeros((3, 3))\n",
    "ones = np.ones((2, 2))\n",
    "print(zeros)\n",
    "print()\n",
    "print(ones)\n"
   ]
  },
  {
   "cell_type": "markdown",
   "id": "382e44ac",
   "metadata": {},
   "source": [
    "- Array with a specific value or uninitialized:"
   ]
  },
  {
   "cell_type": "code",
   "execution_count": 7,
   "id": "4f59811d",
   "metadata": {},
   "outputs": [
    {
     "name": "stdout",
     "output_type": "stream",
     "text": [
      "[[7 7]\n",
      " [7 7]]\n",
      "\n",
      "[[0. 0. 0.]\n",
      " [0. 0. 0.]\n",
      " [0. 0. 0.]]\n"
     ]
    }
   ],
   "source": [
    "full_array = np.full((2, 2), 7)\n",
    "empty_array = np.empty((3, 3))\n",
    "\n",
    "print(full_array)\n",
    "print()\n",
    "print(empty_array)"
   ]
  },
  {
   "cell_type": "markdown",
   "id": "0cec802a",
   "metadata": {},
   "source": [
    "## 1.4. Ranges and Random Arrays\n",
    "- arange (Similar to Python’s range):"
   ]
  },
  {
   "cell_type": "code",
   "execution_count": 8,
   "id": "6ea344ce",
   "metadata": {},
   "outputs": [
    {
     "name": "stdout",
     "output_type": "stream",
     "text": [
      "[0 1 2 3 4 5 6 7 8 9]\n"
     ]
    }
   ],
   "source": [
    "range_arr = np.arange(10)\n",
    "print(range_arr)"
   ]
  },
  {
   "cell_type": "markdown",
   "id": "1c5ea844",
   "metadata": {},
   "source": [
    "- random array"
   ]
  },
  {
   "cell_type": "code",
   "execution_count": 9,
   "id": "7b4fd01a",
   "metadata": {},
   "outputs": [
    {
     "name": "stdout",
     "output_type": "stream",
     "text": [
      "[[0.7631761  0.71362149 0.08107203]\n",
      " [0.13656534 0.83951101 0.13888289]\n",
      " [0.28902778 0.55899107 0.35547378]]\n"
     ]
    }
   ],
   "source": [
    "random_arr = np.random.rand(3, 3)\n",
    "print(random_arr)"
   ]
  },
  {
   "cell_type": "markdown",
   "id": "e350a667",
   "metadata": {},
   "source": [
    "## 2. Array Indexing and Slicing\n",
    "### 2.1. Accessing Elements\n",
    "- 1D Arrays:"
   ]
  },
  {
   "cell_type": "code",
   "execution_count": 10,
   "id": "c7066d14",
   "metadata": {},
   "outputs": [
    {
     "name": "stdout",
     "output_type": "stream",
     "text": [
      "[4 5 6]\n"
     ]
    }
   ],
   "source": [
    "print(arr_2d[1])  # Accessing the second element\n"
   ]
  },
  {
   "cell_type": "markdown",
   "id": "1eab8069",
   "metadata": {},
   "source": [
    "- 2D Arrays:\n",
    "\n"
   ]
  },
  {
   "cell_type": "code",
   "execution_count": 11,
   "id": "16994a1e",
   "metadata": {},
   "outputs": [
    {
     "name": "stdout",
     "output_type": "stream",
     "text": [
      "2\n"
     ]
    }
   ],
   "source": [
    "print(arr_2d[0, 1])  # Element from the first row, second column\n"
   ]
  },
  {
   "cell_type": "markdown",
   "id": "12e2e854",
   "metadata": {},
   "source": [
    "## 2.2. Slicing Arrays\n",
    "- Slicing 1D and 2D Arrays:"
   ]
  },
  {
   "cell_type": "code",
   "execution_count": 12,
   "id": "45cb3a77",
   "metadata": {},
   "outputs": [
    {
     "name": "stdout",
     "output_type": "stream",
     "text": [
      "[1 2]\n",
      "\n",
      "[1 2]\n"
     ]
    }
   ],
   "source": [
    "slice_arr = arr[0:2]  # First two elements\n",
    "slice_2d = arr_2d[0, 0:2]  # First row, first two columns\n",
    "\n",
    "print(slice_arr)\n",
    "print()\n",
    "print(slice_2d)"
   ]
  },
  {
   "cell_type": "markdown",
   "id": "c74c968f",
   "metadata": {},
   "source": [
    "Slicing allows you to extract specific portions of arrays.\n",
    "\n"
   ]
  },
  {
   "cell_type": "markdown",
   "id": "2dca243b",
   "metadata": {},
   "source": [
    "## 3. Array Operations\n",
    "### 3.1. Basic Arithmetic\n",
    "- Element-wise Operations:"
   ]
  },
  {
   "cell_type": "code",
   "execution_count": 13,
   "id": "b3ff4b7c",
   "metadata": {},
   "outputs": [],
   "source": [
    "arr_sum = arr + 5\n",
    "arr_prod = arr * 2\n"
   ]
  },
  {
   "cell_type": "code",
   "execution_count": 14,
   "id": "d2ddfd78",
   "metadata": {},
   "outputs": [
    {
     "name": "stdout",
     "output_type": "stream",
     "text": [
      "[6 7 8]\n",
      "\n",
      "[2 4 6]\n"
     ]
    }
   ],
   "source": [
    "print(arr_sum)\n",
    "print()\n",
    "print(arr_prod)"
   ]
  },
  {
   "cell_type": "markdown",
   "id": "f2adf5ee",
   "metadata": {},
   "source": [
    "NumPy supports broadcasting, allowing operations to be applied element-wise between arrays or scalars."
   ]
  },
  {
   "cell_type": "markdown",
   "id": "34f8e3fe",
   "metadata": {},
   "source": [
    "### 3.2. Matrix Operations\n",
    "- Matrix Multiplication:"
   ]
  },
  {
   "cell_type": "code",
   "execution_count": 15,
   "id": "63e43f76",
   "metadata": {},
   "outputs": [
    {
     "name": "stdout",
     "output_type": "stream",
     "text": [
      "[[19 22]\n",
      " [43 50]]\n"
     ]
    }
   ],
   "source": [
    "mat1 = np.array([[1, 2], [3, 4]])\n",
    "mat2 = np.array([[5, 6], [7, 8]])\n",
    "result = np.dot(mat1, mat2)\n",
    "print(result)"
   ]
  },
  {
   "cell_type": "markdown",
   "id": "ca4b12ce",
   "metadata": {},
   "source": [
    "NumPy allows easy matrix multiplication using the dot() function."
   ]
  },
  {
   "cell_type": "markdown",
   "id": "730fbc77",
   "metadata": {},
   "source": [
    "### 3.3. Aggregate Functions\n",
    "- Sum, Mean, Max, Min:"
   ]
  },
  {
   "cell_type": "code",
   "execution_count": 16,
   "id": "762409ee",
   "metadata": {},
   "outputs": [
    {
     "name": "stdout",
     "output_type": "stream",
     "text": [
      "6\n",
      "2.0\n",
      "3\n",
      "1\n"
     ]
    }
   ],
   "source": [
    "print(np.sum(arr))\n",
    "print(np.mean(arr))\n",
    "print(np.max(arr))\n",
    "print(np.min(arr))\n"
   ]
  },
  {
   "cell_type": "markdown",
   "id": "d496d412",
   "metadata": {},
   "source": [
    "### 3.4. Axis-wise Operations\n",
    "- Sum along axis:"
   ]
  },
  {
   "cell_type": "code",
   "execution_count": 17,
   "id": "4c74f4f2",
   "metadata": {},
   "outputs": [
    {
     "name": "stdout",
     "output_type": "stream",
     "text": [
      "[5 7 9]\n",
      "[ 6 15]\n"
     ]
    }
   ],
   "source": [
    "sum_cols = np.sum(arr_2d, axis=0)  # Sum of columns\n",
    "sum_rows = np.sum(arr_2d, axis=1)  # Sum of rows\n",
    "\n",
    "print(sum_cols)\n",
    "print(sum_rows)\n"
   ]
  },
  {
   "cell_type": "markdown",
   "id": "9488cce5",
   "metadata": {},
   "source": [
    "## 4. Advanced Array Manipulation\n",
    "### 4.1. Reshaping Arrays\n",
    "- Reshape and Flatten:"
   ]
  },
  {
   "cell_type": "code",
   "execution_count": 18,
   "id": "ec19527a",
   "metadata": {},
   "outputs": [
    {
     "name": "stdout",
     "output_type": "stream",
     "text": [
      "[[1 2]\n",
      " [3 4]\n",
      " [5 6]]\n",
      "\n",
      "[1 2 3 4 5 6]\n"
     ]
    }
   ],
   "source": [
    "reshaped = arr_2d.reshape(3, 2)\n",
    "flattened = arr_2d.flatten()\n",
    "\n",
    "print(reshaped)\n",
    "print()\n",
    "print(flattened)\n",
    "\n"
   ]
  },
  {
   "cell_type": "markdown",
   "id": "2c469a31",
   "metadata": {},
   "source": [
    "Reshaping changes the dimensions, and flattening converts an array into a 1D array."
   ]
  },
  {
   "cell_type": "markdown",
   "id": "21afa861",
   "metadata": {},
   "source": [
    "### 4.2. Stacking and Splitting Arrays\n",
    "- Vertical and Horizontal Stacking:"
   ]
  },
  {
   "cell_type": "code",
   "execution_count": 19,
   "id": "432fcb2a",
   "metadata": {},
   "outputs": [
    {
     "name": "stdout",
     "output_type": "stream",
     "text": [
      "[[1 2 3]\n",
      " [1 2 3]]\n",
      "\n",
      "[1 2 3 1 2 3]\n"
     ]
    }
   ],
   "source": [
    "stacked = np.vstack((arr, arr))\n",
    "hstacked = np.hstack((arr, arr))\n",
    "\n",
    "print(stacked)\n",
    "print()\n",
    "print(hstacked)\n"
   ]
  },
  {
   "cell_type": "markdown",
   "id": "73aefe52",
   "metadata": {},
   "source": [
    "- Splitting"
   ]
  },
  {
   "cell_type": "code",
   "execution_count": 20,
   "id": "11eb16a6",
   "metadata": {},
   "outputs": [
    {
     "name": "stdout",
     "output_type": "stream",
     "text": [
      "[array([[1, 2, 3]]), array([[4, 5, 6]])]\n"
     ]
    }
   ],
   "source": [
    "split_arr = np.split(arr_2d, 2, axis=0)\n",
    "print(split_arr)"
   ]
  },
  {
   "cell_type": "markdown",
   "id": "408c387f",
   "metadata": {},
   "source": [
    "## 5. Boolean and Advanced Indexing\n",
    "### 5.1. Boolean Masking\n",
    "- Creating a Boolean Mask"
   ]
  },
  {
   "cell_type": "code",
   "execution_count": 21,
   "id": "abc729c2",
   "metadata": {},
   "outputs": [
    {
     "name": "stdout",
     "output_type": "stream",
     "text": [
      "[2 3]\n"
     ]
    }
   ],
   "source": [
    "bool_mask = arr > 1\n",
    "print(arr[bool_mask])  # Elements greater than 1"
   ]
  },
  {
   "cell_type": "markdown",
   "id": "38f02699",
   "metadata": {},
   "source": [
    "### 5.2. Fancy Indexing\n",
    "- Using specific indices:"
   ]
  },
  {
   "cell_type": "code",
   "execution_count": 22,
   "id": "4c9b8453",
   "metadata": {},
   "outputs": [
    {
     "name": "stdout",
     "output_type": "stream",
     "text": [
      "[1 3]\n"
     ]
    }
   ],
   "source": [
    "fancy_index = arr[[0, 2]]\n",
    "print(fancy_index)\n"
   ]
  },
  {
   "cell_type": "markdown",
   "id": "a8f0d63a",
   "metadata": {},
   "source": [
    "### 6. Broadcasting in NumPy\n",
    " Broadcasting simplifies arithmetic operations on arrays of different shapes."
   ]
  },
  {
   "cell_type": "code",
   "execution_count": 23,
   "id": "90085382",
   "metadata": {},
   "outputs": [
    {
     "name": "stdout",
     "output_type": "stream",
     "text": [
      "[[2 4]\n",
      " [4 6]\n",
      " [6 8]]\n"
     ]
    }
   ],
   "source": [
    "arr_large = np.array([[1, 2], [3, 4], [5, 6]])\n",
    "arr_small = np.array([1, 2])\n",
    "result = arr_large + arr_small\n",
    "\n",
    "print(result)"
   ]
  },
  {
   "cell_type": "markdown",
   "id": "1a7a41d9",
   "metadata": {},
   "source": [
    "## 7. Performance Comparison with Lists\n",
    "### 7.1. Time Comparison with Python Lists\n",
    " - Using timeit:"
   ]
  },
  {
   "cell_type": "code",
   "execution_count": 24,
   "id": "3bfe45bf",
   "metadata": {},
   "outputs": [
    {
     "name": "stdout",
     "output_type": "stream",
     "text": [
      "0.12460509999999658\n",
      "0.007357100000007222\n"
     ]
    }
   ],
   "source": [
    "import timeit\n",
    "python_list = list(range(1000))\n",
    "numpy_array = np.arange(1000)\n",
    "print(timeit.timeit(lambda: [x * 2 for x in python_list], number=1000))\n",
    "print(timeit.timeit(lambda: numpy_array * 2, number=1000))\n"
   ]
  },
  {
   "cell_type": "markdown",
   "id": "ea1bc170",
   "metadata": {},
   "source": [
    "## 8. Advanced Functions\n",
    "### 8.1. Linear Algebra\n",
    "- Inverse, Determinants, and Eigenvalues:"
   ]
  },
  {
   "cell_type": "code",
   "execution_count": 26,
   "id": "5009960f",
   "metadata": {},
   "outputs": [
    {
     "name": "stdout",
     "output_type": "stream",
     "text": [
      "[[-2.   1. ]\n",
      " [ 1.5 -0.5]]\n",
      "-2.0000000000000004\n",
      "[-0.37228132  5.37228132]\n",
      "[[-0.82456484 -0.41597356]\n",
      " [ 0.56576746 -0.90937671]]\n"
     ]
    }
   ],
   "source": [
    "matrix = np.array([[1, 2], [3, 4]])\n",
    "inverse = np.linalg.inv(matrix)\n",
    "det = np.linalg.det(matrix)\n",
    "eigenvalues, eigenvectors = np.linalg.eig(matrix)\n",
    "\n",
    "print(inverse)\n",
    "print(det)\n",
    "print(eigenvalues)\n",
    "print(eigenvectors)"
   ]
  },
  {
   "cell_type": "markdown",
   "id": "4d30ed74",
   "metadata": {},
   "source": [
    "## 8.2. Random Numbers and Distributions\n",
    "- Normal Distribution:\n",
    "NumPy allows you to generate random numbers from different distributions."
   ]
  },
  {
   "cell_type": "code",
   "execution_count": 27,
   "id": "53f75772",
   "metadata": {},
   "outputs": [
    {
     "name": "stdout",
     "output_type": "stream",
     "text": [
      "[[-1.56675637 -0.20813885]\n",
      " [-0.72898846 -0.48740057]]\n"
     ]
    }
   ],
   "source": [
    "normal_dist = np.random.normal(0, 1, (2, 2))\n",
    "\n",
    "print(normal_dist)"
   ]
  },
  {
   "cell_type": "markdown",
   "id": "691bed37",
   "metadata": {},
   "source": [
    "## 9. Working with Multidimensional Arrays\n",
    "### 9.1. Creating 3D Arrays\n",
    "- 3D Array Example:"
   ]
  },
  {
   "cell_type": "code",
   "execution_count": 28,
   "id": "b80fc501",
   "metadata": {},
   "outputs": [
    {
     "name": "stdout",
     "output_type": "stream",
     "text": [
      "[[[1 2]\n",
      "  [3 4]]\n",
      "\n",
      " [[5 6]\n",
      "  [7 8]]]\n"
     ]
    }
   ],
   "source": [
    "arr_3d = np.array([[[1, 2], [3, 4]], [[5, 6], [7, 8]]])\n",
    "print(arr_3d)\n"
   ]
  },
  {
   "cell_type": "markdown",
   "id": "0cffd09d",
   "metadata": {},
   "source": [
    "## 9.2. Indexing and Slicing 3D Arrays\n",
    "- Accessing Elements in 3D Arrays:"
   ]
  },
  {
   "cell_type": "code",
   "execution_count": 29,
   "id": "1463b307",
   "metadata": {},
   "outputs": [
    {
     "name": "stdout",
     "output_type": "stream",
     "text": [
      "4\n"
     ]
    }
   ],
   "source": [
    "print(arr_3d[0, 1, 1])  # Accessing element at depth 0, row 1, column 1"
   ]
  },
  {
   "cell_type": "markdown",
   "id": "14d4089c",
   "metadata": {},
   "source": [
    "- Slicing in 3D Arrays:"
   ]
  },
  {
   "cell_type": "code",
   "execution_count": 30,
   "id": "30e18c2e",
   "metadata": {},
   "outputs": [
    {
     "name": "stdout",
     "output_type": "stream",
     "text": [
      "[[3 4]\n",
      " [7 8]]\n"
     ]
    }
   ],
   "source": [
    "slice_3d = arr_3d[:, 1, :]  # Slicing across the second row of each depth\n",
    "print(slice_3d)\n"
   ]
  },
  {
   "cell_type": "markdown",
   "id": "fe2363a7",
   "metadata": {},
   "source": [
    "## 9.3. Reshaping Multidimensional Arrays\n",
    "- Reshaping a 3D Array:\n",
    "Reshaping allows you to change the structure of multidimensional arrays while maintaining the data.\n",
    "\n"
   ]
  },
  {
   "cell_type": "code",
   "execution_count": 31,
   "id": "70088e9d",
   "metadata": {},
   "outputs": [
    {
     "name": "stdout",
     "output_type": "stream",
     "text": [
      "[[1 2]\n",
      " [3 4]\n",
      " [5 6]\n",
      " [7 8]]\n"
     ]
    }
   ],
   "source": [
    "reshaped_3d = arr_3d.reshape(4, 2)  # Flatten and reshape the 3D array\n",
    "print(reshaped_3d)"
   ]
  },
  {
   "cell_type": "markdown",
   "id": "0478ffab",
   "metadata": {},
   "source": [
    "## 10. Broadcasting with Higher Dimensional Arrays\n",
    "### 10.1. Advanced Broadcasting Examples\n",
    "- Broadcasting with 3D Arrays:"
   ]
  },
  {
   "cell_type": "code",
   "execution_count": 32,
   "id": "263d5741",
   "metadata": {},
   "outputs": [
    {
     "name": "stdout",
     "output_type": "stream",
     "text": [
      "[[2 4]\n",
      " [4 6]]\n"
     ]
    }
   ],
   "source": [
    "arr_a = np.array([[1, 2], [3, 4]])\n",
    "arr_b = np.array([1, 2])\n",
    "broadcasted = arr_a + arr_b  # Broadcasts along the matching dimensions\n",
    "print(broadcasted)\n"
   ]
  },
  {
   "cell_type": "markdown",
   "id": "591acb6c",
   "metadata": {},
   "source": [
    "Broadcasting enables operations on arrays of different dimensions without explicitly reshaping them."
   ]
  },
  {
   "cell_type": "markdown",
   "id": "535c332b",
   "metadata": {},
   "source": [
    "## 10.2. Broadcasting Rules\n",
    "### Broadcasting follows these rules:\n",
    "- If arrays have different numbers of dimensions, the smaller array is reshaped.\n",
    "- Arrays are compared element-wise starting from the trailing dimension."
   ]
  },
  {
   "cell_type": "markdown",
   "id": "4b9f18a5",
   "metadata": {},
   "source": [
    "## 11. NumPy and Pandas Integration\n",
    "### 11.1. Converting between NumPy Arrays and Pandas DataFrames\n",
    "- Array to DataFrame:"
   ]
  },
  {
   "cell_type": "code",
   "execution_count": 36,
   "id": "36be94f2",
   "metadata": {},
   "outputs": [
    {
     "name": "stdout",
     "output_type": "stream",
     "text": [
      "   A  B  C\n",
      "0  1  2  3\n",
      "1  4  5  6\n",
      "2  7  8  9\n"
     ]
    }
   ],
   "source": [
    "import pandas as pd\n",
    "arr = np.array([[1, 2, 3], [4, 5, 6], [7, 8, 9]])\n",
    "df = pd.DataFrame(arr, columns=['A', 'B', 'C'])\n",
    "print(df)"
   ]
  },
  {
   "cell_type": "markdown",
   "id": "de136d42",
   "metadata": {},
   "source": [
    "- DataFrame to Array:"
   ]
  },
  {
   "cell_type": "code",
   "execution_count": 37,
   "id": "0f2cf1c0",
   "metadata": {},
   "outputs": [
    {
     "name": "stdout",
     "output_type": "stream",
     "text": [
      "[[1 2 3]\n",
      " [4 5 6]\n",
      " [7 8 9]]\n"
     ]
    }
   ],
   "source": [
    "arr_from_df = df.values\n",
    "print(arr_from_df)\n"
   ]
  },
  {
   "cell_type": "markdown",
   "id": "39b8a879",
   "metadata": {},
   "source": [
    "NumPy arrays are frequently used as the data structure within Pandas for efficient computation and manipulation."
   ]
  },
  {
   "cell_type": "markdown",
   "id": "31a1b987",
   "metadata": {},
   "source": [
    "## 12. Handling Missing Values with NumPy\n",
    "### 12.1. Using np.nan for Missing Values\n",
    "- Creating Arrays with NaNs: np.nan is used to represent missing or invalid data."
   ]
  },
  {
   "cell_type": "code",
   "execution_count": 38,
   "id": "851294f0",
   "metadata": {},
   "outputs": [
    {
     "name": "stdout",
     "output_type": "stream",
     "text": [
      "[ 1.  2. nan  4.]\n"
     ]
    }
   ],
   "source": [
    "arr_with_nan = np.array([1, 2, np.nan, 4])\n",
    "print(arr_with_nan)\n"
   ]
  },
  {
   "cell_type": "markdown",
   "id": "38c4d45b",
   "metadata": {},
   "source": [
    "### 12.2. Functions Ignoring NaN Values\n",
    "- Using np.nan* Functions: NumPy provides functions like np.nanmean() and np.nansum() to handle arrays containing NaNs."
   ]
  },
  {
   "cell_type": "code",
   "execution_count": 39,
   "id": "1563b162",
   "metadata": {},
   "outputs": [
    {
     "name": "stdout",
     "output_type": "stream",
     "text": [
      "2.3333333333333335\n"
     ]
    }
   ],
   "source": [
    "print(np.nanmean(arr_with_nan))  # Mean ignoring NaNs\n"
   ]
  },
  {
   "cell_type": "markdown",
   "id": "29584e65",
   "metadata": {},
   "source": [
    "## 13. Memory Management and Efficiency\n",
    "### 13.1. Memory Footprint of Arrays\n",
    "- Checking Memory Usage: NumPy arrays are more memory-efficient than native Python lists, especially for large datasets."
   ]
  },
  {
   "cell_type": "code",
   "execution_count": 40,
   "id": "6ed6d62d",
   "metadata": {},
   "outputs": [
    {
     "name": "stdout",
     "output_type": "stream",
     "text": [
      "36\n"
     ]
    }
   ],
   "source": [
    "print(arr.nbytes)  # Total bytes consumed by the array"
   ]
  },
  {
   "cell_type": "markdown",
   "id": "09f8fef7",
   "metadata": {},
   "source": [
    "## 13.2. Saving and Loading Arrays\n",
    "Saving Arrays to Disk:"
   ]
  },
  {
   "cell_type": "code",
   "execution_count": 41,
   "id": "614e63b5",
   "metadata": {},
   "outputs": [],
   "source": [
    "np.save('array.npy', arr)  # Save to a .npy file\n"
   ]
  },
  {
   "cell_type": "markdown",
   "id": "c2742263",
   "metadata": {},
   "source": [
    "- Loading Arrays from Disk: NumPy allows you to save and load large arrays efficiently using .npy format."
   ]
  },
  {
   "cell_type": "code",
   "execution_count": 42,
   "id": "29566bb7",
   "metadata": {},
   "outputs": [
    {
     "name": "stdout",
     "output_type": "stream",
     "text": [
      "[[1 2 3]\n",
      " [4 5 6]\n",
      " [7 8 9]]\n"
     ]
    }
   ],
   "source": [
    "loaded_arr = np.load('array.npy')\n",
    "print(loaded_arr)\n"
   ]
  },
  {
   "cell_type": "markdown",
   "id": "43f13b18",
   "metadata": {},
   "source": [
    "## 14. Structured Arrays and Record Arrays\n",
    "### 14.1. Structured Arrays for Heterogeneous Data\n",
    "- Creating Structured Arrays:"
   ]
  },
  {
   "cell_type": "code",
   "execution_count": 43,
   "id": "70435e86",
   "metadata": {},
   "outputs": [
    {
     "name": "stdout",
     "output_type": "stream",
     "text": [
      "[(1, 'Apple', 2.5) (2, 'Banana', 3. )]\n"
     ]
    }
   ],
   "source": [
    "structured_arr = np.array([(1, 'Apple', 2.5), (2, 'Banana', 3.0)], dtype=[('ID', 'i4'), ('Fruit', 'U10'), ('Price', 'f4')])\n",
    "print(structured_arr)\n"
   ]
  },
  {
   "cell_type": "markdown",
   "id": "92fef77d",
   "metadata": {},
   "source": [
    "- Accessing Structured Array Data: Structured arrays allow you to work with heterogeneous data, like rows containing mixed data types."
   ]
  },
  {
   "cell_type": "code",
   "execution_count": 44,
   "id": "77074bf4",
   "metadata": {},
   "outputs": [
    {
     "name": "stdout",
     "output_type": "stream",
     "text": [
      "['Apple' 'Banana']\n"
     ]
    }
   ],
   "source": [
    "print(structured_arr['Fruit'])  # Accessing 'Fruit' column\n"
   ]
  },
  {
   "cell_type": "markdown",
   "id": "2d83a38a",
   "metadata": {},
   "source": [
    "## 15. NumPy for Mathematical and Statistical Functions\n",
    "### 15.1. Mathematical Functions\n",
    "- Common Mathematical Operations:"
   ]
  },
  {
   "cell_type": "code",
   "execution_count": 47,
   "id": "25452096",
   "metadata": {},
   "outputs": [
    {
     "name": "stdout",
     "output_type": "stream",
     "text": [
      "[1.         1.41421356 1.73205081 2.        ]\n",
      "[ 2.71828183  7.3890561  20.08553692 54.59815003]\n"
     ]
    }
   ],
   "source": [
    "arr = np.array([1, 2, 3, 4])\n",
    "print(np.sqrt(arr))   # Square root\n",
    "print(np.exp(arr))    # Exponential\n"
   ]
  },
  {
   "cell_type": "markdown",
   "id": "fd0b46d7",
   "metadata": {},
   "source": [
    "## 15.2. Statistical Functions\n",
    "- Variance, Standard Deviation:"
   ]
  },
  {
   "cell_type": "code",
   "execution_count": 48,
   "id": "0148a68f",
   "metadata": {},
   "outputs": [
    {
     "name": "stdout",
     "output_type": "stream",
     "text": [
      "1.25\n",
      "1.118033988749895\n"
     ]
    }
   ],
   "source": [
    "print(np.var(arr))    # Variance\n",
    "print(np.std(arr))    # Standard deviation\n"
   ]
  },
  {
   "cell_type": "markdown",
   "id": "79c3c896",
   "metadata": {},
   "source": [
    " NumPy offers a variety of built-in mathematical and statistical functions that operate efficiently on large arrays.\n",
    "\n"
   ]
  },
  {
   "cell_type": "markdown",
   "id": "ed488092",
   "metadata": {},
   "source": [
    "## 16. Advanced NumPy Operations with Broadcasting and Vectorization\n",
    "### 16.1. Vectorization\n",
    "- Vectorized Operations for Speed:"
   ]
  },
  {
   "cell_type": "code",
   "execution_count": 50,
   "id": "a33ba628",
   "metadata": {},
   "outputs": [
    {
     "name": "stdout",
     "output_type": "stream",
     "text": [
      "[     0      2      4 ... 199994 199996 199998]\n"
     ]
    }
   ],
   "source": [
    "large_arr = np.arange(100000)\n",
    "result = large_arr * 2  # Element-wise multiplication\n",
    "print(result)"
   ]
  },
  {
   "cell_type": "markdown",
   "id": "6c54f43d",
   "metadata": {},
   "source": [
    "Vectorization allows operations to be performed without explicit loops, making computations faster."
   ]
  },
  {
   "cell_type": "markdown",
   "id": "7c9124f5",
   "metadata": {},
   "source": [
    "## 16.2. Broadcasting with Advanced Functions\n",
    "- Using np.meshgrid() and Broadcasting:"
   ]
  },
  {
   "cell_type": "code",
   "execution_count": 52,
   "id": "2ad5b361",
   "metadata": {},
   "outputs": [
    {
     "name": "stdout",
     "output_type": "stream",
     "text": [
      "[[ 0  1  4  9 16]\n",
      " [ 1  2  5 10 17]\n",
      " [ 4  5  8 13 20]\n",
      " [ 9 10 13 18 25]\n",
      " [16 17 20 25 32]]\n"
     ]
    }
   ],
   "source": [
    "x = np.arange(0, 5)\n",
    "y = np.arange(0, 5)\n",
    "xx, yy = np.meshgrid(x, y)\n",
    "z = xx ** 2 + yy ** 2  # Broadcasts the operations\n",
    "\n",
    "print(z)\n"
   ]
  },
  {
   "cell_type": "markdown",
   "id": "186e4543",
   "metadata": {},
   "source": [
    " Broadcasting is highly efficient for multidimensional computations without the need for explicit iteration.\n",
    "\n"
   ]
  },
  {
   "cell_type": "markdown",
   "id": "61f9a0bd",
   "metadata": {},
   "source": [
    "### Practice Exercises\n",
    "1. Basics of NumPy Arrays\n",
    "- Create a 1D NumPy array of integers from 10 to 50.\n",
    "- Convert the 1D array to a 2D array with 4 rows and 5 columns.\n",
    "- Select the first 3 rows and the last 2 columns of the 2D array you just created.\n",
    "2. Array Operations\n",
    "- Create two arrays arr1 = [1, 2, 3, 4, 5] and arr2 = [10, 20, 30, 40, 50]. Perform element-wise addition, subtraction, multiplication, and division.\n",
    "- Use broadcasting to add a 1D array [1, 2, 3] to a 2D array [[10, 20, 30], [40, 50, 60]].\n",
    "3. Array Indexing and Slicing\n",
    "- Create an array of shape (4, 5) filled with random numbers between 0 and 1. Extract the sub-array consisting of the last two rows and the last two columns.\n",
    "- Given an array arr = np.array([1, 2, 3, 4, 5, 6]), reverse the order of the elements.\n",
    "4. Reshaping and Resizing\n",
    "- Create an array of 16 random integers between 1 and 100. Reshape it into a 4x4 matrix.\n",
    "- Flatten the matrix back into a 1D array using the ravel() function.\n",
    "5. Advanced Array Manipulation\n",
    "- Create a 3x3 identity matrix.\n",
    "- Create an array of 100 equally spaced numbers between 0 and 10. Reshape it into a 10x10 matrix and find the sum of each row.\n",
    "- Stack two 1D arrays arr1 = [1, 2, 3] and arr2 = [4, 5, 6] vertically and horizontally.\n",
    "6. Statistical Operations\n",
    "- Create an array of 20 random integers between 0 and 100. Compute the mean, median, standard deviation, and variance of the array.\n",
    "- Create a 5x5 matrix of random integers between 1 and 100. Find the maximum and minimum values of each row.\n",
    "\n",
    "7. Mathematical Functions\n",
    "- Create an array of angles in radians and compute their sine, cosine, and tangent values.\n",
    "- Create a random array and compute the exponential, logarithm, and square root of each element.\n"
   ]
  },
  {
   "cell_type": "markdown",
   "id": "468abccf",
   "metadata": {},
   "source": [
    "## 17. NumPy for Stock Market Analysis\n",
    "### 17.1. Fetching Stock Data\n",
    "- Using yfinance to Download Historical Data:"
   ]
  },
  {
   "cell_type": "code",
   "execution_count": 58,
   "id": "db63b76a",
   "metadata": {},
   "outputs": [
    {
     "name": "stderr",
     "output_type": "stream",
     "text": [
      "\r",
      "[*********************100%%**********************]  1 of 1 completed"
     ]
    },
    {
     "name": "stdout",
     "output_type": "stream",
     "text": [
      "                   Open         High          Low        Close    Adj Close  \\\n",
      "Date                                                                          \n",
      "2020-01-01  1387.957031  1396.277466  1376.527954  1380.276611  1356.042725   \n",
      "2020-01-02  1382.471069  1408.941040  1382.471069  1403.775024  1379.128662   \n",
      "2020-01-03  1401.671997  1409.581055  1392.528687  1405.466553  1380.790527   \n",
      "2020-01-06  1389.785767  1397.008911  1369.670410  1372.870605  1348.766846   \n",
      "2020-01-07  1388.871338  1403.043579  1383.842529  1393.991699  1369.516968   \n",
      "\n",
      "              Volume  \n",
      "Date                  \n",
      "2020-01-01   7002234  \n",
      "2020-01-02   8855158  \n",
      "2020-01-03  10492349  \n",
      "2020-01-06  12259588  \n",
      "2020-01-07   8341811  \n"
     ]
    },
    {
     "name": "stderr",
     "output_type": "stream",
     "text": [
      "\n"
     ]
    }
   ],
   "source": [
    "import yfinance as yf\n",
    "\n",
    "# Download historical data for a stock (e.g., Apple)\n",
    "stock_data = yf.download('Reliance.NS', start='2020-01-01', end='2024-10-07')\n",
    "print(stock_data.head())\n"
   ]
  },
  {
   "cell_type": "markdown",
   "id": "041663c3",
   "metadata": {},
   "source": [
    " This example shows how to use the yfinance library to download historical stock market data. The data will be loaded into a Pandas DataFrame, but can easily be converted to a NumPy array for further analysis."
   ]
  },
  {
   "cell_type": "markdown",
   "id": "d81f3d96",
   "metadata": {},
   "source": [
    "### 17.2. Calculating Daily Stock Returns\n",
    "- Daily Returns Using NumPy: Daily returns are calculated by finding the percentage change between consecutive closing prices. NumPy makes this operation efficient even for large datasets."
   ]
  },
  {
   "cell_type": "code",
   "execution_count": 60,
   "id": "705d5cf0",
   "metadata": {},
   "outputs": [
    {
     "name": "stdout",
     "output_type": "stream",
     "text": [
      "[ 0.01702442  0.00120499 -0.02319226  0.01538462 -0.00751017]\n",
      "[ 0.01884248 -0.03249961 -0.0079576  -0.03949276 -0.01453469]\n"
     ]
    }
   ],
   "source": [
    "# Convert 'Close' prices to a NumPy array\n",
    "close_prices = stock_data['Close'].values\n",
    "\n",
    "# Calculate daily returns\n",
    "daily_returns = (close_prices[1:] - close_prices[:-1]) / close_prices[:-1]\n",
    "print(daily_returns[:5])  # Print the first 5 daily returns\n",
    "print(daily_returns[-5:])  # Print the last 5 daily returns"
   ]
  },
  {
   "cell_type": "markdown",
   "id": "e9411cb6",
   "metadata": {},
   "source": [
    "### 17.3. Calculating Moving Averages\n",
    "- Simple Moving Average (SMA):\n",
    "A simple moving average smooths out price data to identify trends. This function uses NumPy’s np.convolve() method to calculate the moving average over a specified window size."
   ]
  },
  {
   "cell_type": "code",
   "execution_count": 61,
   "id": "56bc49af",
   "metadata": {},
   "outputs": [
    {
     "name": "stdout",
     "output_type": "stream",
     "text": [
      "[1398.01931152 1399.32224121 1399.55996094 1403.56931152 1406.39002686]\n",
      "[2972.70500488 2973.75       2972.25498047 2960.95998535 2944.32998047]\n"
     ]
    }
   ],
   "source": [
    "def moving_average(data, window_size):\n",
    "    weights = np.ones(window_size) / window_size\n",
    "    sma = np.convolve(data, weights, mode='valid')\n",
    "    return sma\n",
    "\n",
    "sma_10 = moving_average(close_prices, 10)\n",
    "print(sma_10[:5])  # First 5 values of 10-day SMA\n",
    "print(sma_10[-5:])  # Last 5 values of 10-day SMA"
   ]
  },
  {
   "cell_type": "markdown",
   "id": "b33cdbb7",
   "metadata": {},
   "source": [
    "### 17.4. Exponential Moving Average (EMA)\n",
    "- EMA Calculation: Unlike the simple moving average, the exponential moving average places more weight on recent prices, making it more responsive to price changes."
   ]
  },
  {
   "cell_type": "code",
   "execution_count": 63,
   "id": "957a0fbb",
   "metadata": {},
   "outputs": [
    {
     "name": "stdout",
     "output_type": "stream",
     "text": [
      "[1380.27661133 1384.54905007 1388.35223237 1385.53739112 1387.07453805]\n",
      "[2986.18704744 2980.18029378 2970.99294989 2942.43967739 2911.64156311]\n"
     ]
    }
   ],
   "source": [
    "def exponential_moving_average(data, span):\n",
    "    alpha = 2 / (span + 1)\n",
    "    ema = np.zeros_like(data)\n",
    "    ema[0] = data[0]  # First value is the same as the data point\n",
    "    for t in range(1, len(data)):\n",
    "        ema[t] = alpha * data[t] + (1 - alpha) * ema[t - 1]\n",
    "    return ema\n",
    "\n",
    "ema_10 = exponential_moving_average(close_prices, 10)\n",
    "print(ema_10[:5])  # First 5 values of 10-day EMA\n",
    "print(ema_10[-5:])  # Last 5 values of 10-day EMA"
   ]
  },
  {
   "cell_type": "markdown",
   "id": "f7c09014",
   "metadata": {},
   "source": [
    "### 17.5. Volatility Calculation\n",
    "- Volatility as Standard Deviation of Returns: Volatility represents the risk associated with a stock and is calculated using the standard deviation of the stock’s returns. The example above calculates the annualized volatility by multiplying by the square root of 252 (number of trading days in a year)."
   ]
  },
  {
   "cell_type": "code",
   "execution_count": 64,
   "id": "f1eda755",
   "metadata": {},
   "outputs": [
    {
     "name": "stdout",
     "output_type": "stream",
     "text": [
      "Annualized Volatility: 0.30120735261588094\n"
     ]
    }
   ],
   "source": [
    "volatility = np.std(daily_returns) * np.sqrt(252)  # Annualized volatility (252 trading days in a year)\n",
    "print(f\"Annualized Volatility: {volatility}\")\n"
   ]
  },
  {
   "cell_type": "markdown",
   "id": "216d86a6",
   "metadata": {},
   "source": [
    "### 18.1. Portfolio Returns\n",
    "- Calculating Portfolio Returns Using NumPy:"
   ]
  },
  {
   "cell_type": "code",
   "execution_count": 65,
   "id": "12bbf01d",
   "metadata": {},
   "outputs": [
    {
     "name": "stdout",
     "output_type": "stream",
     "text": [
      "[0.021 0.011 0.007]\n"
     ]
    }
   ],
   "source": [
    "# Sample weights and returns for a 3-stock portfolio\n",
    "weights = np.array([0.3, 0.4, 0.3])  # Portfolio weights\n",
    "stock_returns = np.array([[0.02, 0.03, 0.01],  # Daily returns for 3 stocks\n",
    "                          [0.01, 0.02, 0.00],\n",
    "                          [-0.01, 0.01, 0.02]])\n",
    "\n",
    "portfolio_returns = np.dot(stock_returns, weights)\n",
    "print(portfolio_returns)\n"
   ]
  },
  {
   "cell_type": "markdown",
   "id": "adc4d72a",
   "metadata": {},
   "source": [
    " In this example, we compute the returns of a portfolio consisting of three stocks. Portfolio returns are calculated by taking the dot product of the individual stock returns and their respective portfolio weights."
   ]
  },
  {
   "cell_type": "markdown",
   "id": "86c0591d",
   "metadata": {},
   "source": [
    "### 18.2. Portfolio Risk (Variance and Standard Deviation)\n",
    "- Calculating Portfolio Variance and Standard Deviation : Portfolio risk is measured by the variance and standard deviation of the portfolio's returns. The covariance matrix captures the relationship between the returns of the stocks in the portfolio, and the overall portfolio risk is calculated using the portfolio weights.\n",
    "\n"
   ]
  },
  {
   "cell_type": "code",
   "execution_count": 66,
   "id": "4568fc46",
   "metadata": {},
   "outputs": [
    {
     "name": "stdout",
     "output_type": "stream",
     "text": [
      "Portfolio Standard Deviation: 0.007211102550927978\n"
     ]
    }
   ],
   "source": [
    "# Covariance matrix of stock returns\n",
    "cov_matrix = np.cov(stock_returns.T)\n",
    "\n",
    "# Portfolio variance\n",
    "portfolio_variance = np.dot(weights.T, np.dot(cov_matrix, weights))\n",
    "portfolio_std_dev = np.sqrt(portfolio_variance)\n",
    "\n",
    "print(f\"Portfolio Standard Deviation: {portfolio_std_dev}\")\n"
   ]
  },
  {
   "cell_type": "markdown",
   "id": "0a87c8c1",
   "metadata": {},
   "source": [
    "## 19. Risk-Adjusted Returns with NumPy\n",
    "### 19.1. Sharpe Ratio Calculation\n",
    "- Calculating the Sharpe Ratio:"
   ]
  },
  {
   "cell_type": "code",
   "execution_count": 67,
   "id": "860b8cb9",
   "metadata": {},
   "outputs": [
    {
     "name": "stdout",
     "output_type": "stream",
     "text": [
      "Sharpe Ratio: 0.41602514716892175\n"
     ]
    }
   ],
   "source": [
    "risk_free_rate = 0.01  # Assume 1% risk-free rate\n",
    "excess_returns = portfolio_returns - risk_free_rate\n",
    "\n",
    "sharpe_ratio = np.mean(excess_returns) / portfolio_std_dev\n",
    "print(f\"Sharpe Ratio: {sharpe_ratio}\")\n"
   ]
  },
  {
   "cell_type": "markdown",
   "id": "c0587bf5",
   "metadata": {},
   "source": [
    "The Sharpe ratio is a measure of risk-adjusted returns. It calculates how much excess return a portfolio generates per unit of risk (as measured by the portfolio's standard deviation)."
   ]
  },
  {
   "cell_type": "markdown",
   "id": "58e49173",
   "metadata": {},
   "source": [
    "### **Conclusion**\n",
    "\n",
    "This notebook has taken you from the basics of NumPy to advanced applications, especially in stock market analysis. We started with fundamental array operations, explored broadcasting, and learned how to handle data efficiently using NumPy's functions.\n",
    "\n",
    "In the stock market sections, we applied NumPy to calculate returns, moving averages, portfolio risk, and even ran Monte Carlo simulations. These real-world examples highlight the practical use of NumPy in financial analysis.\n",
    "\n",
    "NumPy's speed, flexibility, and scalability make it essential for data analysis. Keep practicing and building on these concepts to harness its full potential in your projects!"
   ]
  },
  {
   "cell_type": "code",
   "execution_count": null,
   "id": "44191d14",
   "metadata": {},
   "outputs": [],
   "source": []
  }
 ],
 "metadata": {
  "kernelspec": {
   "display_name": "Python 3 (ipykernel)",
   "language": "python",
   "name": "python3"
  },
  "language_info": {
   "codemirror_mode": {
    "name": "ipython",
    "version": 3
   },
   "file_extension": ".py",
   "mimetype": "text/x-python",
   "name": "python",
   "nbconvert_exporter": "python",
   "pygments_lexer": "ipython3",
   "version": "3.9.6"
  }
 },
 "nbformat": 4,
 "nbformat_minor": 5
}
