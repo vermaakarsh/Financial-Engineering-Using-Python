{
 "cells": [
  {
   "cell_type": "markdown",
   "id": "7fc3b12c",
   "metadata": {},
   "source": [
    "# Conditions of Booleans in Python\n",
    "\n",
    "## Introduction:\n",
    "In Python, boolean conditions evaluate to either True or False and play a critical role in decision-making using control flow structures like if, elif, and else. These conditions are used to compare values, check equality, and determine logical relationships. Understanding how to work with booleans is essential for writing effective Python programs."
   ]
  },
  {
   "cell_type": "markdown",
   "id": "f55f6dd1",
   "metadata": {},
   "source": [
    "## 2. Boolean Data Type\n",
    "Start by introducing the two boolean values in Python: True and False."
   ]
  },
  {
   "cell_type": "code",
   "execution_count": 1,
   "id": "de4129e8",
   "metadata": {},
   "outputs": [
    {
     "name": "stdout",
     "output_type": "stream",
     "text": [
      "True\n",
      "False\n"
     ]
    }
   ],
   "source": [
    "# Boolean values\n",
    "a = True\n",
    "b = False\n",
    "\n",
    "print(a)\n",
    "print(b)\n"
   ]
  },
  {
   "cell_type": "markdown",
   "id": "42186d43",
   "metadata": {},
   "source": [
    "In Python, True and False are reserved keywords, representing the two values of a boolean type. They are case-sensitive (must be capitalized).\n",
    "\n"
   ]
  },
  {
   "cell_type": "markdown",
   "id": "b8150d07",
   "metadata": {},
   "source": [
    "## 3. Using Booleans in Conditional Statements\n",
    "Show how booleans can be used in conditional statements like if, elif, and else."
   ]
  },
  {
   "cell_type": "code",
   "execution_count": 2,
   "id": "19d91c2c",
   "metadata": {},
   "outputs": [
    {
     "name": "stdout",
     "output_type": "stream",
     "text": [
      "It's a sunny day!\n"
     ]
    }
   ],
   "source": [
    "# Example of boolean in if-else condition\n",
    "is_sunny = True\n",
    "\n",
    "if is_sunny:\n",
    "    print(\"It's a sunny day!\")\n",
    "else:\n",
    "    print(\"It's not sunny today.\")\n"
   ]
  },
  {
   "cell_type": "markdown",
   "id": "ed86c528",
   "metadata": {},
   "source": [
    "In this code, is_sunny is a boolean variable. The if condition evaluates if is_sunny is True. If it is, the message for a sunny day is printed; otherwise, the else block is executed."
   ]
  },
  {
   "cell_type": "markdown",
   "id": "a5892a3b",
   "metadata": {},
   "source": [
    "## 4. Comparison Operators for Booleans\n",
    "Introduce comparison operators that return boolean values: ==, !=, <, >, <=, >=."
   ]
  },
  {
   "cell_type": "code",
   "execution_count": 3,
   "id": "9251f331",
   "metadata": {},
   "outputs": [
    {
     "name": "stdout",
     "output_type": "stream",
     "text": [
      "False\n",
      "True\n",
      "True\n",
      "False\n",
      "True\n",
      "True\n"
     ]
    }
   ],
   "source": [
    "# Comparison operators\n",
    "x = 10\n",
    "y = 5\n",
    "\n",
    "print(x == y)  # False\n",
    "print(x != y)  # True\n",
    "print(x > y)   # True\n",
    "print(x < y)   # False\n",
    "print(x >= 10) # True\n",
    "print(y <= 5)  # True\n"
   ]
  },
  {
   "cell_type": "markdown",
   "id": "00adead7",
   "metadata": {},
   "source": [
    "These operators compare two values and return a boolean (True or False). This is useful for determining the relationship between values and performing further actions based on the result."
   ]
  },
  {
   "cell_type": "markdown",
   "id": "4da7fa67",
   "metadata": {},
   "source": [
    "## 5. Logical Operators\n",
    "Introduce logical operators: and, or, and not. These operators allow combining multiple boolean expressions."
   ]
  },
  {
   "cell_type": "code",
   "execution_count": 4,
   "id": "ac40c575",
   "metadata": {},
   "outputs": [
    {
     "name": "stdout",
     "output_type": "stream",
     "text": [
      "False\n",
      "True\n",
      "False\n"
     ]
    }
   ],
   "source": [
    "# Logical operators\n",
    "a = True\n",
    "b = False\n",
    "\n",
    "print(a and b)  # False\n",
    "print(a or b)   # True\n",
    "print(not a)    # False\n"
   ]
  },
  {
   "cell_type": "markdown",
   "id": "c2c98a76",
   "metadata": {},
   "source": [
    "- `and` returns True if both operands are True.\n",
    "- `or` returns True if at least one operand is True.\n",
    "- `not` inverts the value of the operand, turning True into False, and vice versa."
   ]
  },
  {
   "cell_type": "markdown",
   "id": "3fa9b5ed",
   "metadata": {},
   "source": [
    "## 6. Boolean Expressions with Variables\n",
    "Combine boolean conditions with variables to make decisions in programs."
   ]
  },
  {
   "cell_type": "code",
   "execution_count": 5,
   "id": "cdc63125",
   "metadata": {},
   "outputs": [
    {
     "name": "stdout",
     "output_type": "stream",
     "text": [
      "You can drive!\n"
     ]
    }
   ],
   "source": [
    "# Combining boolean conditions\n",
    "age = 20\n",
    "has_license = True\n",
    "\n",
    "if age >= 18 and has_license:\n",
    "    print(\"You can drive!\")\n",
    "else:\n",
    "    print(\"You can't drive.\")\n"
   ]
  },
  {
   "cell_type": "markdown",
   "id": "6e7f5a92",
   "metadata": {},
   "source": [
    "In this example, two conditions are checked:\n",
    "\n",
    "- age >= 18 ensures the person is old enough to drive.\n",
    "- has_license checks if they have a driving license. Both conditions must be True for the person to drive."
   ]
  },
  {
   "cell_type": "markdown",
   "id": "a574d087",
   "metadata": {},
   "source": [
    "## 7. Short-circuit Evaluation\n",
    "Explain how Python performs short-circuit evaluation with logical operators."
   ]
  },
  {
   "cell_type": "code",
   "execution_count": 6,
   "id": "436d21b9",
   "metadata": {},
   "outputs": [
    {
     "name": "stdout",
     "output_type": "stream",
     "text": [
      "Condition is True!\n"
     ]
    }
   ],
   "source": [
    "# Short-circuit evaluation\n",
    "x = 5\n",
    "\n",
    "# `x < 10` is True, so the second condition is not evaluated\n",
    "if x < 10 or (x / 0 == 1):\n",
    "    print(\"Condition is True!\")\n"
   ]
  },
  {
   "cell_type": "markdown",
   "id": "36790b1e",
   "metadata": {},
   "source": [
    "In `or` and `and` expressions, Python evaluates only as much as necessary:\n",
    "\n",
    "- For `or`, if the first condition is True, Python skips evaluating the second condition.\n",
    "- For `and`, if the first condition is False, Python skips the second condition.\n"
   ]
  },
  {
   "cell_type": "markdown",
   "id": "8637db4e",
   "metadata": {},
   "source": [
    "## 8. Boolean Functions\n",
    "You can also use built-in functions to evaluate conditions as booleans."
   ]
  },
  {
   "cell_type": "code",
   "execution_count": 7,
   "id": "9fe6cbb9",
   "metadata": {},
   "outputs": [
    {
     "name": "stdout",
     "output_type": "stream",
     "text": [
      "False\n",
      "True\n",
      "False\n",
      "True\n"
     ]
    }
   ],
   "source": [
    "# Using bool() function\n",
    "print(bool(0))  # False\n",
    "print(bool(1))  # True\n",
    "print(bool(\"\")) # False\n",
    "print(bool(\"Python\")) # True\n"
   ]
  },
  {
   "cell_type": "markdown",
   "id": "1fc59580",
   "metadata": {},
   "source": [
    "The bool() function converts values to boolean. Numeric `0` and empty values evaluate to False, while non-zero numbers and non-empty strings evaluate to `True`."
   ]
  },
  {
   "cell_type": "markdown",
   "id": "e5f90b4d",
   "metadata": {},
   "source": [
    "## 9. Exercises\n",
    "- Write a program that checks if a number is even or odd using boolean conditions.\n",
    "- Combine two conditions: check if a number is between 10 and 20, inclusive.\n",
    "- Use a boolean expression to check if a string is not empty.\n"
   ]
  },
  {
   "cell_type": "code",
   "execution_count": null,
   "id": "da52202f",
   "metadata": {},
   "outputs": [],
   "source": []
  }
 ],
 "metadata": {
  "kernelspec": {
   "display_name": "Python 3 (ipykernel)",
   "language": "python",
   "name": "python3"
  },
  "language_info": {
   "codemirror_mode": {
    "name": "ipython",
    "version": 3
   },
   "file_extension": ".py",
   "mimetype": "text/x-python",
   "name": "python",
   "nbconvert_exporter": "python",
   "pygments_lexer": "ipython3",
   "version": "3.9.6"
  }
 },
 "nbformat": 4,
 "nbformat_minor": 5
}
