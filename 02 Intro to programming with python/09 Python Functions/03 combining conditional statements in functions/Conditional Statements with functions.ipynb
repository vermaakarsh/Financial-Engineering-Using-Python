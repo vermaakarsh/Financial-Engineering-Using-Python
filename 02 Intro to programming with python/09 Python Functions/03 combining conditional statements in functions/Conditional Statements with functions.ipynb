{
 "cells": [
  {
   "cell_type": "markdown",
   "id": "4eb0b880",
   "metadata": {},
   "source": [
    "# Combining Conditional Statements with Functions\n",
    "## 1. Introduction\n",
    "In Python, conditional statements allow you to make decisions based on certain conditions. Functions, on the other hand, help you modularize your code by grouping reusable blocks of logic. By combining conditional statements with functions, you can build powerful programs that execute different actions based on input."
   ]
  },
  {
   "cell_type": "markdown",
   "id": "c87622ed",
   "metadata": {},
   "source": [
    "## 2. Functions Recap\n",
    "Before we dive into combining functions and conditionals, let's quickly recap how to define a function."
   ]
  },
  {
   "cell_type": "code",
   "execution_count": 4,
   "id": "dc242add",
   "metadata": {},
   "outputs": [
    {
     "name": "stdout",
     "output_type": "stream",
     "text": [
      "Hello, Welcome to QuantLab!.\n"
     ]
    }
   ],
   "source": [
    "# Basic Function Definition\n",
    "def greet():\n",
    "    print(\"Hello, Welcome to QuantLab!.\")\n",
    "    \n",
    "# Calling the function\n",
    "greet()\n"
   ]
  },
  {
   "cell_type": "markdown",
   "id": "63c6323c",
   "metadata": {},
   "source": [
    "## 3. Conditional Statements Recap\n",
    "Conditional statements evaluate whether a condition is True or False and execute code accordingly. The most common conditional statements are `if, elif`, and `else`."
   ]
  },
  {
   "cell_type": "code",
   "execution_count": 5,
   "id": "b8850aa6",
   "metadata": {},
   "outputs": [
    {
     "name": "stdout",
     "output_type": "stream",
     "text": [
      "The number is positive.\n"
     ]
    }
   ],
   "source": [
    "# Example of if-elif-else\n",
    "def check_number(num):\n",
    "    if num > 0:\n",
    "        print(\"The number is positive.\")\n",
    "    elif num < 0:\n",
    "        print(\"The number is negative.\")\n",
    "    else:\n",
    "        print(\"The number is zero.\")\n",
    "\n",
    "# Calling the function\n",
    "check_number(10)\n"
   ]
  },
  {
   "cell_type": "markdown",
   "id": "ffef1805",
   "metadata": {},
   "source": [
    "## 4. Combining Conditional Statements with Functions\n",
    "Now, let's combine the concepts of functions and conditionals. We'll create functions that take arguments and use conditional logic to determine their behavior.\n",
    "\n",
    "Example 1: Function to Determine Even or Odd Numbers"
   ]
  },
  {
   "cell_type": "code",
   "execution_count": 6,
   "id": "db90a5f8",
   "metadata": {},
   "outputs": [
    {
     "name": "stdout",
     "output_type": "stream",
     "text": [
      "4 is even.\n",
      "7 is odd.\n"
     ]
    }
   ],
   "source": [
    "def check_even_odd(num):\n",
    "    if num % 2 == 0:\n",
    "        return f\"{num} is even.\"\n",
    "    else:\n",
    "        return f\"{num} is odd.\"\n",
    "\n",
    "# Test the function\n",
    "print(check_even_odd(4))\n",
    "print(check_even_odd(7))\n"
   ]
  },
  {
   "cell_type": "markdown",
   "id": "3b9be459",
   "metadata": {},
   "source": [
    "- The function check_even_odd() takes a number as input.\n",
    "- The if statement checks if the number is divisible by 2.\n",
    "- Based on the condition, it returns whether the number is even or odd."
   ]
  },
  {
   "cell_type": "code",
   "execution_count": 7,
   "id": "df54f24f",
   "metadata": {},
   "outputs": [
    {
     "name": "stdout",
     "output_type": "stream",
     "text": [
      "You are a child.\n",
      "You are a teenager.\n",
      "You are an adult.\n",
      "You are a senior citizen.\n"
     ]
    }
   ],
   "source": [
    "def age_group_classifier(age):\n",
    "    if age < 13:\n",
    "        return \"You are a child.\"\n",
    "    elif 13 <= age < 20:\n",
    "        return \"You are a teenager.\"\n",
    "    elif 20 <= age < 60:\n",
    "        return \"You are an adult.\"\n",
    "    else:\n",
    "        return \"You are a senior citizen.\"\n",
    "\n",
    "# Test the function\n",
    "print(age_group_classifier(10))\n",
    "print(age_group_classifier(16))\n",
    "print(age_group_classifier(35))\n",
    "print(age_group_classifier(70))\n"
   ]
  },
  {
   "cell_type": "markdown",
   "id": "33654c77",
   "metadata": {},
   "source": [
    "- The function age_group_classifier() takes an age as input.\n",
    "- Multiple conditions are evaluated using if, elif, and else to determine the age group."
   ]
  },
  {
   "cell_type": "markdown",
   "id": "99980fb8",
   "metadata": {},
   "source": [
    "## 5. Nested Conditionals in Functions\n",
    "You can also have conditional statements inside other conditionals. This is known as nesting.\n",
    "\n",
    "Example: Nested Conditionals to Check Exam Results"
   ]
  },
  {
   "cell_type": "code",
   "execution_count": 8,
   "id": "83e93372",
   "metadata": {},
   "outputs": [
    {
     "name": "stdout",
     "output_type": "stream",
     "text": [
      "Passed with distinction!\n",
      "Passed\n",
      "Failed\n"
     ]
    }
   ],
   "source": [
    "def exam_result(marks):\n",
    "    if marks >= 40:\n",
    "        if marks >= 75:\n",
    "            return \"Passed with distinction!\"\n",
    "        else:\n",
    "            return \"Passed\"\n",
    "    else:\n",
    "        return \"Failed\"\n",
    "\n",
    "# Test the function\n",
    "print(exam_result(85))\n",
    "print(exam_result(60))\n",
    "print(exam_result(30))\n"
   ]
  },
  {
   "cell_type": "markdown",
   "id": "ad1c2d63",
   "metadata": {},
   "source": [
    "The function exam_result() uses nested if statements to check whether the student passed or failed and, if passed, whether they scored distinction."
   ]
  },
  {
   "cell_type": "markdown",
   "id": "339b69eb",
   "metadata": {},
   "source": [
    "## 6. Practical Application: Calculator Using Functions and Conditionals\n",
    "Let's create a simple calculator function that performs different mathematical operations based on user input."
   ]
  },
  {
   "cell_type": "code",
   "execution_count": 9,
   "id": "82dfcb15",
   "metadata": {},
   "outputs": [
    {
     "name": "stdout",
     "output_type": "stream",
     "text": [
      "15\n",
      "5\n",
      "50\n",
      "Error: Cannot divide by zero!\n"
     ]
    }
   ],
   "source": [
    "def calculator(num1, num2, operation):\n",
    "    if operation == \"add\":\n",
    "        return num1 + num2\n",
    "    elif operation == \"subtract\":\n",
    "        return num1 - num2\n",
    "    elif operation == \"multiply\":\n",
    "        return num1 * num2\n",
    "    elif operation == \"divide\":\n",
    "        if num2 != 0:\n",
    "            return num1 / num2\n",
    "        else:\n",
    "            return \"Error: Cannot divide by zero!\"\n",
    "    else:\n",
    "        return \"Invalid operation!\"\n",
    "\n",
    "# Test the function\n",
    "print(calculator(10, 5, \"add\"))\n",
    "print(calculator(10, 5, \"subtract\"))\n",
    "print(calculator(10, 5, \"multiply\"))\n",
    "print(calculator(10, 0, \"divide\"))\n"
   ]
  },
  {
   "cell_type": "markdown",
   "id": "5319c911",
   "metadata": {},
   "source": [
    "- The calculator() function takes two numbers and an operation as input.\n",
    "- Based on the value of operation, it performs the respective mathematical operation.\n",
    "- It also handles division by zero using a nested conditional."
   ]
  },
  {
   "cell_type": "markdown",
   "id": "9668d5ee",
   "metadata": {},
   "source": [
    "## 7. Using if and else to Select Between Functions\n",
    "In Python, you can use conditional statements to decide which function to call based on certain conditions. This allows you to choose between different actions dynamically.\n",
    "\n",
    "Example: Choosing Between Two Functions\n",
    "Let's create two simple functions and use if and else to select which function to execute."
   ]
  },
  {
   "cell_type": "code",
   "execution_count": 10,
   "id": "b0257f4b",
   "metadata": {},
   "outputs": [
    {
     "name": "stdout",
     "output_type": "stream",
     "text": [
      "Good morning!\n",
      "Good evening!\n"
     ]
    }
   ],
   "source": [
    "# Defining two functions\n",
    "def morning_greet():\n",
    "    return \"Good morning!\"\n",
    "\n",
    "def evening_greet():\n",
    "    return \"Good evening!\"\n",
    "\n",
    "# Function to select greeting based on time of day\n",
    "def greet_by_time(is_morning):\n",
    "    if is_morning:\n",
    "        return morning_greet()\n",
    "    else:\n",
    "        return evening_greet()\n",
    "\n",
    "# Test the function\n",
    "print(greet_by_time(True))  # Will call morning_greet\n",
    "print(greet_by_time(False)) # Will call evening_greet\n"
   ]
  },
  {
   "cell_type": "markdown",
   "id": "21dfba10",
   "metadata": {},
   "source": [
    "- We define two functions: morning_greet() and evening_greet().\n",
    "- The function greet_by_time() uses an if statement to determine which greeting function to call.\n",
    "- If is_morning is True, it calls morning_greet(). Otherwise, it calls evening_greet()."
   ]
  },
  {
   "cell_type": "markdown",
   "id": "bd881a93",
   "metadata": {},
   "source": [
    "## 7. Conclusion\n",
    "By combining conditional statements with functions, we can create more versatile and intelligent programs. Functions allow us to encapsulate logic, while conditional statements allow us to make decisions based on inputs. Practice creating your own functions with conditions to master this concept!"
   ]
  },
  {
   "cell_type": "code",
   "execution_count": null,
   "id": "72004bac",
   "metadata": {},
   "outputs": [],
   "source": []
  }
 ],
 "metadata": {
  "kernelspec": {
   "display_name": "Python 3 (ipykernel)",
   "language": "python",
   "name": "python3"
  },
  "language_info": {
   "codemirror_mode": {
    "name": "ipython",
    "version": 3
   },
   "file_extension": ".py",
   "mimetype": "text/x-python",
   "name": "python",
   "nbconvert_exporter": "python",
   "pygments_lexer": "ipython3",
   "version": "3.9.6"
  }
 },
 "nbformat": 4,
 "nbformat_minor": 5
}
