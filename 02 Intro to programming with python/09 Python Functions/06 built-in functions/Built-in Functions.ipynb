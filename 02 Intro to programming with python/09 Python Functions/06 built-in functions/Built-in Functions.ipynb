{
 "cells": [
  {
   "cell_type": "markdown",
   "id": "6c889472",
   "metadata": {},
   "source": [
    "# Built-in Functions\n",
    "## 1. Introduction to Built-in Functions\n",
    "Python comes with many built-in functions that allow us to perform common tasks without needing to write extra code. These functions are pre-defined and always available in Python.\n",
    "\n",
    "Example: Functions like print(), len(), type(), and input() are all built-in functions in Python.\n",
    "\n",
    "Purpose: To introduce some of the most commonly used built-in functions and how to use them effectively in programming."
   ]
  },
  {
   "cell_type": "markdown",
   "id": "cb300d7b",
   "metadata": {},
   "source": [
    "## 2. print() Function\n",
    " The print() function is used to output data to the console.\n"
   ]
  },
  {
   "cell_type": "code",
   "execution_count": 1,
   "id": "6a613950",
   "metadata": {},
   "outputs": [
    {
     "name": "stdout",
     "output_type": "stream",
     "text": [
      "This is a test\n"
     ]
    }
   ],
   "source": [
    "print(\"This is a test\")"
   ]
  },
  {
   "cell_type": "markdown",
   "id": "effa182d",
   "metadata": {},
   "source": [
    "## 3. len() Function\n",
    "The len() function returns the number of elements in an object, such as a string, list, or tuple."
   ]
  },
  {
   "cell_type": "code",
   "execution_count": 3,
   "id": "d51e7b57",
   "metadata": {},
   "outputs": [
    {
     "name": "stdout",
     "output_type": "stream",
     "text": [
      "7\n",
      "5\n"
     ]
    }
   ],
   "source": [
    "my_list = [1, 2, 3, 4, 5,6,7]\n",
    "print(len(my_list))\n",
    "print(len(\"Hello\"))\n"
   ]
  },
  {
   "cell_type": "markdown",
   "id": "3d3aab38",
   "metadata": {},
   "source": [
    "## 4. type() Function\n",
    " The type() function returns the type of the object passed to it."
   ]
  },
  {
   "cell_type": "code",
   "execution_count": 4,
   "id": "46e786eb",
   "metadata": {},
   "outputs": [
    {
     "name": "stdout",
     "output_type": "stream",
     "text": [
      "<class 'int'>\n",
      "<class 'float'>\n",
      "<class 'str'>\n",
      "<class 'list'>\n"
     ]
    }
   ],
   "source": [
    "print(type(5))        # int\n",
    "print(type(5.5))      # float\n",
    "print(type(\"Hello\"))  # str\n",
    "print(type([1, 2, 3]))# list\n"
   ]
  },
  {
   "cell_type": "markdown",
   "id": "e3932f3e",
   "metadata": {},
   "source": [
    "## 5. input() Function\n",
    " The input() function is used to take input from the user. It returns the input as a string."
   ]
  },
  {
   "cell_type": "code",
   "execution_count": 5,
   "id": "c4cadfa8",
   "metadata": {},
   "outputs": [
    {
     "name": "stdout",
     "output_type": "stream",
     "text": [
      "Enter your name: Akarsh\n",
      "Hello, Akarsh\n"
     ]
    }
   ],
   "source": [
    "name = input(\"Enter your name: \")\n",
    "print(\"Hello, \" + name)\n"
   ]
  },
  {
   "cell_type": "markdown",
   "id": "283e0d44",
   "metadata": {},
   "source": [
    "## 6. sum() Function\n",
    "The sum() function returns the sum of all items in an iterable, such as a list or tuple."
   ]
  },
  {
   "cell_type": "code",
   "execution_count": 6,
   "id": "d792f298",
   "metadata": {},
   "outputs": [
    {
     "name": "stdout",
     "output_type": "stream",
     "text": [
      "15\n",
      "25\n"
     ]
    }
   ],
   "source": [
    "numbers = [1, 2, 3, 4, 5]\n",
    "print(sum(numbers))\n",
    "print(sum(numbers, 10))  # Adding 10 to the sum\n"
   ]
  },
  {
   "cell_type": "markdown",
   "id": "bf628709",
   "metadata": {},
   "source": [
    "## 7. min() and max() Functions\n",
    "The min() and max() functions return the smallest and largest item in an iterable, respectively."
   ]
  },
  {
   "cell_type": "code",
   "execution_count": 7,
   "id": "8cb80a97",
   "metadata": {},
   "outputs": [
    {
     "name": "stdout",
     "output_type": "stream",
     "text": [
      "1\n",
      "8\n"
     ]
    }
   ],
   "source": [
    "numbers = [5, 1, 8, 3, 2]\n",
    "print(min(numbers))  # 1\n",
    "print(max(numbers))  # 8\n"
   ]
  },
  {
   "cell_type": "markdown",
   "id": "735abf85",
   "metadata": {},
   "source": [
    "## 8. abs() Function\n",
    " The abs() function returns the absolute value of a number."
   ]
  },
  {
   "cell_type": "code",
   "execution_count": 8,
   "id": "728f60b4",
   "metadata": {},
   "outputs": [
    {
     "name": "stdout",
     "output_type": "stream",
     "text": [
      "10\n",
      "5\n"
     ]
    }
   ],
   "source": [
    "print(abs(-10))  # 10\n",
    "print(abs(5))    # 5\n"
   ]
  },
  {
   "cell_type": "markdown",
   "id": "e1fd8ffe",
   "metadata": {},
   "source": [
    "## 9. round() Function\n",
    " The round() function returns a number rounded to the nearest integer, or to a specified number of decimal places."
   ]
  },
  {
   "cell_type": "code",
   "execution_count": 9,
   "id": "6a22f7d0",
   "metadata": {},
   "outputs": [
    {
     "name": "stdout",
     "output_type": "stream",
     "text": [
      "5\n",
      "4.57\n"
     ]
    }
   ],
   "source": [
    "print(round(4.567))    # 5\n",
    "print(round(4.567, 2)) # 4.57\n"
   ]
  },
  {
   "cell_type": "markdown",
   "id": "6bdbf825",
   "metadata": {},
   "source": [
    "## 10. help() Function\n",
    " The help() function is used to display the documentation for a module, function, class, or object."
   ]
  },
  {
   "cell_type": "code",
   "execution_count": 10,
   "id": "82ec7517",
   "metadata": {},
   "outputs": [
    {
     "name": "stdout",
     "output_type": "stream",
     "text": [
      "Help on built-in function print in module builtins:\n",
      "\n",
      "print(...)\n",
      "    print(value, ..., sep=' ', end='\\n', file=sys.stdout, flush=False)\n",
      "    \n",
      "    Prints the values to a stream, or to sys.stdout by default.\n",
      "    Optional keyword arguments:\n",
      "    file:  a file-like object (stream); defaults to the current sys.stdout.\n",
      "    sep:   string inserted between values, default a space.\n",
      "    end:   string appended after the last value, default a newline.\n",
      "    flush: whether to forcibly flush the stream.\n",
      "\n",
      "Help on built-in function len in module builtins:\n",
      "\n",
      "len(obj, /)\n",
      "    Return the number of items in a container.\n",
      "\n"
     ]
    }
   ],
   "source": [
    "help(print)\n",
    "help(len)\n"
   ]
  },
  {
   "cell_type": "markdown",
   "id": "0434fc44",
   "metadata": {},
   "source": [
    "## 11. dir() Function\n",
    " The dir() function returns a list of the attributes and methods available for an object."
   ]
  },
  {
   "cell_type": "code",
   "execution_count": 11,
   "id": "2fd7047c",
   "metadata": {},
   "outputs": [
    {
     "name": "stdout",
     "output_type": "stream",
     "text": [
      "['__add__', '__class__', '__contains__', '__delattr__', '__dir__', '__doc__', '__eq__', '__format__', '__ge__', '__getattribute__', '__getitem__', '__getnewargs__', '__gt__', '__hash__', '__init__', '__init_subclass__', '__iter__', '__le__', '__len__', '__lt__', '__mod__', '__mul__', '__ne__', '__new__', '__reduce__', '__reduce_ex__', '__repr__', '__rmod__', '__rmul__', '__setattr__', '__sizeof__', '__str__', '__subclasshook__', 'capitalize', 'casefold', 'center', 'count', 'encode', 'endswith', 'expandtabs', 'find', 'format', 'format_map', 'index', 'isalnum', 'isalpha', 'isascii', 'isdecimal', 'isdigit', 'isidentifier', 'islower', 'isnumeric', 'isprintable', 'isspace', 'istitle', 'isupper', 'join', 'ljust', 'lower', 'lstrip', 'maketrans', 'partition', 'removeprefix', 'removesuffix', 'replace', 'rfind', 'rindex', 'rjust', 'rpartition', 'rsplit', 'rstrip', 'split', 'splitlines', 'startswith', 'strip', 'swapcase', 'title', 'translate', 'upper', 'zfill']\n"
     ]
    }
   ],
   "source": [
    "print(dir(str))\n"
   ]
  },
  {
   "cell_type": "markdown",
   "id": "9df05599",
   "metadata": {},
   "source": [
    "## 12. Conclusion\n",
    " Built-in functions in Python are essential tools that simplify various programming tasks. Understanding how to use them effectively will enhance your ability to write efficient and concise code.\n",
    "Further Exploration: There are many more built-in functions in Python, such as sorted(), enumerate(), and zip(). Keep exploring them as you progress in Python!"
   ]
  },
  {
   "cell_type": "code",
   "execution_count": null,
   "id": "c06e77e4",
   "metadata": {},
   "outputs": [],
   "source": []
  },
  {
   "cell_type": "code",
   "execution_count": null,
   "id": "dab95be3",
   "metadata": {},
   "outputs": [],
   "source": []
  }
 ],
 "metadata": {
  "kernelspec": {
   "display_name": "Python 3 (ipykernel)",
   "language": "python",
   "name": "python3"
  },
  "language_info": {
   "codemirror_mode": {
    "name": "ipython",
    "version": 3
   },
   "file_extension": ".py",
   "mimetype": "text/x-python",
   "name": "python",
   "nbconvert_exporter": "python",
   "pygments_lexer": "ipython3",
   "version": "3.9.6"
  }
 },
 "nbformat": 4,
 "nbformat_minor": 5
}
