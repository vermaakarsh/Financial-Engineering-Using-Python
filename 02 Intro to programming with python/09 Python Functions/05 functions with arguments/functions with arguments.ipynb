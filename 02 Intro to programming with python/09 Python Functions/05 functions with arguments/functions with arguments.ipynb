{
 "cells": [
  {
   "cell_type": "markdown",
   "id": "cea9b4e8",
   "metadata": {},
   "source": [
    "# Functions with Arguments in Python\n",
    "\n",
    "In Python, functions allow us to define a block of code that can be executed whenever needed. One of the powerful aspects of Python functions is their ability to accept inputs, known as arguments, which influence how the function operates.\n",
    "\n",
    "In this notebook, we'll cover different types of arguments and how to use them in Python functions.\n"
   ]
  },
  {
   "cell_type": "markdown",
   "id": "cc75775b",
   "metadata": {},
   "source": [
    "## Syntax of Functions with Arguments\n",
    "\n",
    "A function in Python can accept arguments, which act as inputs to the function. You can define arguments inside the parentheses when defining a function.\n",
    "\n",
    "### Syntax:\n",
    "```python\n",
    "def function_name(parameter1, parameter2, ...):\n",
    "    # function body\n",
    "    return result\n"
   ]
  },
  {
   "cell_type": "markdown",
   "id": "68c9d714",
   "metadata": {},
   "source": [
    "\n",
    "### **Types of Arguments**\n",
    "\n",
    "## Types of Arguments\n",
    "\n",
    "### 1. Positional Arguments\n",
    "These are the most common type of arguments. The values you pass into a function are assigned to parameters based on their position.\n",
    "\n"
   ]
  },
  {
   "cell_type": "code",
   "execution_count": 1,
   "id": "a853dd47",
   "metadata": {},
   "outputs": [
    {
     "name": "stdout",
     "output_type": "stream",
     "text": [
      "8\n"
     ]
    }
   ],
   "source": [
    "def add(a, b):\n",
    "    return a + b\n",
    "\n",
    "# Calling the function\n",
    "result = add(3, 5)\n",
    "print(result)  # Output: 8"
   ]
  },
  {
   "cell_type": "markdown",
   "id": "94b8ce09",
   "metadata": {},
   "source": [
    "## 2. Keyword Arguments\n",
    "You can call a function using parameter names, regardless of their order."
   ]
  },
  {
   "cell_type": "code",
   "execution_count": 2,
   "id": "980365ef",
   "metadata": {},
   "outputs": [
    {
     "name": "stdout",
     "output_type": "stream",
     "text": [
      "Hello, Akarsh!\n"
     ]
    }
   ],
   "source": [
    "def greet(name, message):\n",
    "    return f'{message}, {name}!'\n",
    "\n",
    "# Calling with keyword arguments\n",
    "result = greet(name=\"Akarsh\", message=\"Hello\")\n",
    "print(result)  # Output: Hello, Alice!\n"
   ]
  },
  {
   "cell_type": "markdown",
   "id": "e4a85947",
   "metadata": {},
   "source": [
    "## 3. Default Arguments\n",
    "You can assign default values to function parameters. If no argument is provided, the default value will be used."
   ]
  },
  {
   "cell_type": "code",
   "execution_count": 4,
   "id": "7cc316fe",
   "metadata": {},
   "outputs": [
    {
     "name": "stdout",
     "output_type": "stream",
     "text": [
      "Hi, Akarsh!\n",
      "Good morning, Akarsh!\n"
     ]
    }
   ],
   "source": [
    "def greet(name, message=\"Hi\"):\n",
    "    return f'{message}, {name}!'\n",
    "\n",
    "# Calling with and without providing 'message'\n",
    "print(greet(\"Akarsh\"))  # Output: Hi, Bob!\n",
    "print(greet(\"Akarsh\", \"Good morning\"))  # Output: Good morning, Bob!\n"
   ]
  },
  {
   "cell_type": "markdown",
   "id": "68d22de9",
   "metadata": {},
   "source": [
    "## 4. Arbitrary Arguments\n",
    "Sometimes, you may not know how many arguments a function needs to take. Python allows us to pass a variable number of arguments using *args and **kwargs.\n",
    "\n",
    "### *args (Arbitrary Positional Arguments)\n",
    "Allows a function to accept multiple positional arguments."
   ]
  },
  {
   "cell_type": "code",
   "execution_count": 5,
   "id": "3b8330d4",
   "metadata": {},
   "outputs": [
    {
     "name": "stdout",
     "output_type": "stream",
     "text": [
      "6\n",
      "22\n"
     ]
    }
   ],
   "source": [
    "def add_all(*args):\n",
    "    return sum(args)\n",
    "\n",
    "# Calling with varying number of arguments\n",
    "print(add_all(1, 2, 3))  # Output: 6\n",
    "print(add_all(4, 5, 6, 7))  # Output: 22\n"
   ]
  },
  {
   "cell_type": "markdown",
   "id": "3ec9f43a",
   "metadata": {},
   "source": [
    "### *kwargs (Arbitrary Keyword Arguments)\n",
    "Allows a function to accept multiple keyword arguments."
   ]
  },
  {
   "cell_type": "code",
   "execution_count": 7,
   "id": "cb9f0c17",
   "metadata": {},
   "outputs": [
    {
     "name": "stdout",
     "output_type": "stream",
     "text": [
      "name: John\n",
      "age: 25\n",
      "city: New York\n",
      "\n",
      "name: John\n",
      "city: New York\n"
     ]
    }
   ],
   "source": [
    "def introduce(**kwargs):\n",
    "    for key, value in kwargs.items():\n",
    "        print(f'{key}: {value}')\n",
    "\n",
    "# Calling the function\n",
    "introduce(name=\"John\", age=25, city=\"New York\")\n",
    "print() # printing an empty line\n",
    "introduce(name=\"John\", city=\"New York\")"
   ]
  },
  {
   "cell_type": "markdown",
   "id": "06892b5c",
   "metadata": {},
   "source": [
    "\n",
    "\n",
    "## 5. Best Practices for Functions with Arguments\n",
    "\n",
    "1. **Order of Arguments**: Follow the order of positional arguments, *args, default arguments, and then **kwargs.\n",
    "2. **Descriptive Names**: Use meaningful names for arguments to enhance readability.\n",
    "3. **Avoid Side Effects**: Ensure that arguments are not modified within the function unless necessary.\n",
    "4. **Keep Function Simple**: Functions should focus on doing one task, avoid making them overly complex by passing too many arguments.\n"
   ]
  },
  {
   "cell_type": "markdown",
   "id": "b07a009d",
   "metadata": {},
   "source": [
    "## 6. Conclusion\n",
    "\n",
    "In this notebook, we covered how functions with arguments work in Python. We explored positional, keyword, default, and arbitrary arguments (*args and **kwargs). These concepts are essential for writing flexible and reusable functions in Python.\n"
   ]
  }
 ],
 "metadata": {
  "kernelspec": {
   "display_name": "Python 3 (ipykernel)",
   "language": "python",
   "name": "python3"
  },
  "language_info": {
   "codemirror_mode": {
    "name": "ipython",
    "version": 3
   },
   "file_extension": ".py",
   "mimetype": "text/x-python",
   "name": "python",
   "nbconvert_exporter": "python",
   "pygments_lexer": "ipython3",
   "version": "3.9.6"
  }
 },
 "nbformat": 4,
 "nbformat_minor": 5
}
