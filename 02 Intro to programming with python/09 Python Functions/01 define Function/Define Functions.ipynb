{
 "cells": [
  {
   "attachments": {
    "image.png": {
     "image/png": "[encoded data removed]"
    }
   },
   "cell_type": "markdown",
   "id": "2abe80cf",
   "metadata": {},
   "source": [
    "## 1. Introduction to Functions\n",
    "\n",
    "Functions are blocks of reusable code that perform a specific task. In Python, functions help make code more modular, readable, and efficient. By using functions, you can avoid repeating code, which leads to better maintainability and reusability.\n",
    "![image.png](attachment:image.png)\n"
   ]
  },
  {
   "cell_type": "markdown",
   "id": "1f8802dd",
   "metadata": {},
   "source": [
    "## 2. Defining a Basic Function\n",
    "\n",
    "A function in Python is defined using the `def` keyword, followed by the function name and parentheses `()`. The body of the function is indented, and it contains the code that gets executed when the function is called.\n",
    "\n",
    "### Syntax:\n",
    "```python\n",
    "def function_name():\n",
    "    # function body\n",
    "    pass\n"
   ]
  },
  {
   "cell_type": "code",
   "execution_count": 2,
   "id": "235097a3",
   "metadata": {},
   "outputs": [
    {
     "name": "stdout",
     "output_type": "stream",
     "text": [
      "Welcome to QuantLab!\n"
     ]
    }
   ],
   "source": [
    "# A simple function that prints \"Hello, World!\"\n",
    "def welcome_msg():\n",
    "    print(\"Welcome to QuantLab!\")\n",
    "\n",
    "# Calling the function\n",
    "welcome_msg()"
   ]
  },
  {
   "cell_type": "markdown",
   "id": "c3f20268",
   "metadata": {},
   "source": [
    "## 3. Functions with Parameters\n",
    "\n",
    "You can define a function that accepts input values, known as parameters or arguments. Parameters make functions more flexible by allowing them to perform tasks based on the input provided.\n",
    "\n",
    "### Syntax:\n",
    "```python\n",
    "def function_name(param1, param2):\n",
    "    # function body\n",
    "    pass\n"
   ]
  },
  {
   "cell_type": "code",
   "execution_count": 5,
   "id": "e1a828c0",
   "metadata": {},
   "outputs": [
    {
     "name": "stdout",
     "output_type": "stream",
     "text": [
      "Hello, my name is Akarsh and I am 35 years old.\n"
     ]
    }
   ],
   "source": [
    "# Function with two parameters\n",
    "def intro(name, age):\n",
    "    print(f\"Hello, my name is {name} and I am {age} years old.\")\n",
    "\n",
    "# Calling the function with arguments\n",
    "intro(\"Akarsh\", 35)"
   ]
  },
  {
   "cell_type": "markdown",
   "id": "44e3bb82",
   "metadata": {},
   "source": [
    "## 4. Return Statement in Functions\n",
    "\n",
    "The `return` statement is used to send back a result or output from a function. A function can return any type of value, such as a number, string, list, etc.\n",
    "\n",
    "### Syntax:\n",
    "```python\n",
    "def function_name():\n",
    "    return value\n"
   ]
  },
  {
   "cell_type": "code",
   "execution_count": 6,
   "id": "a39fcdf2",
   "metadata": {},
   "outputs": [
    {
     "name": "stdout",
     "output_type": "stream",
     "text": [
      "The sum is: 30\n"
     ]
    }
   ],
   "source": [
    "# Function that returns the sum of two numbers\n",
    "def add_numbers(a, b):\n",
    "    return a + b\n",
    "\n",
    "# Calling the function and storing the result\n",
    "result = add_numbers(10, 20)\n",
    "print(f\"The sum is: {result}\")"
   ]
  },
  {
   "cell_type": "markdown",
   "id": "6b47b402",
   "metadata": {},
   "source": [
    "## 5. Default Parameters\n",
    "\n",
    "Python allows you to define default values for parameters. If no argument is passed for that parameter when calling the function, the default value will be used.\n",
    "\n",
    "### Syntax:\n",
    "```python\n",
    "def function_name(param1=default_value):\n",
    "    # function body\n",
    "    pass\n"
   ]
  },
  {
   "cell_type": "code",
   "execution_count": 7,
   "id": "21cf95fa",
   "metadata": {},
   "outputs": [
    {
     "name": "stdout",
     "output_type": "stream",
     "text": [
      "Hello, Guest!\n",
      "Hello, Akarsh!\n"
     ]
    }
   ],
   "source": [
    "# Function with a default parameter\n",
    "def intro(name=\"Guest\"):\n",
    "    print(f\"Hello, {name}!\")\n",
    "\n",
    "# Calling the function without passing an argument\n",
    "intro()\n",
    "\n",
    "# Calling the function with an argument\n",
    "intro(\"Akarsh\")"
   ]
  },
  {
   "cell_type": "markdown",
   "id": "34d13f43",
   "metadata": {},
   "source": [
    "## 6. Keyword Arguments\n",
    "\n",
    "In Python, you can call functions using keyword arguments, where you explicitly specify the parameter name during the function call. This makes the code more readable and allows you to pass arguments in any order.\n",
    "\n",
    "### Syntax:\n",
    "```python\n",
    "function_name(param_name=value)\n"
   ]
  },
  {
   "cell_type": "code",
   "execution_count": 8,
   "id": "577ef4a1",
   "metadata": {},
   "outputs": [
    {
     "name": "stdout",
     "output_type": "stream",
     "text": [
      "I have a cat named Whiskers.\n",
      "I have a parrot named Polly.\n"
     ]
    }
   ],
   "source": [
    "# Function with multiple parameters\n",
    "def describe_pet(pet_name, animal_type=\"dog\"):\n",
    "    print(f\"I have a {animal_type} named {pet_name}.\")\n",
    "\n",
    "# Calling the function using keyword arguments\n",
    "describe_pet(pet_name=\"Whiskers\", animal_type=\"cat\")\n",
    "describe_pet(animal_type=\"parrot\", pet_name=\"Polly\")"
   ]
  },
  {
   "cell_type": "markdown",
   "id": "ffde4932",
   "metadata": {},
   "source": [
    "## 7. Variable-Length Arguments (`*args` and `**kwargs`)\n",
    "\n",
    "Python allows functions to accept arbitrary numbers of positional arguments using `*args` and keyword arguments using `**kwargs`.\n",
    "\n",
    "- `*args`: Captures any extra positional arguments as a tuple.\n",
    "- `**kwargs`: Captures any extra keyword arguments as a dictionary.\n",
    "\n",
    "### Syntax:\n",
    "```python\n",
    "def function_name(*args):\n",
    "    # function body\n",
    "    pass\n",
    "\n",
    "def function_name(**kwargs):\n",
    "    # function body\n",
    "    pass\n"
   ]
  },
  {
   "cell_type": "code",
   "execution_count": 10,
   "id": "13ffa1c4",
   "metadata": {},
   "outputs": [
    {
     "name": "stdout",
     "output_type": "stream",
     "text": [
      "6\n",
      "50\n"
     ]
    }
   ],
   "source": [
    "# Function with *args for multiple positional arguments\n",
    "def sum_numbers(*args):\n",
    "    return sum(args)\n",
    "\n",
    "# Calling the function with different numbers of arguments\n",
    "print(sum_numbers(1, 2, 3))  # Output: 6\n",
    "print(sum_numbers(5, 10, 15, 20))  # Output: 50\n",
    "\n"
   ]
  },
  {
   "cell_type": "code",
   "execution_count": 11,
   "id": "06d85537",
   "metadata": {},
   "outputs": [
    {
     "name": "stdout",
     "output_type": "stream",
     "text": [
      "name: Akarsh\n",
      "age: 35\n",
      "job: Engineer\n"
     ]
    }
   ],
   "source": [
    "# Function with **kwargs for multiple keyword arguments\n",
    "def describe_person(**kwargs):\n",
    "    for key, value in kwargs.items():\n",
    "        print(f\"{key}: {value}\")\n",
    "\n",
    "# Calling the function with keyword arguments\n",
    "describe_person(name=\"Akarsh\", age=35, job=\"Engineer\")"
   ]
  },
  {
   "cell_type": "markdown",
   "id": "4d545070",
   "metadata": {},
   "source": [
    "## 8. Scope of Variables\n",
    "\n",
    "The scope of a variable refers to where in the code it is accessible. Variables defined inside a function have local scope, while variables defined outside a function have global scope.\n",
    "\n",
    "- Local variables: Only accessible within the function.\n",
    "- Global variables: Accessible throughout the entire program.\n",
    "\n",
    "### Example:\n"
   ]
  },
  {
   "cell_type": "code",
   "execution_count": 12,
   "id": "7881c07a",
   "metadata": {},
   "outputs": [
    {
     "name": "stdout",
     "output_type": "stream",
     "text": [
      "Global x: 10, Local y: 5\n"
     ]
    }
   ],
   "source": [
    "# Global variable\n",
    "x = 10\n",
    "\n",
    "def display():\n",
    "    # Local variable\n",
    "    y = 5\n",
    "    print(f\"Global x: {x}, Local y: {y}\")\n",
    "\n",
    "# Calling the function\n",
    "display()\n",
    "\n",
    "# Trying to access local variable y outside the function will raise an error\n",
    "# print(y)  # This will cause a NameError\n"
   ]
  },
  {
   "cell_type": "markdown",
   "id": "541d6ad6",
   "metadata": {},
   "source": [
    "## 9. Conclusion\n",
    "\n",
    "Functions are a vital part of Python programming. They help structure code, make it reusable, and enable complex operations to be divided into simpler tasks. This notebook covered basic function definitions, parameters, return statements, variable-length arguments, and the scope of variables in functions. Mastering functions will greatly improve your Python programming skills.\n"
   ]
  },
  {
   "cell_type": "markdown",
   "id": "556eed25",
   "metadata": {},
   "source": [
    "## 10. Practice Exercises\n",
    "- Write a function named multiply_by_two that takes a number as an argument and returns the number multiplied by two.\n",
    "- Write a function named area_of_rectangle that takes two arguments: length and width, and returns the area of the rectangle.\n",
    "- Write a function named is_even that takes a number as an argument and returns True if the number is even, and False otherwise.\n",
    "- Write a function named sum_all_numbers that accepts any number of arguments and returns their sum using *args."
   ]
  },
  {
   "cell_type": "code",
   "execution_count": null,
   "id": "ba588af3",
   "metadata": {},
   "outputs": [],
   "source": []
  }
 ],
 "metadata": {
  "kernelspec": {
   "display_name": "Python 3 (ipykernel)",
   "language": "python",
   "name": "python3"
  },
  "language_info": {
   "codemirror_mode": {
    "name": "ipython",
    "version": 3
   },
   "file_extension": ".py",
   "mimetype": "text/x-python",
   "name": "python",
   "nbconvert_exporter": "python",
   "pygments_lexer": "ipython3",
   "version": "3.9.6"
  }
 },
 "nbformat": 4,
 "nbformat_minor": 5
}
