{
 "cells": [
  {
   "cell_type": "markdown",
   "id": "c36ff978",
   "metadata": {},
   "source": [
    "### Understanding Programming and Computer Science\n",
    "\n",
    "- **Problem Solving in Daily Life**: \n",
    "  - We solve tasks in our lives, some easily, while others require the help of a computer.\n",
    "  - Computers only understand binary (0s and 1s), like a light switch with \"on\" and \"off\" phases.\n",
    "\n",
    "- **Source Code**: \n",
    "  - To solve problems with a computer, we need to create a **source code**. \n",
    "  - This code is human-readable but can be processed by software into something a computer can understand.\n",
    "\n",
    "- **What is a Program?**: \n",
    "  - A program is a sequence of instructions that the computer follows to execute a task.\n",
    "  - **Programming**: Writing down instructions in a specific language that the computer can understand.\n",
    "\n",
    "- **Computer Science vs. Programming**:\n",
    "  - **Computer Science** is about understanding what computers can do.\n",
    "  - **Programming** is the activity of instructing computers to perform specific tasks.\n",
    "  - These are often confused but are fundamentally different.\n",
    "\n",
    "- **Diverse Programming Languages**: \n",
    "  - There are over **1,000 programming languages**, each designed for specific tasks.\n",
    "  - For example:\n",
    "    - **PHP** is good for web development.\n",
    "    - **C** is useful for programming devices.\n",
    "    - **Python** and **R** are popular in data science and finance.\n",
    "\n",
    "- **Becoming a Good Programmer**:\n",
    "  1. **Problem-Solving Skills**: \n",
    "     - Abstract thinking is required to understand the problem and break it down into smaller computational steps.\n",
    "  2. **Mechanistic Thinking**: \n",
    "     - Computers only do exactly what you tell them, with no interpretation.\n",
    "     - This means you need to be precise in writing code.\n",
    "  3. **Solid Syntax Knowledge**: \n",
    "     - Knowing the syntax of a programming language is crucial, as it helps in writing effective and understandable code.\n",
    "\n",
    "- **Example**: \n",
    "  - A boss asks John to create a program that adds 10 to any number input by the boss. \n",
    "  - John can express the task as: \n",
    "    - If **X** is the number provided, the program should return **X + 10**.\n",
    "\n",
    "- **Best Practices in Programming**:\n",
    "  - As programs grow from a few lines to hundreds, good practices become vital:\n",
    "    - Code should be **organized**, **easy to read**, and have **meaningful variable names**.\n",
    "  - These practices make code easier to understand by others and improve collaboration.\n",
    "\n",
    "- **Programming Challenges**:\n",
    "  - Help develop mechanistic thinking and problem-solving abilities.\n",
    "  - Encourage breaking problems down into smaller steps and organizing them in a way that the computer can execute.\n",
    "\n",
    "### Conclusion\n",
    "- Programming is about problem-solving and communicating those solutions to a computer in a structured way.\n",
    "- Solid syntax knowledge, organized code, and best practices are crucial for success in programming."
   ]
  }
 ],
 "metadata": {
  "kernelspec": {
   "display_name": "Python 3 (ipykernel)",
   "language": "python",
   "name": "python3"
  },
  "language_info": {
   "codemirror_mode": {
    "name": "ipython",
    "version": 3
   },
   "file_extension": ".py",
   "mimetype": "text/x-python",
   "name": "python",
   "nbconvert_exporter": "python",
   "pygments_lexer": "ipython3",
   "version": "3.9.6"
  }
 },
 "nbformat": 4,
 "nbformat_minor": 5
}
