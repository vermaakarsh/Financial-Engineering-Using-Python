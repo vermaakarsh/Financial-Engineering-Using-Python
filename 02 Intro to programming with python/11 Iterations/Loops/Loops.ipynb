{
 "cells": [
  {
   "cell_type": "markdown",
   "id": "2566cca6",
   "metadata": {},
   "source": [
    "# Introduction to Loops in Python\n",
    "## 1. What is a Loop?\n",
    "A loop in programming allows you to repeat a block of code multiple times, either for a fixed number of iterations or until a certain condition is met. Loops are essential for automation, handling repetitive tasks, and simplifying code.\n",
    "\n",
    "## Python provides two types of loops:\n",
    "\n",
    "- for loops: Iterates over a sequence.\n",
    "- while loops: Repeats as long as a condition is True.\n"
   ]
  },
  {
   "cell_type": "markdown",
   "id": "21f4fbdd",
   "metadata": {},
   "source": [
    "## 2. Why Use Loops?\n",
    "Loops help in:\n",
    "\n",
    "- Reducing redundancy: Eliminates the need for repetitive code.\n",
    "- Automation: Allows processes to run for multiple iterations or until a condition is satisfied.\n",
    "- Handling large datasets: Useful for traversing lists, dictionaries, or other sequences.\n",
    "\n",
    "Example (Without using loops):"
   ]
  },
  {
   "cell_type": "code",
   "execution_count": 1,
   "id": "89a77fea",
   "metadata": {},
   "outputs": [
    {
     "name": "stdout",
     "output_type": "stream",
     "text": [
      "1\n",
      "2\n",
      "3\n",
      "4\n",
      "5\n"
     ]
    }
   ],
   "source": [
    "print(1)\n",
    "print(2)\n",
    "print(3)\n",
    "print(4)\n",
    "print(5)\n"
   ]
  },
  {
   "cell_type": "markdown",
   "id": "94f3f071",
   "metadata": {},
   "source": [
    "Example (Using a loop):\n",
    "\n"
   ]
  },
  {
   "cell_type": "code",
   "execution_count": 3,
   "id": "26194620",
   "metadata": {},
   "outputs": [
    {
     "name": "stdout",
     "output_type": "stream",
     "text": [
      "1\n",
      "2\n",
      "3\n",
      "4\n",
      "5\n"
     ]
    }
   ],
   "source": [
    "for i in range(1,6):\n",
    "    print(i)"
   ]
  },
  {
   "cell_type": "markdown",
   "id": "d533812e",
   "metadata": {},
   "source": [
    "## 3. for Loops\n",
    "The for loop is used for iterating over a sequence (such as a list, tuple, or string). You can define the loop to perform operations for each element in the sequence."
   ]
  },
  {
   "cell_type": "code",
   "execution_count": 4,
   "id": "686b77e1",
   "metadata": {},
   "outputs": [
    {
     "name": "stdout",
     "output_type": "stream",
     "text": [
      "apple\n",
      "banana\n",
      "cherry\n"
     ]
    }
   ],
   "source": [
    "fruits = [\"apple\", \"banana\", \"cherry\"]\n",
    "for fruit in fruits:\n",
    "    print(fruit)\n"
   ]
  },
  {
   "cell_type": "markdown",
   "id": "85390552",
   "metadata": {},
   "source": [
    "## 4. while Loops\n",
    "A while loop continues to execute as long as the condition is True. Once the condition becomes False, the loop stops."
   ]
  },
  {
   "cell_type": "code",
   "execution_count": 5,
   "id": "1bb87e5d",
   "metadata": {},
   "outputs": [
    {
     "name": "stdout",
     "output_type": "stream",
     "text": [
      "0\n",
      "1\n",
      "2\n",
      "3\n",
      "4\n"
     ]
    }
   ],
   "source": [
    "x = 0\n",
    "while x < 5:\n",
    "    print(x)\n",
    "    x += 1  # Increment x to avoid infinite loop\n"
   ]
  },
  {
   "cell_type": "markdown",
   "id": "ad3c1d60",
   "metadata": {},
   "source": [
    "- The loop starts with x = 0 and continues to execute until x is no longer less than 5.\n",
    "- The x += 1 increments the value of x in each iteration."
   ]
  },
  {
   "cell_type": "markdown",
   "id": "bf2f0a63",
   "metadata": {},
   "source": [
    "## 5. break and continue Statements\n",
    "- break: Used to exit the loop before it has iterated over all items.\n",
    "- continue: Skips the current iteration and proceeds to the next one."
   ]
  },
  {
   "cell_type": "code",
   "execution_count": 8,
   "id": "6346a567",
   "metadata": {},
   "outputs": [
    {
     "name": "stdout",
     "output_type": "stream",
     "text": [
      "0\n",
      "1\n"
     ]
    }
   ],
   "source": [
    "for i in range(10):\n",
    "    if i == 2:\n",
    "        break  # Exit the loop when i is 5\n",
    "    print(i)\n"
   ]
  },
  {
   "cell_type": "code",
   "execution_count": 9,
   "id": "55ed0f95",
   "metadata": {},
   "outputs": [
    {
     "name": "stdout",
     "output_type": "stream",
     "text": [
      "0\n",
      "1\n",
      "3\n",
      "4\n",
      "5\n",
      "6\n",
      "7\n",
      "8\n",
      "9\n"
     ]
    }
   ],
   "source": [
    "for i in range(10):\n",
    "    if i== 2:\n",
    "        continue  # Skip even numbers\n",
    "    print(i)\n"
   ]
  },
  {
   "cell_type": "markdown",
   "id": "eb48f31c",
   "metadata": {},
   "source": [
    "## 6. Nested Loops\n",
    "You can place one loop inside another loop. These are known as nested loops."
   ]
  },
  {
   "cell_type": "code",
   "execution_count": 10,
   "id": "acc77ecc",
   "metadata": {},
   "outputs": [
    {
     "name": "stdout",
     "output_type": "stream",
     "text": [
      "i: 0, j: 0\n",
      "i: 0, j: 1\n",
      "i: 1, j: 0\n",
      "i: 1, j: 1\n",
      "i: 2, j: 0\n",
      "i: 2, j: 1\n"
     ]
    }
   ],
   "source": [
    "for i in range(3):\n",
    "    for j in range(2):\n",
    "        print(f\"i: {i}, j: {j}\")\n"
   ]
  },
  {
   "cell_type": "markdown",
   "id": "e6a4f79b",
   "metadata": {},
   "source": [
    "- The outer loop runs three times (i = 0, 1, 2).\n",
    "- The inner loop runs twice for each iteration of the outer loop.\n"
   ]
  },
  {
   "cell_type": "markdown",
   "id": "ae13fb36",
   "metadata": {},
   "source": [
    "## 7. Infinite Loops\n",
    "An infinite loop runs forever unless stopped manually or unless a condition is used to break out of the loop."
   ]
  },
  {
   "cell_type": "code",
   "execution_count": null,
   "id": "b0cfe3b3",
   "metadata": {},
   "outputs": [],
   "source": [
    "while True:\n",
    "    print(\"This is an infinite loop\")\n",
    "#Note: Be cautious with infinite loops as they can cause your program to hang."
   ]
  },
  {
   "cell_type": "markdown",
   "id": "5db619b1",
   "metadata": {},
   "source": [
    "## 8. Looping through Dictionaries\n",
    "You can loop through dictionary keys, values, or both using the .items(), .keys(), or .values() methods."
   ]
  },
  {
   "cell_type": "code",
   "execution_count": 11,
   "id": "7559020c",
   "metadata": {},
   "outputs": [
    {
     "name": "stdout",
     "output_type": "stream",
     "text": [
      "name: John\n",
      "age: 30\n",
      "city: New York\n"
     ]
    }
   ],
   "source": [
    "person = {'name': 'John', 'age': 30, 'city': 'New York'}\n",
    "for key, value in person.items():\n",
    "    print(f\"{key}: {value}\")\n"
   ]
  },
  {
   "cell_type": "markdown",
   "id": "a383f091",
   "metadata": {},
   "source": [
    "## 9. Combining Conditional Statements with Loops\n",
    "We can combine conditional statements (if, else, elif) with loops to make decisions within the loop."
   ]
  },
  {
   "cell_type": "code",
   "execution_count": 12,
   "id": "dcdd7da1",
   "metadata": {},
   "outputs": [
    {
     "name": "stdout",
     "output_type": "stream",
     "text": [
      "0 is less than 3\n",
      "1 is less than 3\n",
      "2 is less than 3\n",
      "3 is greater than or equal to 3\n",
      "4 is greater than or equal to 3\n",
      "5 is greater than or equal to 3\n"
     ]
    }
   ],
   "source": [
    "# Using if-else in a loop\n",
    "for i in range(6):\n",
    "    if i < 3:\n",
    "        print(f\"{i} is less than 3\")\n",
    "    else:\n",
    "        print(f\"{i} is greater than or equal to 3\")\n"
   ]
  },
  {
   "cell_type": "markdown",
   "id": "6b65debf",
   "metadata": {},
   "source": [
    "## 10. Nested Conditions in Loops\n",
    " Conditions can also be nested within loops. This allows for more complex logic, where a loop runs based on multiple levels of conditions."
   ]
  },
  {
   "cell_type": "code",
   "execution_count": 13,
   "id": "8ffae2eb",
   "metadata": {},
   "outputs": [
    {
     "name": "stdout",
     "output_type": "stream",
     "text": [
      "0 is zero\n",
      "1 is an odd number\n",
      "2 is an even number\n",
      "3 is an odd number\n",
      "4 is an even number\n"
     ]
    }
   ],
   "source": [
    "# Nested condition inside a for loop\n",
    "for i in range(5):\n",
    "    if i % 2 == 0:\n",
    "        if i == 0:\n",
    "            print(f\"{i} is zero\")\n",
    "        else:\n",
    "            print(f\"{i} is an even number\")\n",
    "    else:\n",
    "        print(f\"{i} is an odd number\")\n"
   ]
  },
  {
   "cell_type": "markdown",
   "id": "df0ec995",
   "metadata": {},
   "source": [
    "## 11. Infinite Loops and Conditional Breaks\n",
    " Be cautious with while loops, as improper conditions can lead to infinite loops. We can use a condition inside the loop to ensure that the loop eventually terminates."
   ]
  },
  {
   "cell_type": "code",
   "execution_count": 14,
   "id": "699bdb03",
   "metadata": {},
   "outputs": [
    {
     "name": "stdout",
     "output_type": "stream",
     "text": [
      "0\n",
      "1\n",
      "2\n",
      "Breaking out of the infinite loop\n"
     ]
    }
   ],
   "source": [
    "count = 0\n",
    "while True:  # Infinite loop\n",
    "    print(count)\n",
    "    count += 1\n",
    "    if count == 3:\n",
    "        print(\"Breaking out of the infinite loop\")\n",
    "        break\n"
   ]
  },
  {
   "cell_type": "markdown",
   "id": "478e4968",
   "metadata": {},
   "source": [
    "## 12. Looping Through Collections with Conditions\n",
    "Text: We can loop through lists, dictionaries, or other collections while applying conditions to control the loop's behavior.\n",
    "\n"
   ]
  },
  {
   "cell_type": "code",
   "execution_count": 15,
   "id": "25d4485d",
   "metadata": {},
   "outputs": [
    {
     "name": "stdout",
     "output_type": "stream",
     "text": [
      "25 is greater than 20\n",
      "30 is greater than 20\n"
     ]
    }
   ],
   "source": [
    "# Looping through a list with a condition\n",
    "numbers = [10, 15, 20, 25, 30]\n",
    "for number in numbers:\n",
    "    if number > 20:\n",
    "        print(f\"{number} is greater than 20\")\n"
   ]
  },
  {
   "cell_type": "markdown",
   "id": "b80fa577",
   "metadata": {},
   "source": [
    "## 13. Common Errors with Loops\n",
    "- Infinite loops: Caused when the termination condition is not met.\n",
    "- Off-by-one errors: These occur when the range is improperly defined, causing one extra or fewer iteration than intended.\n"
   ]
  },
  {
   "cell_type": "markdown",
   "id": "acd3ca52",
   "metadata": {},
   "source": [
    "## 14. Practice Problems\n",
    "- Problem 1:\n",
    "Write a loop that prints numbers from 1 to 10.\n",
    "\n",
    "- Problem 2:\n",
    "Use a loop to print all even numbers between 1 and 20.\n",
    "\n",
    "- Problem 3:\n",
    "Write a loop that prints all the items in a list but stops when it encounters the word \"stop\"."
   ]
  }
 ],
 "metadata": {
  "kernelspec": {
   "display_name": "Python 3 (ipykernel)",
   "language": "python",
   "name": "python3"
  },
  "language_info": {
   "codemirror_mode": {
    "name": "ipython",
    "version": 3
   },
   "file_extension": ".py",
   "mimetype": "text/x-python",
   "name": "python",
   "nbconvert_exporter": "python",
   "pygments_lexer": "ipython3",
   "version": "3.9.6"
  }
 },
 "nbformat": 4,
 "nbformat_minor": 5
}
