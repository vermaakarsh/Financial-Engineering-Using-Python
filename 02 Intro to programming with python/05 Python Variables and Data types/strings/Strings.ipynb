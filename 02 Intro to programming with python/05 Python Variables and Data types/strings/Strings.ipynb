{
 "cells": [
  {
   "cell_type": "markdown",
   "id": "7853986f",
   "metadata": {},
   "source": [
    "# Title: Python Basics - Strings\n",
    "## Introduction\n",
    "Provide a brief introduction to strings in Python, including:\n",
    "- Definition of a string.\n",
    "- Use of strings in Python programming.\n",
    "- Common operations that can be performed on strings."
   ]
  },
  {
   "cell_type": "markdown",
   "id": "aaeb7a0a",
   "metadata": {},
   "source": [
    "### Strings\n",
    "In Python, a string is a sequence of characters enclosed in quotes (single, double, or triple). Strings are immutable, meaning once defined, they cannot be altered. They are widely used for data processing, especially in handling textual data.\n"
   ]
  },
  {
   "cell_type": "markdown",
   "id": "c9e3f853",
   "metadata": {},
   "source": [
    "# Table of Contents\n",
    "\n",
    "- Introduction\n",
    "- String-Creation\n",
    "- String Indexing and Slicing\n",
    "- String Operations \n",
    "- String Methods\n",
    "- String Formatting\n",
    "- Escape Characters\n",
    "- Raw Strings\n",
    "- Immutability of Strings\n",
    "- String Iteration\n",
    "- Practice Exercises\n",
    "    - Exercise 1: String Slicing\n",
    "    - Exercise 2: Check Substring\n",
    "    - Exercise 3: Palindrome Checker\n",
    "   \n",
    "- Conclusion\n"
   ]
  },
  {
   "cell_type": "markdown",
   "id": "b7260716",
   "metadata": {},
   "source": [
    "## 1. String Creation\n",
    "Explain how to create strings, different types of quotes, and multi-line strings.\n",
    "\n",
    "- Single-line string\n",
    "- Multi-line string"
   ]
  },
  {
   "cell_type": "code",
   "execution_count": 1,
   "id": "7569d2a4",
   "metadata": {},
   "outputs": [
    {
     "name": "stdout",
     "output_type": "stream",
     "text": [
      "Hello, World!\n",
      "This is\n",
      "a multi-line\n",
      "string.\n"
     ]
    }
   ],
   "source": [
    "# Single-line string\n",
    "single_line = \"Hello, World!\"\n",
    "print(single_line)\n",
    "\n",
    "# Multi-line string\n",
    "multi_line = \"\"\"This is\n",
    "a multi-line\n",
    "string.\"\"\"\n",
    "print(multi_line)\n"
   ]
  },
  {
   "cell_type": "markdown",
   "id": "05a6aad9",
   "metadata": {},
   "source": [
    "## 2. String Indexing and Slicing\n",
    "Explain indexing, negative indexing, and slicing of strings.\n",
    "\n",
    "- Access individual characters using indexes.\n",
    "- Slicing strings using start, stop, and step values."
   ]
  },
  {
   "cell_type": "code",
   "execution_count": 4,
   "id": "3f1d3c66",
   "metadata": {},
   "outputs": [
    {
     "name": "stdout",
     "output_type": "stream",
     "text": [
      "Q\n",
      "b\n",
      "Qua\n",
      "antlab\n",
      "baltnauQ\n"
     ]
    }
   ],
   "source": [
    "# Indexing\n",
    "string = \"Quantlab\"\n",
    "print(string[0])   # First character\n",
    "print(string[-1])  # Last character\n",
    "\n",
    "# Slicing\n",
    "print(string[0:3])  # First three characters\n",
    "print(string[2:])   # Characters from index 2 to end\n",
    "print(string[::-1]) # Reversing the string\n"
   ]
  },
  {
   "cell_type": "markdown",
   "id": "d3db9ae4",
   "metadata": {},
   "source": [
    "## 3. String Operations\n",
    "Discuss various operations on strings.\n",
    "\n",
    "- Concatenation\n",
    "- Repetition\n",
    "- Membership operator (in, not in)"
   ]
  },
  {
   "cell_type": "code",
   "execution_count": 7,
   "id": "639a9ea0",
   "metadata": {},
   "outputs": [
    {
     "name": "stdout",
     "output_type": "stream",
     "text": [
      "Hello World\n",
      "Quantlab! Quantlab! Quantlab! \n",
      "True\n"
     ]
    }
   ],
   "source": [
    "# Concatenation\n",
    "greet = \"Hello\" + \" \" + \"World\"\n",
    "print(greet)\n",
    "\n",
    "# Repetition\n",
    "repeat = \"Quantlab! \" * 3\n",
    "print(repeat)\n",
    "\n",
    "# Membership\n",
    "check = \"u\" in \"Quantlab\"\n",
    "print(check)\n"
   ]
  },
  {
   "cell_type": "markdown",
   "id": "1bf92451",
   "metadata": {},
   "source": [
    "## 4. String Methods\n",
    "Introduce commonly used string methods and functions.\n",
    "\n",
    "- .upper(), .lower(), .capitalize(), .title()\n",
    "- .strip(), .rstrip(), .lstrip()\n",
    "- .find(), .replace(), .split(), .join()"
   ]
  },
  {
   "cell_type": "code",
   "execution_count": 11,
   "id": "9f9b0abe",
   "metadata": {},
   "outputs": [
    {
     "name": "stdout",
     "output_type": "stream",
     "text": [
      "WELCOME TO QUANTLAB\n",
      "welcome to quantlab\n",
      "Welcome To Quantlab\n",
      "Python\n",
      "I love Financial programming.\n",
      "['I', 'love', 'Python', 'programming.']\n",
      "I love Python programming.\n"
     ]
    }
   ],
   "source": [
    "# Case methods\n",
    "string = \"Welcome to Quantlab\"\n",
    "print(string.upper())  # Convert to uppercase\n",
    "print(string.lower())  # Convert to lowercase\n",
    "print(string.title())  # Convert to title case\n",
    "\n",
    "# Strip methods\n",
    "whitespace_string = \"   Python   \"\n",
    "print(whitespace_string.strip())  # Remove surrounding spaces\n",
    "\n",
    "# Find and Replace\n",
    "sentence = \"I love Python programming.\"\n",
    "print(sentence.replace(\"Python\", \"Financial\"))\n",
    "\n",
    "# Split and Join\n",
    "words = sentence.split()  # Split by whitespace\n",
    "print(words)\n",
    "print(\" \".join(words))     # Join back with a space\n"
   ]
  },
  {
   "cell_type": "markdown",
   "id": "5e3aba26",
   "metadata": {},
   "source": [
    "## 5. String Formatting\n",
    "Explain how to format strings using:\n",
    "\n",
    "- Old-style formatting (% operator).\n",
    "- New-style formatting (str.format()).\n",
    "- f-strings (Python 3.6+)."
   ]
  },
  {
   "cell_type": "code",
   "execution_count": 12,
   "id": "71a69b02",
   "metadata": {},
   "outputs": [
    {
     "name": "stdout",
     "output_type": "stream",
     "text": [
      "My name is Akarsh and I am 35 years old.\n",
      "My name is Akarsh and I am 35 years old.\n",
      "My name is Akarsh and I am 35 years old.\n"
     ]
    }
   ],
   "source": [
    "# Old-style formatting\n",
    "name = \"Akarsh\"\n",
    "age = 35\n",
    "print(\"My name is %s and I am %d years old.\" % (name, age))\n",
    "\n",
    "# New-style formatting\n",
    "print(\"My name is {} and I am {} years old.\".format(name, age))\n",
    "\n",
    "# f-strings (Python 3.6+)\n",
    "print(f\"My name is {name} and I am {age} years old.\")\n"
   ]
  },
  {
   "cell_type": "markdown",
   "id": "aa190db1",
   "metadata": {},
   "source": [
    "## 6. Escape Characters\n",
    " Escape sequences for special characters like newline, tab, quotes, etc.\n",
    "\n",
    "- Newline (\\n)\n",
    "- Tab (\\t)\n",
    "- Single quote (\\')\n",
    "- Double quote (\\\")"
   ]
  },
  {
   "cell_type": "code",
   "execution_count": 14,
   "id": "bacf54ed",
   "metadata": {},
   "outputs": [
    {
     "name": "stdout",
     "output_type": "stream",
     "text": [
      "Hello\n",
      "World\n",
      "\n",
      "Hello\tWorld\n",
      "I'm a Financial coder\n"
     ]
    }
   ],
   "source": [
    "# Escape characters\n",
    "print(\"Hello\\nWorld\")    # Newline\n",
    "print()                  # Blank line\n",
    "print(\"Hello\\tWorld\")    # Tab\n",
    "print(\"I\\'m a Financial coder\")  # Single quote escape\n"
   ]
  },
  {
   "cell_type": "markdown",
   "id": "78844e40",
   "metadata": {},
   "source": [
    "## 7. Raw Strings\n",
    "Raw strings where backslashes are treated literally, which is useful in file paths and regular expressions."
   ]
  },
  {
   "cell_type": "code",
   "execution_count": 15,
   "id": "15a7edb7",
   "metadata": {},
   "outputs": [
    {
     "name": "stdout",
     "output_type": "stream",
     "text": [
      "C:\\Users\\Python\\Documents\n"
     ]
    }
   ],
   "source": [
    "# Raw strings\n",
    "raw_string = r\"C:\\Users\\Python\\Documents\"\n",
    "print(raw_string)\n"
   ]
  },
  {
   "cell_type": "markdown",
   "id": "8dda8db9",
   "metadata": {},
   "source": [
    "## 8. Immutability of Strings\n",
    "Why strings are immutable in Python and what that means in terms of performance and memory."
   ]
  },
  {
   "cell_type": "code",
   "execution_count": 18,
   "id": "e4e2f252",
   "metadata": {},
   "outputs": [
    {
     "name": "stdout",
     "output_type": "stream",
     "text": [
      "Jython\n"
     ]
    }
   ],
   "source": [
    "# Immutability\n",
    "original = \"Python\"\n",
    "# original[0] = \"J\"  # This will throw an error\n",
    "modified = \"J\" + original[1:]  # Create a new string\n",
    "print(modified)\n"
   ]
  },
  {
   "cell_type": "markdown",
   "id": "540663d2",
   "metadata": {},
   "source": [
    "## 9. String Iteration\n",
    " How to iterate through the characters in a string using loops.\n",
    "\n",
    "for loop to iterate character by character."
   ]
  },
  {
   "cell_type": "code",
   "execution_count": 20,
   "id": "3ad8e541",
   "metadata": {},
   "outputs": [
    {
     "name": "stdout",
     "output_type": "stream",
     "text": [
      "Q\n",
      "u\n",
      "a\n",
      "n\n",
      "t\n",
      "L\n",
      "a\n",
      "b\n"
     ]
    }
   ],
   "source": [
    "# Iterating through a string\n",
    "for char in \"QuantLab\":\n",
    "    print(char)\n"
   ]
  },
  {
   "cell_type": "markdown",
   "id": "67bda31f",
   "metadata": {},
   "source": [
    "## 10. Practical Examples\n",
    "\n",
    "### Exercise 1:\n",
    "- Reversing a string.\n",
    "### Exercise 2:\n",
    "- Counting vowels in a string.\n",
    "### Exercise 3:\n",
    "- Checking if a string is a palindrome."
   ]
  },
  {
   "cell_type": "markdown",
   "id": "598780f0",
   "metadata": {},
   "source": [
    "## 11. Conclusion\n",
    "### Summarize the key points:\n",
    "\n",
    "- Strings are sequences of characters.\n",
    "- They support various operations and methods.\n",
    "- Strings are immutable but can be manipulated with slicing and concatenation."
   ]
  }
 ],
 "metadata": {
  "kernelspec": {
   "display_name": "Python 3 (ipykernel)",
   "language": "python",
   "name": "python3"
  },
  "language_info": {
   "codemirror_mode": {
    "name": "ipython",
    "version": 3
   },
   "file_extension": ".py",
   "mimetype": "text/x-python",
   "name": "python",
   "nbconvert_exporter": "python",
   "pygments_lexer": "ipython3",
   "version": "3.9.6"
  }
 },
 "nbformat": 4,
 "nbformat_minor": 5
}
