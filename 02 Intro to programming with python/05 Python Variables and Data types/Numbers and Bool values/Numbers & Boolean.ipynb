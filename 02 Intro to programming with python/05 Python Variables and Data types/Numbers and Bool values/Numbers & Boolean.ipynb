{
 "cells": [
  {
   "cell_type": "markdown",
   "id": "4cc2110d",
   "metadata": {},
   "source": [
    "# 1. Introduction\n",
    "## Title: Python Basics: Numbers and Boolean Values\n",
    "### Description:\n",
    "A detailed guide on understanding numbers and boolean values in Python, including their types, operations, and applications.\n",
    "\n",
    "### Learning Objectives:\n",
    "1. Understand different types of numbers in Python.\n",
    "2. Perform operations on numbers.\n",
    "3. Work with boolean values and understand their importance.\n",
    "4. Combine numbers and boolean values in conditional statements."
   ]
  },
  {
   "cell_type": "markdown",
   "id": "83580f06",
   "metadata": {},
   "source": [
    "### 2. Table of Contents\n",
    "1. Introduction\n",
    "2. Python Number Types\n",
    "    - Integers\n",
    "    - Floating-point Numbers\n",
    "    - Complex Numbers\n",
    "3. Basic Arithmetic Operations\n",
    "4. Mathematical Functions\n",
    "5. Boolean Values\n",
    "    - True and False\n",
    "    - Comparisons and Logical Operations\n",
    "6. Boolean Expressions and Conditionals\n",
    "7. Summary\n",
    "8. Practice Exercises\n"
   ]
  },
  {
   "cell_type": "markdown",
   "id": "3eee460b",
   "metadata": {},
   "source": [
    "## 3. Python Number Types\n",
    "### 3.1. Integers\n",
    "Definition: Whole numbers, positive or negative, without decimal points."
   ]
  },
  {
   "cell_type": "code",
   "execution_count": 1,
   "id": "f29a84fa",
   "metadata": {},
   "outputs": [
    {
     "name": "stdout",
     "output_type": "stream",
     "text": [
      "10 -5\n"
     ]
    }
   ],
   "source": [
    "# Example of integers\n",
    "a = 10\n",
    "b = -5\n",
    "print(a, b)\n"
   ]
  },
  {
   "cell_type": "markdown",
   "id": "f247abc3",
   "metadata": {},
   "source": [
    "### 3.2. Floating-point Numbers\n",
    "Definition: Numbers with decimal points, e.g., 10.5, -3.14."
   ]
  },
  {
   "cell_type": "code",
   "execution_count": 2,
   "id": "1462ad5f",
   "metadata": {},
   "outputs": [
    {
     "name": "stdout",
     "output_type": "stream",
     "text": [
      "3.14 -0.99\n"
     ]
    }
   ],
   "source": [
    "# Example of floating-point numbers\n",
    "x = 3.14\n",
    "y = -0.99\n",
    "print(x, y)\n"
   ]
  },
  {
   "cell_type": "markdown",
   "id": "4e5a4834",
   "metadata": {},
   "source": [
    "### 3.3. Complex Numbers\n",
    "Definition: Numbers in the form of a + bj, where a and b are real numbers and j is the imaginary unit."
   ]
  },
  {
   "cell_type": "code",
   "execution_count": 3,
   "id": "2853482f",
   "metadata": {},
   "outputs": [
    {
     "name": "stdout",
     "output_type": "stream",
     "text": [
      "(2+3j)\n"
     ]
    }
   ],
   "source": [
    "# Example of complex numbers\n",
    "z = 2 + 3j\n",
    "print(z)\n"
   ]
  },
  {
   "cell_type": "markdown",
   "id": "6b229ab2",
   "metadata": {},
   "source": [
    "## 4. Basic Arithmetic Operations\n",
    "Operations: Addition, Subtraction, Multiplication, Division, Modulus, Exponentiation."
   ]
  },
  {
   "cell_type": "code",
   "execution_count": 4,
   "id": "65cc6909",
   "metadata": {},
   "outputs": [
    {
     "name": "stdout",
     "output_type": "stream",
     "text": [
      "Addition: 13\n",
      "Subtraction: 7\n",
      "Multiplication: 30\n",
      "Division: 3.3333333333333335\n",
      "Modulus: 1\n",
      "Exponentiation: 1000\n"
     ]
    }
   ],
   "source": [
    "# Arithmetic operations\n",
    "a = 10\n",
    "b = 3\n",
    "print(\"Addition:\", a + b)\n",
    "print(\"Subtraction:\", a - b)\n",
    "print(\"Multiplication:\", a * b)\n",
    "print(\"Division:\", a / b)\n",
    "print(\"Modulus:\", a % b)\n",
    "print(\"Exponentiation:\", a ** b)\n"
   ]
  },
  {
   "cell_type": "markdown",
   "id": "b5b3959c",
   "metadata": {},
   "source": [
    "## 5. Mathematical Functions\n",
    "Functions: abs(), round(), pow(), and using the math library for advanced functions."
   ]
  },
  {
   "cell_type": "code",
   "execution_count": 5,
   "id": "bc0bb9e3",
   "metadata": {},
   "outputs": [
    {
     "name": "stdout",
     "output_type": "stream",
     "text": [
      "5\n",
      "3.14\n",
      "8\n",
      "4.0\n",
      "1.0\n"
     ]
    }
   ],
   "source": [
    "import math\n",
    "\n",
    "# Absolute value\n",
    "print(abs(-5))\n",
    "\n",
    "# Rounding numbers\n",
    "print(round(3.14159, 2))\n",
    "\n",
    "# Power function\n",
    "print(pow(2, 3))\n",
    "\n",
    "# Math library for square root and trigonometry\n",
    "print(math.sqrt(16))\n",
    "print(math.sin(math.pi / 2))\n"
   ]
  },
  {
   "cell_type": "markdown",
   "id": "905264c9",
   "metadata": {},
   "source": [
    "## 6. Boolean Values\n",
    "### 6.1. True and False\n",
    "Definition: Boolean values represent truth values and are of type bool."
   ]
  },
  {
   "cell_type": "code",
   "execution_count": 6,
   "id": "840893b7",
   "metadata": {},
   "outputs": [
    {
     "name": "stdout",
     "output_type": "stream",
     "text": [
      "True False\n"
     ]
    }
   ],
   "source": [
    "# Boolean values\n",
    "is_raining = True\n",
    "is_sunny = False\n",
    "print(is_raining, is_sunny)\n"
   ]
  },
  {
   "cell_type": "markdown",
   "id": "0a0d66c2",
   "metadata": {},
   "source": [
    "### 6.2. Comparisons and Logical Operations\n",
    "Comparison Operators:\n",
    "Comparison operators compare values and return a boolean result (True or False).\n",
    "\n",
    "Operators:\n",
    "\n",
    "- == (equal to)\n",
    "- != (not equal to)\n",
    "- \">\" (greater than)\n",
    "- < (less than)\n",
    "- \">=\" (greater than or equal to)\n",
    "- <= (less than or equal to)\n",
    "\n",
    "\n"
   ]
  },
  {
   "cell_type": "code",
   "execution_count": 9,
   "id": "dea8b7e6",
   "metadata": {},
   "outputs": [
    {
     "name": "stdout",
     "output_type": "stream",
     "text": [
      "False\n",
      "True\n",
      "True\n",
      "True\n"
     ]
    }
   ],
   "source": [
    "# Comparison operators\n",
    "a = 5\n",
    "b = 10\n",
    "print(a == b)  # False\n",
    "print(a < b)   # True\n",
    "print(a >= 5)  # True\n",
    "print(b != 5)  # True\n"
   ]
  },
  {
   "cell_type": "markdown",
   "id": "f45469ff",
   "metadata": {},
   "source": [
    "### Logical Operators:\n",
    "Logical operators are used to combine multiple conditions and return a boolean result.\n",
    "\n",
    "- and: Returns True if both conditions are True.\n",
    "- or: Returns True if at least one condition is True.\n",
    "- not: Inverts the boolean value (True becomes False, and False becomes True)."
   ]
  },
  {
   "cell_type": "code",
   "execution_count": 10,
   "id": "aafad633",
   "metadata": {},
   "outputs": [
    {
     "name": "stdout",
     "output_type": "stream",
     "text": [
      "True\n",
      "False\n",
      "True\n",
      "False\n",
      "True\n",
      "False\n"
     ]
    }
   ],
   "source": [
    "# Logical AND\n",
    "a = 7\n",
    "b = 12\n",
    "print(a > 5 and b > 10)  # True because both conditions are True\n",
    "print(a > 10 and b > 10) # False because the first condition is False\n",
    "\n",
    "# Logical OR\n",
    "print(a > 10 or b > 10)  # True because one of the conditions is True\n",
    "print(a < 5 or b < 10)   # False because both conditions are False\n",
    "\n",
    "# Logical NOT\n",
    "print(not (a > 10))  # True because a > 10 is False, so not False becomes True\n",
    "print(not (b > 10))  # False because b > 10 is True, so not True becomes False\n"
   ]
  },
  {
   "cell_type": "markdown",
   "id": "a7267ab0",
   "metadata": {},
   "source": [
    "### Combining Comparisons and Logical Operators\n",
    " You can combine comparison and logical operators to create complex conditions.\n",
    "\n"
   ]
  },
  {
   "cell_type": "code",
   "execution_count": 11,
   "id": "eb4b7201",
   "metadata": {},
   "outputs": [
    {
     "name": "stdout",
     "output_type": "stream",
     "text": [
      "True\n",
      "True\n",
      "True\n"
     ]
    }
   ],
   "source": [
    "# Example of combining comparison and logical operators\n",
    "age = 25\n",
    "salary = 50000\n",
    "\n",
    "# Check if age is greater than 20 AND salary is greater than 40000\n",
    "print(age > 20 and salary > 40000)  # True\n",
    "\n",
    "# Check if age is less than 18 OR salary is less than 60000\n",
    "print(age < 18 or salary < 60000)   # True\n",
    "\n",
    "# Using NOT to invert conditions\n",
    "is_student = False\n",
    "print(not is_student)  # True, because is_student is False, and not False is True\n"
   ]
  },
  {
   "cell_type": "markdown",
   "id": "3cdc9965",
   "metadata": {},
   "source": [
    "## 7. Boolean Expressions and Conditionals\n",
    "Explanation: Combining boolean values with conditionals like if, elif, and else."
   ]
  },
  {
   "cell_type": "code",
   "execution_count": 8,
   "id": "159705f1",
   "metadata": {},
   "outputs": [
    {
     "name": "stdout",
     "output_type": "stream",
     "text": [
      "It's warm.\n"
     ]
    }
   ],
   "source": [
    "# Conditional example\n",
    "temperature = 30\n",
    "\n",
    "if temperature > 35:\n",
    "    print(\"It's very hot!\")\n",
    "elif temperature > 25:\n",
    "    print(\"It's warm.\")\n",
    "else:\n",
    "    print(\"It's cool.\")\n"
   ]
  },
  {
   "cell_type": "markdown",
   "id": "60347a9d",
   "metadata": {},
   "source": [
    "## 8. Summary\n",
    "### Key Takeaways:\n",
    "- Python supports different numeric types such as integers, floats, and complex numbers.\n",
    "- Basic arithmetic and mathematical functions are easy to apply.\n",
    "- Boolean values and logical operations allow conditional logic in programs."
   ]
  },
  {
   "cell_type": "markdown",
   "id": "95b49110",
   "metadata": {},
   "source": [
    "## 9. Practice Exercises\n",
    "### Exercise 1: Basic Arithmetic\n",
    "\n",
    "Problem: Write a Python program that takes two numbers as input and prints their sum, difference, product, and division.\n",
    "\n",
    "### Exercise 2: Boolean Logic\n",
    "\n",
    "Problem: Write a Python program that takes an age as input and prints \"Adult\" if the person is older than 18, and \"Minor\" otherwise.\n",
    "\n",
    "### Exercise 3: Complex Numbers\n",
    "\n",
    "Problem: Write a Python program to add two complex numbers.\n"
   ]
  }
 ],
 "metadata": {
  "kernelspec": {
   "display_name": "Python 3 (ipykernel)",
   "language": "python",
   "name": "python3"
  },
  "language_info": {
   "codemirror_mode": {
    "name": "ipython",
    "version": 3
   },
   "file_extension": ".py",
   "mimetype": "text/x-python",
   "name": "python",
   "nbconvert_exporter": "python",
   "pygments_lexer": "ipython3",
   "version": "3.9.6"
  }
 },
 "nbformat": 4,
 "nbformat_minor": 5
}
