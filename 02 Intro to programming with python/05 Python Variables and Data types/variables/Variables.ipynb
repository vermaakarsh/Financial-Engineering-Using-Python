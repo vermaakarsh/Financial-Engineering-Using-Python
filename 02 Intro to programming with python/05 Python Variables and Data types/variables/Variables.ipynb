{
 "cells": [
  {
   "cell_type": "markdown",
   "id": "a36f3899",
   "metadata": {},
   "source": [
    "# Python Basics: Variables\n",
    "## Introduction\n",
    "A variable is a symbolic name that refers to a value stored in memory. In Python, variables are used to store data that can be referenced and manipulated throughout a program.\n",
    "\n"
   ]
  },
  {
   "cell_type": "markdown",
   "id": "e65c3129",
   "metadata": {},
   "source": [
    "\n",
    "\n",
    "## Table of Contents\n",
    "- What is a Variable?\n",
    "- Naming Variables\n",
    "- Variable Assignment\n",
    "- Variable Types\n",
    "- Multiple Assignments\n",
    "- Constants\n",
    "- Dynamic Typing\n",
    "- Common Errors with Variables\n",
    "- Best Practices for Using Variables"
   ]
  },
  {
   "cell_type": "markdown",
   "id": "dac571e6",
   "metadata": {},
   "source": [
    "## 1. What is a Variable?\n",
    "A variable in Python is like a container that holds data. You can think of it as a label that you assign to a value, and whenever you use that label, you are referring to that value."
   ]
  },
  {
   "cell_type": "code",
   "execution_count": 1,
   "id": "b07d93a5",
   "metadata": {},
   "outputs": [
    {
     "name": "stdout",
     "output_type": "stream",
     "text": [
      "10\n"
     ]
    }
   ],
   "source": [
    "# Example of a variable\n",
    "x = 10\n",
    "print(x)  # Output: 10\n"
   ]
  },
  {
   "cell_type": "markdown",
   "id": "9a3680c0",
   "metadata": {},
   "source": [
    "## 2. Naming Variables \n",
    "In Python, variable names must follow certain rules:\n",
    "\n",
    "- Must begin with a letter (a-z, A-Z) or an underscore (_)\n",
    "- Can contain letters, numbers, and underscores\n",
    "- Cannot use reserved keywords (e.g., if, else, for, etc.)"
   ]
  },
  {
   "cell_type": "code",
   "execution_count": 2,
   "id": "f7f4bd2e",
   "metadata": {},
   "outputs": [
    {
     "ename": "SyntaxError",
     "evalue": "invalid syntax (527101186.py, line 7)",
     "output_type": "error",
     "traceback": [
      "\u001b[1;36m  Cell \u001b[1;32mIn[2], line 7\u001b[1;36m\u001b[0m\n\u001b[1;33m    2value = 10  # SyntaxError: cannot start with a number\u001b[0m\n\u001b[1;37m     ^\u001b[0m\n\u001b[1;31mSyntaxError\u001b[0m\u001b[1;31m:\u001b[0m invalid syntax\n"
     ]
    }
   ],
   "source": [
    "# Valid variable names\n",
    "age = 25\n",
    "_name = \"John\"\n",
    "value2 = 100\n",
    "\n",
    "# Invalid variable names\n",
    "2value = 10  # SyntaxError: cannot start with a number\n"
   ]
  },
  {
   "cell_type": "markdown",
   "id": "e18239cc",
   "metadata": {},
   "source": [
    "## 3. Variable Assignment <a id=\"3\"></a>\n",
    "You can assign values to variables using the = operator."
   ]
  },
  {
   "cell_type": "code",
   "execution_count": 3,
   "id": "77990ad8",
   "metadata": {},
   "outputs": [],
   "source": [
    "# Single assignment\n",
    "x = 5\n",
    "y = \"Hello\"\n",
    "\n",
    "# Reassigning variables\n",
    "x = 7\n"
   ]
  },
  {
   "cell_type": "markdown",
   "id": "e7b6e482",
   "metadata": {},
   "source": [
    "## 4. Variable Types <a id=\"4\"></a>\n",
    "Variables can store different types of data in Python. Python is dynamically typed, so you don’t have to declare the type of variable explicitly.\n",
    "\n",
    "- Integers: Whole numbers\n",
    "- Floats: Numbers with decimals\n",
    "- Strings: Text enclosed in quotes\n",
    "- Booleans: True or False values\n"
   ]
  },
  {
   "cell_type": "code",
   "execution_count": 4,
   "id": "d5378442",
   "metadata": {},
   "outputs": [],
   "source": [
    "# Examples\n",
    "age = 25  # Integer\n",
    "height = 5.9  # Float\n",
    "name = \"Alice\"  # String\n",
    "is_student = True  # Boolean\n"
   ]
  },
  {
   "cell_type": "markdown",
   "id": "ff563882",
   "metadata": {},
   "source": [
    "You can check the type of a variable using the type() function:"
   ]
  },
  {
   "cell_type": "code",
   "execution_count": 5,
   "id": "6f2cc954",
   "metadata": {},
   "outputs": [
    {
     "name": "stdout",
     "output_type": "stream",
     "text": [
      "<class 'int'>\n",
      "<class 'float'>\n"
     ]
    }
   ],
   "source": [
    "print(type(age))  # Output: <class 'int'>\n",
    "print(type(height))  # Output: <class 'float'>\n"
   ]
  },
  {
   "cell_type": "markdown",
   "id": "70ea0a6f",
   "metadata": {},
   "source": [
    "## 5. Multiple Assignments \n",
    "You can assign values to multiple variables in a single line."
   ]
  },
  {
   "cell_type": "code",
   "execution_count": 7,
   "id": "b86dfa4e",
   "metadata": {},
   "outputs": [
    {
     "name": "stdout",
     "output_type": "stream",
     "text": [
      "10\n",
      "10\n",
      "10\n",
      "5\n",
      "Hello\n",
      "3.14\n"
     ]
    }
   ],
   "source": [
    "# Assigning the same value to multiple variables\n",
    "x = y = z = 10\n",
    "\n",
    "# Assigning different values to multiple variables\n",
    "a, b, c = 5, \"Hello\", 3.14\n",
    "\n",
    "\n",
    "print(x)\n",
    "print(y)\n",
    "print(z)\n",
    "print(a)\n",
    "print(b)\n",
    "print(c)\n"
   ]
  },
  {
   "cell_type": "markdown",
   "id": "5d28f52f",
   "metadata": {},
   "source": [
    "## 6. Constants\n",
    "By convention, variables that should not change throughout the program are written in uppercase. Although Python does not enforce this, it’s a good practice to use."
   ]
  },
  {
   "cell_type": "code",
   "execution_count": 8,
   "id": "c475189a",
   "metadata": {},
   "outputs": [],
   "source": [
    "PI = 3.14159\n",
    "GRAVITY = 9.8\n"
   ]
  },
  {
   "cell_type": "markdown",
   "id": "7e324298",
   "metadata": {},
   "source": [
    "## 7. Dynamic Typing\n",
    "Python supports dynamic typing, meaning you can change the type of a variable by assigning a value of a different type."
   ]
  },
  {
   "cell_type": "code",
   "execution_count": 11,
   "id": "9f6e3660",
   "metadata": {},
   "outputs": [
    {
     "name": "stdout",
     "output_type": "stream",
     "text": [
      "<class 'int'>\n",
      "<class 'str'>\n"
     ]
    }
   ],
   "source": [
    "x = 5       # Integer\n",
    "print(type(x))\n",
    "x = \"Hello\" # Now x is a String\n",
    "print(type(x))"
   ]
  },
  {
   "cell_type": "markdown",
   "id": "ce2871ef",
   "metadata": {},
   "source": [
    "## 8. Common Errors with Variables\n",
    "- Using a variable before assigning it a value"
   ]
  },
  {
   "cell_type": "code",
   "execution_count": 12,
   "id": "17a398af",
   "metadata": {},
   "outputs": [
    {
     "ename": "NameError",
     "evalue": "name 'r' is not defined",
     "output_type": "error",
     "traceback": [
      "\u001b[1;31m---------------------------------------------------------------------------\u001b[0m",
      "\u001b[1;31mNameError\u001b[0m                                 Traceback (most recent call last)",
      "Cell \u001b[1;32mIn[12], line 1\u001b[0m\n\u001b[1;32m----> 1\u001b[0m \u001b[38;5;28mprint\u001b[39m(\u001b[43mr\u001b[49m)\n",
      "\u001b[1;31mNameError\u001b[0m: name 'r' is not defined"
     ]
    }
   ],
   "source": [
    "print(r)"
   ]
  },
  {
   "cell_type": "markdown",
   "id": "7e3a8570",
   "metadata": {},
   "source": [
    "- Incorrect assignment of variables:"
   ]
  },
  {
   "cell_type": "code",
   "execution_count": 13,
   "id": "afb3604b",
   "metadata": {},
   "outputs": [
    {
     "ename": "SyntaxError",
     "evalue": "cannot assign to literal (548077663.py, line 1)",
     "output_type": "error",
     "traceback": [
      "\u001b[1;36m  Cell \u001b[1;32mIn[13], line 1\u001b[1;36m\u001b[0m\n\u001b[1;33m    10 = r  # SyntaxError: cannot assign to literal\u001b[0m\n\u001b[1;37m    ^\u001b[0m\n\u001b[1;31mSyntaxError\u001b[0m\u001b[1;31m:\u001b[0m cannot assign to literal\n"
     ]
    }
   ],
   "source": [
    "10 = r  # SyntaxError: cannot assign to literal\n"
   ]
  },
  {
   "cell_type": "markdown",
   "id": "b4c5b3f0",
   "metadata": {},
   "source": [
    "## 9. Best Practices for Using Variables\n",
    "Use descriptive variable names.\n",
    "- Avoid using Python’s built-in keywords as variable names.\n",
    "- Use lowercase letters, with underscores to separate words for better readability (snake_case).\n",
    "- Keep variable scope small, define them in the function or block they are needed."
   ]
  },
  {
   "cell_type": "code",
   "execution_count": 14,
   "id": "dc75fb68",
   "metadata": {},
   "outputs": [],
   "source": [
    "# Example of good variable naming\n",
    "user_age = 30\n",
    "MAX_SPEED = 120  # Constant\n"
   ]
  },
  {
   "cell_type": "markdown",
   "id": "20cdcaa8",
   "metadata": {},
   "source": [
    "## Conclusion\n",
    "Variables are fundamental to any Python program, allowing you to store and manipulate data effectively. With Python's dynamic typing, variable management is both powerful and flexible."
   ]
  }
 ],
 "metadata": {
  "kernelspec": {
   "display_name": "Python 3 (ipykernel)",
   "language": "python",
   "name": "python3"
  },
  "language_info": {
   "codemirror_mode": {
    "name": "ipython",
    "version": 3
   },
   "file_extension": ".py",
   "mimetype": "text/x-python",
   "name": "python",
   "nbconvert_exporter": "python",
   "pygments_lexer": "ipython3",
   "version": "3.9.6"
  }
 },
 "nbformat": 4,
 "nbformat_minor": 5
}
