{
 "cells": [
  {
   "cell_type": "markdown",
   "id": "2deefc07",
   "metadata": {},
   "source": [
    "## Python Basics: Indexing\n",
    "\n",
    "### Table of Contents\n",
    "1. Introduction to Indexing\n",
    "2. Indexing in Lists\n",
    "    - Accessing individual elements\n",
    "    - Index out of range\n",
    "3. Indexing in Strings\n",
    "    - String indexing\n",
    "    - Immutable nature of strings\n",
    "4. Indexing in Tuples\n",
    "    - Accessing tuple elements\n",
    "5. Slicing Sequences\n",
    "    - Basics of slicing\n",
    "    - Default values in slicing\n",
    "6. Modifying Lists via Indexing\n",
    "    - Modifying list elements\n",
    "    - Using slicing to modify multiple elements\n",
    "7. Negative Indexing\n",
    "8. Indexing with Step Values\n",
    "    - Using step values for slicing\n",
    "    - Reversing a sequence using step values\n",
    "9. Multi-dimensional Indexing (Lists of Lists)\n",
    "10. Common Mistakes in Indexing\n",
    "    - Index out of range\n",
    "    - Modifying immutable sequences\n",
    "11. Practice exercises"
   ]
  },
  {
   "cell_type": "markdown",
   "id": "bb384b3e",
   "metadata": {},
   "source": [
    "## 1. Introduction to Indexing\n",
    "Indexing in Python allows us to access individual elements of sequences such as strings, lists, and tuples. Python uses zero-based indexing, which means the first element of any sequence is accessed with index 0. This feature is common in most programming languages and provides a simple way to retrieve or manipulate specific elements in sequences."
   ]
  },
  {
   "cell_type": "code",
   "execution_count": 1,
   "id": "99d083bc",
   "metadata": {},
   "outputs": [
    {
     "name": "stdout",
     "output_type": "stream",
     "text": [
      "10\n"
     ]
    }
   ],
   "source": [
    "my_list = [10, 20, 30, 40, 50]\n",
    "print(my_list[0])  # Output: 10"
   ]
  },
  {
   "cell_type": "markdown",
   "id": "1b69ed07",
   "metadata": {},
   "source": [
    "## 2. Indexing in Lists\n",
    "In lists, we can access individual elements by their index. Python provides two types of indexing:\n",
    "\n",
    "- Positive indexing starts from 0 and counts from the left.\n",
    "- Negative indexing starts from -1 and counts from the right, making it easier to access elements at the end of a list."
   ]
  },
  {
   "cell_type": "code",
   "execution_count": 2,
   "id": "c7f29326",
   "metadata": {},
   "outputs": [
    {
     "name": "stdout",
     "output_type": "stream",
     "text": [
      "c\n",
      "e\n"
     ]
    }
   ],
   "source": [
    "my_list = ['a', 'b', 'c', 'd', 'e']\n",
    "print(my_list[2])   # Output: 'c'\n",
    "print(my_list[-1])  # Output: 'e'\n"
   ]
  },
  {
   "cell_type": "markdown",
   "id": "21905482",
   "metadata": {},
   "source": [
    "Attempting to access an index that is outside the range of the list will raise an IndexError, alerting the programmer that the list is not long enough for that index."
   ]
  },
  {
   "cell_type": "code",
   "execution_count": 3,
   "id": "22db5e1f",
   "metadata": {},
   "outputs": [
    {
     "ename": "IndexError",
     "evalue": "list index out of range",
     "output_type": "error",
     "traceback": [
      "\u001b[1;31m---------------------------------------------------------------------------\u001b[0m",
      "\u001b[1;31mIndexError\u001b[0m                                Traceback (most recent call last)",
      "Cell \u001b[1;32mIn[3], line 1\u001b[0m\n\u001b[1;32m----> 1\u001b[0m \u001b[38;5;28mprint\u001b[39m(\u001b[43mmy_list\u001b[49m\u001b[43m[\u001b[49m\u001b[38;5;241;43m10\u001b[39;49m\u001b[43m]\u001b[49m)  \u001b[38;5;66;03m# Raises IndexError: list index out of range\u001b[39;00m\n",
      "\u001b[1;31mIndexError\u001b[0m: list index out of range"
     ]
    }
   ],
   "source": [
    "print(my_list[10])  # Raises IndexError: list index out of range\n"
   ]
  },
  {
   "cell_type": "markdown",
   "id": "e6e1ab97",
   "metadata": {},
   "source": [
    "## 3. Indexing in Strings\n",
    "Strings in Python are also indexed similarly to lists, where each character has an index. Just like lists, we can use both positive and negative indexing to retrieve characters from a string. This feature is useful for text processing."
   ]
  },
  {
   "cell_type": "code",
   "execution_count": 4,
   "id": "e6a2605b",
   "metadata": {},
   "outputs": [
    {
     "name": "stdout",
     "output_type": "stream",
     "text": [
      "e\n",
      "o\n"
     ]
    }
   ],
   "source": [
    "my_string = \"Hello\"\n",
    "print(my_string[1])   # Output: 'e'\n",
    "print(my_string[-1])  # Output: 'o'\n"
   ]
  },
  {
   "cell_type": "markdown",
   "id": "fb907efd",
   "metadata": {},
   "source": [
    "However, strings are immutable, meaning their characters cannot be modified using indexing. Any attempt to change a character will result in an error."
   ]
  },
  {
   "cell_type": "code",
   "execution_count": 5,
   "id": "8c655e7f",
   "metadata": {},
   "outputs": [
    {
     "ename": "TypeError",
     "evalue": "'str' object does not support item assignment",
     "output_type": "error",
     "traceback": [
      "\u001b[1;31m---------------------------------------------------------------------------\u001b[0m",
      "\u001b[1;31mTypeError\u001b[0m                                 Traceback (most recent call last)",
      "Cell \u001b[1;32mIn[5], line 1\u001b[0m\n\u001b[1;32m----> 1\u001b[0m \u001b[43mmy_string\u001b[49m\u001b[43m[\u001b[49m\u001b[38;5;241;43m1\u001b[39;49m\u001b[43m]\u001b[49m \u001b[38;5;241m=\u001b[39m \u001b[38;5;124m'\u001b[39m\u001b[38;5;124ma\u001b[39m\u001b[38;5;124m'\u001b[39m  \u001b[38;5;66;03m# Raises TypeError: 'str' object does not support item assignment\u001b[39;00m\n",
      "\u001b[1;31mTypeError\u001b[0m: 'str' object does not support item assignment"
     ]
    }
   ],
   "source": [
    "my_string[1] = 'a'  # Raises TypeError: 'str' object does not support item assignment\n"
   ]
  },
  {
   "cell_type": "markdown",
   "id": "ec12fbb1",
   "metadata": {},
   "source": [
    "## 4. Indexing in Tuples\n",
    "\n",
    "Tuples, like lists, support indexing and allow access to their elements by index. However, they are also immutable, so we cannot modify their elements once they are created. Indexing in tuples works the same way as in lists, with both positive and negative indexing available."
   ]
  },
  {
   "cell_type": "code",
   "execution_count": 6,
   "id": "63f7e7ca",
   "metadata": {},
   "outputs": [
    {
     "name": "stdout",
     "output_type": "stream",
     "text": [
      "4\n",
      "5\n"
     ]
    }
   ],
   "source": [
    "my_tuple = (1, 2, 3, 4, 5)\n",
    "print(my_tuple[3])    # Output: 4\n",
    "print(my_tuple[-1])   # Output: 5\n"
   ]
  },
  {
   "cell_type": "markdown",
   "id": "c7aec44a",
   "metadata": {},
   "source": [
    "## 5. Slicing Sequences\n",
    "\n",
    "Slicing allows us to retrieve a subset of elements from a sequence. The general form of slicing is sequence[start:stop:step]. The start is the index where slicing begins (inclusive), stop is where it ends (exclusive), and step defines the increment between elements. If start, stop, or step are not provided, Python uses default values (start = 0, stop = end of sequence, step = 1)."
   ]
  },
  {
   "cell_type": "code",
   "execution_count": 7,
   "id": "0cca4454",
   "metadata": {},
   "outputs": [
    {
     "name": "stdout",
     "output_type": "stream",
     "text": [
      "[20, 30, 40]\n",
      "[10, 20, 30]\n",
      "[10, 30, 50]\n"
     ]
    }
   ],
   "source": [
    "my_list = [10, 20, 30, 40, 50]\n",
    "print(my_list[1:4])   \n",
    "print(my_list[:3])    \n",
    "print(my_list[::2])   \n"
   ]
  },
  {
   "cell_type": "markdown",
   "id": "a30ddfc5",
   "metadata": {},
   "source": [
    "## 6. Modifying Lists via Indexing\n",
    "\n",
    "Lists are mutable, meaning we can modify their elements by assigning new values to specific indices. This allows us to update elements without recreating the entire list. Slicing can also be used to modify multiple elements at once."
   ]
  },
  {
   "cell_type": "code",
   "execution_count": 8,
   "id": "3a52c00a",
   "metadata": {},
   "outputs": [
    {
     "name": "stdout",
     "output_type": "stream",
     "text": [
      "[10, 25, 30, 40, 50]\n"
     ]
    }
   ],
   "source": [
    "my_list = [10, 20, 30, 40, 50]\n",
    "my_list[1] = 25\n",
    "print(my_list)  \n"
   ]
  },
  {
   "cell_type": "markdown",
   "id": "2754b8ac",
   "metadata": {},
   "source": [
    "Slicing can also be used to modify multiple elements at once"
   ]
  },
  {
   "cell_type": "code",
   "execution_count": 9,
   "id": "453512ae",
   "metadata": {},
   "outputs": [
    {
     "name": "stdout",
     "output_type": "stream",
     "text": [
      "[10, 15, 25, 40, 50]\n"
     ]
    }
   ],
   "source": [
    "my_list[1:3] = [15, 25]\n",
    "print(my_list)  \n"
   ]
  },
  {
   "cell_type": "markdown",
   "id": "22465ba9",
   "metadata": {},
   "source": [
    "## 7. Negative Indexing\n",
    "\n",
    "Negative indexing is a powerful feature that allows us to easily access elements from the end of a sequence without needing to calculate the length. This is especially useful when dealing with unknown or dynamic sequence lengths."
   ]
  },
  {
   "cell_type": "code",
   "execution_count": 10,
   "id": "787e3e73",
   "metadata": {},
   "outputs": [
    {
     "name": "stdout",
     "output_type": "stream",
     "text": [
      "banana\n"
     ]
    }
   ],
   "source": [
    "my_list = ['apple', 'banana', 'cherry']\n",
    "print(my_list[-2])  \n"
   ]
  },
  {
   "cell_type": "markdown",
   "id": "27408ace",
   "metadata": {},
   "source": [
    "## 8. Indexing with Step Values\n",
    "\n",
    "The step value in slicing allows us to retrieve elements at specific intervals. By using step values greater than 1, we can skip over elements, and by using negative steps, we can reverse the sequence."
   ]
  },
  {
   "cell_type": "code",
   "execution_count": 11,
   "id": "a44cca25",
   "metadata": {},
   "outputs": [
    {
     "name": "stdout",
     "output_type": "stream",
     "text": [
      "[0, 2, 4, 6]\n"
     ]
    }
   ],
   "source": [
    "my_list = [0, 1, 2, 3, 4, 5, 6]\n",
    "print(my_list[::2])  \n"
   ]
  },
  {
   "cell_type": "markdown",
   "id": "41cce3d4",
   "metadata": {},
   "source": [
    "Using a negative step value reverses the sequence."
   ]
  },
  {
   "cell_type": "code",
   "execution_count": 12,
   "id": "010bf366",
   "metadata": {},
   "outputs": [
    {
     "name": "stdout",
     "output_type": "stream",
     "text": [
      "[6, 5, 4, 3, 2, 1, 0]\n"
     ]
    }
   ],
   "source": [
    "print(my_list[::-1])  # Output: [6, 5, 4, 3, 2, 1, 0]"
   ]
  },
  {
   "cell_type": "markdown",
   "id": "fc772006",
   "metadata": {},
   "source": [
    "## 9. Multi-dimensional Indexing (Lists of Lists)\n",
    "Python allows us to create multi-dimensional lists (lists of lists) and access their elements using multiple indices. This is useful for working with matrices or tabular data where rows and columns are represented as lists."
   ]
  },
  {
   "cell_type": "code",
   "execution_count": 13,
   "id": "fac9a65d",
   "metadata": {},
   "outputs": [
    {
     "name": "stdout",
     "output_type": "stream",
     "text": [
      "6\n"
     ]
    }
   ],
   "source": [
    "matrix = [[1, 2, 3], [4, 5, 6], [7, 8, 9]]\n",
    "print(matrix[1][2])  \n"
   ]
  },
  {
   "cell_type": "markdown",
   "id": "cc69c7e2",
   "metadata": {},
   "source": [
    "## 10. Common Mistakes in Indexing\n",
    "\n",
    "There are a few common mistakes that beginners often encounter while working with indexing:\n",
    "\n",
    "- Index out of range: Attempting to access an index that doesn't exist in the sequence will raise an IndexError. Always ensure that the index is within the valid range.\n",
    "- Modifying immutable sequences: Attempting to change elements of immutable types like strings and tuples results in a TypeError. Be aware of the data type you're working with and whether it's mutable or immutable."
   ]
  },
  {
   "cell_type": "markdown",
   "id": "95f4e4b7",
   "metadata": {},
   "source": [
    "## 11. Practice Exercises\n",
    "### 1. Create a list of 5 numbers and:\n",
    "\n",
    "- Access the first and last elements using positive and negative indexing.\n",
    "- Change the value of the second element.\n",
    "- Slice the list to get the middle three elements\n",
    "\n",
    "### 2. Given a string \"FinancialProgramming\", perform the following tasks:\n",
    "\n",
    "- Access the 5th character.\n",
    "- Slice the string to get \"Programming\".\n",
    "- Reverse the entire string using slicing.\n",
    "\n",
    "### 3. Create a tuple with 6 elements and:\n",
    "\n",
    "- Retrieve the 4th element.\n",
    "- Try modifying one of its elements and observe the error\n",
    "\n",
    "### 4. Using the following list of lists (matrix):\n",
    "\n",
    "- Access the element in the second row and third column.\n",
    "- Retrieve the first column from all rows using slicing"
   ]
  },
  {
   "cell_type": "code",
   "execution_count": null,
   "id": "c61c6d07",
   "metadata": {},
   "outputs": [],
   "source": []
  },
  {
   "cell_type": "code",
   "execution_count": null,
   "id": "d43c2289",
   "metadata": {},
   "outputs": [],
   "source": []
  },
  {
   "cell_type": "code",
   "execution_count": null,
   "id": "c4ad49c1",
   "metadata": {},
   "outputs": [],
   "source": []
  }
 ],
 "metadata": {
  "kernelspec": {
   "display_name": "Python 3 (ipykernel)",
   "language": "python",
   "name": "python3"
  },
  "language_info": {
   "codemirror_mode": {
    "name": "ipython",
    "version": 3
   },
   "file_extension": ".py",
   "mimetype": "text/x-python",
   "name": "python",
   "nbconvert_exporter": "python",
   "pygments_lexer": "ipython3",
   "version": "3.9.6"
  }
 },
 "nbformat": 4,
 "nbformat_minor": 5
}
