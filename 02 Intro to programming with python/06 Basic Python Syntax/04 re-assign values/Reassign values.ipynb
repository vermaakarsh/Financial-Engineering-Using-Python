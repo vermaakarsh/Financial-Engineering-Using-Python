{
 "cells": [
  {
   "cell_type": "markdown",
   "id": "4c338713",
   "metadata": {},
   "source": [
    "## Python Basics – Reassigning Values\n",
    "\n",
    "### Introduction\n",
    "What are variables?\n",
    "\n",
    "A variable is a container for storing data values. In Python, we can assign values to variables using the assignment operator =."
   ]
  },
  {
   "cell_type": "code",
   "execution_count": 1,
   "id": "6d3940c1",
   "metadata": {},
   "outputs": [
    {
     "name": "stdout",
     "output_type": "stream",
     "text": [
      "10\n"
     ]
    }
   ],
   "source": [
    "x = 10\n",
    "print(x)  # Output will be 10\n"
   ]
  },
  {
   "cell_type": "markdown",
   "id": "01f183c4",
   "metadata": {},
   "source": [
    "You can change or \"reassign\" the value stored in a variable at any time."
   ]
  },
  {
   "cell_type": "markdown",
   "id": "8322ad36",
   "metadata": {},
   "source": [
    "## 2. Reassigning Variables\n",
    "Reassigning a variable means giving it a new value. This overwrites the old value, so the variable holds the most recent assignment."
   ]
  },
  {
   "cell_type": "code",
   "execution_count": 2,
   "id": "d1dda0be",
   "metadata": {},
   "outputs": [
    {
     "name": "stdout",
     "output_type": "stream",
     "text": [
      "5\n",
      "20\n"
     ]
    }
   ],
   "source": [
    "x = 5  # Initial assignment\n",
    "print(x)  # Output will be 5\n",
    "\n",
    "x = 20  # Reassignment\n",
    "print(x)  # Output will now be 20\n"
   ]
  },
  {
   "cell_type": "markdown",
   "id": "1a69b85a",
   "metadata": {},
   "source": [
    "Here, x initially holds the value 5. When we reassign x = 20, the old value 5 is replaced with 20."
   ]
  },
  {
   "cell_type": "markdown",
   "id": "3a7b7a4c",
   "metadata": {},
   "source": [
    "## 3. Reassigning Values with Operations\n",
    "When reassigning, you can perform operations on the current value of the variable and assign the result back to the same variable."
   ]
  },
  {
   "cell_type": "code",
   "execution_count": 3,
   "id": "db5ccefa",
   "metadata": {},
   "outputs": [
    {
     "name": "stdout",
     "output_type": "stream",
     "text": [
      "15\n",
      "20\n"
     ]
    }
   ],
   "source": [
    "y = 15\n",
    "print(y)  # Output will be 15\n",
    "\n",
    "y = y + 5  # Reassign with an operation\n",
    "print(y)  # Output will now be 20\n"
   ]
  },
  {
   "cell_type": "markdown",
   "id": "4303785b",
   "metadata": {},
   "source": [
    "In this example, we use the current value of y, add 5 to it, and then store the result back into y. Now y holds 20."
   ]
  },
  {
   "cell_type": "markdown",
   "id": "341c22b6",
   "metadata": {},
   "source": [
    "## 4. Using Shortcuts for Reassignment\n",
    "Python provides shortcut operators to simplify common reassignment patterns, such as adding or subtracting from a variable.\n",
    "\n",
    "### Addition Assignment (+=)"
   ]
  },
  {
   "cell_type": "code",
   "execution_count": 4,
   "id": "2b25bef7",
   "metadata": {},
   "outputs": [
    {
     "name": "stdout",
     "output_type": "stream",
     "text": [
      "13\n"
     ]
    }
   ],
   "source": [
    "z = 10\n",
    "z += 3  # Equivalent to z = z + 3\n",
    "print(z)  # Output will be 13\n"
   ]
  },
  {
   "cell_type": "markdown",
   "id": "f7692355",
   "metadata": {},
   "source": [
    "### Subtraction Assignment (-=)"
   ]
  },
  {
   "cell_type": "code",
   "execution_count": 5,
   "id": "44827c12",
   "metadata": {},
   "outputs": [
    {
     "name": "stdout",
     "output_type": "stream",
     "text": [
      "11\n"
     ]
    }
   ],
   "source": [
    "z -= 2  # Equivalent to z = z - 2\n",
    "print(z)  # Output will be 11\n"
   ]
  },
  {
   "cell_type": "markdown",
   "id": "fdc2b1bb",
   "metadata": {},
   "source": [
    "Other operators like *=, /=, **= can also be used for multiplication, division, and exponentiation.\n",
    "\n"
   ]
  },
  {
   "cell_type": "markdown",
   "id": "34a8d1d5",
   "metadata": {},
   "source": [
    "## 5. Reassigning Variables with Different Data Types\n",
    "In Python, you can reassign a variable to a value of a different data type. Unlike some languages, Python doesn’t require you to declare a variable type beforehand."
   ]
  },
  {
   "cell_type": "code",
   "execution_count": 6,
   "id": "e611381e",
   "metadata": {},
   "outputs": [
    {
     "name": "stdout",
     "output_type": "stream",
     "text": [
      "10\n",
      "Hello\n"
     ]
    }
   ],
   "source": [
    "a = 10  # Initially an integer\n",
    "print(a)  # Output will be 10\n",
    "\n",
    "a = \"Hello\"  # Now a string\n",
    "print(a)  # Output will be \"Hello\"\n"
   ]
  },
  {
   "cell_type": "markdown",
   "id": "c6552544",
   "metadata": {},
   "source": [
    "Here, a first holds an integer (10), but we can reassign it to a string (\"Hello\") without any issues."
   ]
  },
  {
   "cell_type": "markdown",
   "id": "f9ffc55f",
   "metadata": {},
   "source": [
    "## 6. Why Reassignment is Useful\n",
    "Reassignment allows variables to evolve with your program's needs. It’s useful for:\n",
    "- Keeping track of changing values, like in loops or conditions.\n",
    "- Reducing memory usage by not creating multiple variables when not needed.\n",
    "- Simplifying code by reusing variable names.\n"
   ]
  },
  {
   "cell_type": "markdown",
   "id": "ecbe1189",
   "metadata": {},
   "source": [
    "## 7. Conclusion\n",
    "Reassigning values is a key aspect of working with variables in Python. It allows flexibility in programming by letting you update variables as your program evolves. Understanding how to reassign values and use operators is crucial to building more dynamic and efficient code.\n"
   ]
  },
  {
   "cell_type": "markdown",
   "id": "c5365189",
   "metadata": {},
   "source": [
    "## 8. Practice Exercises\n",
    "- Assign the value 50 to a variable, and then reassign it to a new value after adding 30.\n",
    "- Create a variable with a string value, reassign it with a number, and then reassign it back to another string."
   ]
  },
  {
   "cell_type": "code",
   "execution_count": null,
   "id": "cb37df77",
   "metadata": {},
   "outputs": [],
   "source": []
  }
 ],
 "metadata": {
  "kernelspec": {
   "display_name": "Python 3 (ipykernel)",
   "language": "python",
   "name": "python3"
  },
  "language_info": {
   "codemirror_mode": {
    "name": "ipython",
    "version": 3
   },
   "file_extension": ".py",
   "mimetype": "text/x-python",
   "name": "python",
   "nbconvert_exporter": "python",
   "pygments_lexer": "ipython3",
   "version": "3.9.6"
  }
 },
 "nbformat": 4,
 "nbformat_minor": 5
}
