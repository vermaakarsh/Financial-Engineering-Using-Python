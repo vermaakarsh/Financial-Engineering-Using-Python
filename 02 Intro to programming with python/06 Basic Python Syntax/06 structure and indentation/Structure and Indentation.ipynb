{
 "cells": [
  {
   "cell_type": "markdown",
   "id": "cabfcc77",
   "metadata": {},
   "source": [
    "# Structure and Indentation\n",
    "## Introduction\n",
    " - In Python, indentation is crucial as it defines the structure of the code. \n",
    " - Unlike many programming languages that use braces or keywords to define blocks of code, \n",
    " - Python uses whitespace indentation.\n"
   ]
  },
  {
   "cell_type": "markdown",
   "id": "0a0da71a",
   "metadata": {},
   "source": [
    "## Importance of Indentation\n",
    "Indentation is important for the following reasons:\n",
    " - It helps to indicate a block of code (such as for loops, functions, and conditionals).\n",
    " - It enhances the readability of the code.\n",
    " - It prevents syntax errors that can occur from incorrect indentation levels.\n"
   ]
  },
  {
   "cell_type": "code",
   "execution_count": 1,
   "id": "6d103e11",
   "metadata": {},
   "outputs": [
    {
     "name": "stdout",
     "output_type": "stream",
     "text": [
      "This is correctly indented\n"
     ]
    }
   ],
   "source": [
    "# Example of correct indentation:\n",
    "if True:\n",
    "    print(\"This is correctly indented\")\n",
    "else:\n",
    "    print(\"This will not run\")"
   ]
  },
  {
   "cell_type": "markdown",
   "id": "bec69de2",
   "metadata": {},
   "source": [
    "## Basic Structure of a Python Program"
   ]
  },
  {
   "cell_type": "code",
   "execution_count": 2,
   "id": "5ce12a07",
   "metadata": {},
   "outputs": [
    {
     "name": "stdout",
     "output_type": "stream",
     "text": [
      "The area of the circle with radius 5 is: 78.54\n"
     ]
    }
   ],
   "source": [
    "# A basic structure of a Python program can be outlined as follows:\n",
    "\n",
    "# 1. Import Statements (if any)\n",
    "import math\n",
    "\n",
    "# 2. Function Definitions\n",
    "def calculate_area(radius):\n",
    "    \"\"\"Function to calculate the area of a circle given its radius.\"\"\"\n",
    "    return math.pi * radius ** 2\n",
    "\n",
    "# 3. Main Execution Block\n",
    "if __name__ == \"__main__\":\n",
    "    radius = 5\n",
    "    area = calculate_area(radius)\n",
    "    print(f\"The area of the circle with radius {radius} is: {area:.2f}\")\n"
   ]
  },
  {
   "cell_type": "markdown",
   "id": "d5ce4cbd",
   "metadata": {},
   "source": [
    "## Indentation Levels"
   ]
  },
  {
   "cell_type": "code",
   "execution_count": 3,
   "id": "7254c666",
   "metadata": {},
   "outputs": [
    {
     "name": "stdout",
     "output_type": "stream",
     "text": [
      "Outer loop: 0\n",
      "  Inner loop: 0\n",
      "  Inner loop: 1\n",
      "  Inner loop: 2\n",
      "Outer loop: 1\n",
      "  Inner loop: 0\n",
      "  Inner loop: 1\n",
      "  Inner loop: 2\n",
      "Outer loop: 2\n",
      "  Inner loop: 0\n",
      "  Inner loop: 1\n",
      "  Inner loop: 2\n",
      "Outer loop: 3\n",
      "  Inner loop: 0\n",
      "  Inner loop: 1\n",
      "  Inner loop: 2\n",
      "Outer loop: 4\n",
      "  Inner loop: 0\n",
      "  Inner loop: 1\n",
      "  Inner loop: 2\n"
     ]
    }
   ],
   "source": [
    "# Indentation levels define the scope of loops, conditionals, and functions. \n",
    "# Python enforces indentation strictly.\n",
    "\n",
    "# Example with loops:\n",
    "for i in range(5):\n",
    "    print(\"Outer loop:\", i)\n",
    "    for j in range(3):\n",
    "        print(\"  Inner loop:\", j)\n"
   ]
  },
  {
   "cell_type": "markdown",
   "id": "955d0ca0",
   "metadata": {},
   "source": [
    "## Common Indentation Errors"
   ]
  },
  {
   "cell_type": "code",
   "execution_count": 4,
   "id": "71be7a10",
   "metadata": {},
   "outputs": [
    {
     "ename": "IndentationError",
     "evalue": "expected an indented block (3736330535.py, line 6)",
     "output_type": "error",
     "traceback": [
      "\u001b[1;36m  Cell \u001b[1;32mIn[4], line 6\u001b[1;36m\u001b[0m\n\u001b[1;33m    print(\"This will cause an IndentationError\")  # Incorrect indentation\u001b[0m\n\u001b[1;37m    ^\u001b[0m\n\u001b[1;31mIndentationError\u001b[0m\u001b[1;31m:\u001b[0m expected an indented block\n"
     ]
    }
   ],
   "source": [
    "# IndentationError occurs when the levels of indentation are inconsistent.\n",
    "\n",
    "# Example of an indentation error:\n",
    "try:\n",
    "    if True:\n",
    "    print(\"This will cause an IndentationError\")  # Incorrect indentation\n",
    "except IndentationError as e:\n",
    "    print(f\"IndentationError: {e}\")\n"
   ]
  },
  {
   "cell_type": "markdown",
   "id": "7af9803a",
   "metadata": {},
   "source": [
    "## Best Practices for Indentation\n",
    " Best practices to follow:\n",
    " - Use 4 spaces per indentation level (the Python style guide recommends this).\n",
    " - Be consistent with your choice of spaces or tabs; do not mix them.\n",
    " - Use an IDE or text editor that highlights indentation levels for better visibility.\n"
   ]
  },
  {
   "cell_type": "markdown",
   "id": "33529671",
   "metadata": {},
   "source": [
    "## Conclusion\n",
    " - In conclusion, understanding and correctly applying indentation is vital in Python programming. \n",
    " - It ensures that the code runs without errors and is easily readable.\n"
   ]
  },
  {
   "cell_type": "code",
   "execution_count": null,
   "id": "4759f5e7",
   "metadata": {},
   "outputs": [],
   "source": []
  }
 ],
 "metadata": {
  "kernelspec": {
   "display_name": "Python 3 (ipykernel)",
   "language": "python",
   "name": "python3"
  },
  "language_info": {
   "codemirror_mode": {
    "name": "ipython",
    "version": 3
   },
   "file_extension": ".py",
   "mimetype": "text/x-python",
   "name": "python",
   "nbconvert_exporter": "python",
   "pygments_lexer": "ipython3",
   "version": "3.9.6"
  }
 },
 "nbformat": 4,
 "nbformat_minor": 5
}
