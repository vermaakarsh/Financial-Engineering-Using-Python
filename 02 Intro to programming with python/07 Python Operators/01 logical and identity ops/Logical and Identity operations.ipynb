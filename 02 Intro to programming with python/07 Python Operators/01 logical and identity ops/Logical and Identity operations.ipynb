{
 "cells": [
  {
   "cell_type": "markdown",
   "id": "31d663e2",
   "metadata": {},
   "source": [
    "# Logical and Identity Operations in Python\n",
    "## Table of Contents\n",
    "1. Introduction\n",
    "2. Logical Operations\n",
    "    - 2.1 What are Logical Operations?\n",
    "    - 2.2 Logical Operators in Python\n",
    "    - 2.3 Truth Tables\n",
    "    - 2.4 Examples of Logical Operations\n",
    "3. Identity Operations\n",
    "    - 3.1 What are Identity Operations?\n",
    "    - 3.2 Identity Operators in Python\n",
    "    - 3.3 Examples of Identity Operations\n",
    "4. Conclusion"
   ]
  },
  {
   "cell_type": "markdown",
   "id": "9a6bc648",
   "metadata": {},
   "source": [
    "## 1. Introduction\n",
    "In this notebook, we will explore logical and identity operations in Python. These operations are fundamental for making decisions and comparisons in programming. Understanding how they work is crucial for effective coding and problem-solving.\n",
    "\n"
   ]
  },
  {
   "cell_type": "markdown",
   "id": "07b0880f",
   "metadata": {},
   "source": [
    "## 2. Logical Operations\n",
    "### 2.1 What are Logical Operations?\n",
    "Logical operations are used to combine conditional statements. They evaluate expressions to return Boolean values (True or False).\n",
    "\n",
    "### 2.2 Logical Operators in Python\n",
    "Python provides three main logical operators:\n",
    "\n",
    "- AND (and): Returns True if both operands are true.\n",
    "- OR (or): Returns True if at least one of the operands is true.\n",
    "- NOT (not): Reverses the Boolean value of the operand.\n",
    "\n",
    "### 2.3 Truth Tables\n",
    "A truth table outlines the output of logical operations for all possible combinations of inputs.\n",
    "\n",
    "- Truth Table for AND\n",
    "\n",
    "| A | B | A and B |\n",
    "|---|---|---|\n",
    "| 0 | 0 | 0 |\n",
    "| 0 | 1 | 0 |\n",
    "| 1 | 0 | 0 |\n",
    "| 1 | 1 | 1 |\n",
    "\n",
    "- Truth Table for OR\n",
    "\n",
    "| A | B | A or B |\n",
    "|---|---|---|\n",
    "| 0 | 0 | 0 |\n",
    "| 0 | 1 | 1 |\n",
    "| 1 | 0 | 1 |\n",
    "| 1 | 1 | 1 |\n",
    "\n",
    "- Truth Table for NOT\n",
    "\n",
    "| A | NOT A |\n",
    "|---|---|\n",
    "| 0 | 1 |\n",
    "| 1 | 0 |\n"
   ]
  },
  {
   "cell_type": "markdown",
   "id": "f9b3272b",
   "metadata": {},
   "source": [
    "## 2.4 Examples of Logical Operations\n"
   ]
  },
  {
   "cell_type": "code",
   "execution_count": 1,
   "id": "3eeb421a",
   "metadata": {},
   "outputs": [
    {
     "name": "stdout",
     "output_type": "stream",
     "text": [
      "AND Operation (True and False): False\n",
      "OR Operation (True or False): True\n",
      "NOT Operation (not True): False\n"
     ]
    }
   ],
   "source": [
    "# Logical operations in Python\n",
    "\n",
    "a = True\n",
    "b = False\n",
    "\n",
    "# AND operation\n",
    "and_result = a and b  # False\n",
    "\n",
    "# OR operation\n",
    "or_result = a or b    # True\n",
    "\n",
    "# NOT operation\n",
    "not_result = not a    # False\n",
    "\n",
    "# Display results\n",
    "print(\"AND Operation (True and False):\", and_result)\n",
    "print(\"OR Operation (True or False):\", or_result)\n",
    "print(\"NOT Operation (not True):\", not_result)\n"
   ]
  },
  {
   "cell_type": "markdown",
   "id": "55f2bc22",
   "metadata": {},
   "source": [
    "## 3. Identity Operations\n",
    "### 3.1 What are Identity Operations?\n",
    "Identity operations compare the memory locations of two objects to determine if they refer to the same object.\n",
    "\n",
    "### 3.2 Identity Operators in Python\n",
    "Python provides two identity operators:\n",
    "\n",
    "- is: Returns True if both operands refer to the same object.\n",
    "- is not: Returns True if both operands do not refer to the same object.\n",
    "### 3.3 Examples of Identity Operations"
   ]
  },
  {
   "cell_type": "code",
   "execution_count": 2,
   "id": "89402707",
   "metadata": {},
   "outputs": [
    {
     "name": "stdout",
     "output_type": "stream",
     "text": [
      "Identity (x is y): True\n",
      "Identity (x is z): False\n"
     ]
    }
   ],
   "source": [
    "# Identity operations in Python\n",
    "\n",
    "x = [1, 2, 3]\n",
    "y = x\n",
    "z = [1, 2, 3]\n",
    "\n",
    "# Using identity operators\n",
    "is_result = (x is y)  # True, because y refers to the same object as x\n",
    "is_not_result = (x is z)  # False, because z is a different object\n",
    "\n",
    "# Display results\n",
    "print(\"Identity (x is y):\", is_result)\n",
    "print(\"Identity (x is z):\", is_not_result)\n"
   ]
  },
  {
   "cell_type": "markdown",
   "id": "224222ac",
   "metadata": {},
   "source": [
    "## 4. Conclusion\n",
    "In this notebook, we discussed logical and identity operations in Python. We explored logical operators (AND, OR, NOT) and how they help in evaluating conditions. Additionally, we covered identity operators (is, is not) to compare object identities. \n",
    "Understanding these concepts is essential for writing effective Python code and performing logical operations in your programs."
   ]
  },
  {
   "cell_type": "code",
   "execution_count": null,
   "id": "d3b9a4af",
   "metadata": {},
   "outputs": [],
   "source": []
  }
 ],
 "metadata": {
  "kernelspec": {
   "display_name": "Python 3 (ipykernel)",
   "language": "python",
   "name": "python3"
  },
  "language_info": {
   "codemirror_mode": {
    "name": "ipython",
    "version": 3
   },
   "file_extension": ".py",
   "mimetype": "text/x-python",
   "name": "python",
   "nbconvert_exporter": "python",
   "pygments_lexer": "ipython3",
   "version": "3.9.6"
  }
 },
 "nbformat": 4,
 "nbformat_minor": 5
}
