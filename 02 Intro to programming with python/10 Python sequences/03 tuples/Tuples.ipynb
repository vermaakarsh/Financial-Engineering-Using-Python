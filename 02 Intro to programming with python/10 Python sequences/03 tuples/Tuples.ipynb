{
 "cells": [
  {
   "cell_type": "markdown",
   "id": "21649718",
   "metadata": {},
   "source": [
    "# Tuples\n",
    "### 1. Introduction to Tuples\n",
    "Tuples are an immutable sequence type in Python. They are similar to lists but have one key difference: tuples cannot be changed after they are created. This makes them a useful tool when you want to store a collection of items that should not be modified.\n",
    "\n",
    " ```python\n",
    "tuple_name = (element1, element2, element3, ...)\n"
   ]
  },
  {
   "cell_type": "markdown",
   "id": "4113e1a0",
   "metadata": {},
   "source": [
    "### 2. Creating Tuples\n",
    "- Tuples are created by placing the items (elements) inside parentheses (), separated by commas.\n",
    "- A tuple can contain elements of different types (e.g., integers, floats, strings, etc.).\n",
    "- Tuples can also be created without parentheses (using just commas), though it's less common."
   ]
  },
  {
   "cell_type": "code",
   "execution_count": 1,
   "id": "1524417e",
   "metadata": {},
   "outputs": [],
   "source": [
    "# Creating tuples\n",
    "empty_tuple = ()  # Empty tuple\n",
    "single_element_tuple = (42,)  # Single element tuple (notice the comma)\n",
    "multiple_element_tuple = (1, 'Hello', 3.14, True)\n"
   ]
  },
  {
   "cell_type": "markdown",
   "id": "1a49faa5",
   "metadata": {},
   "source": [
    "Key Points:\n",
    "\n",
    "- Empty tuple: ()\n",
    "- Single element tuple: The comma is necessary to differentiate between an integer and a tuple."
   ]
  },
  {
   "cell_type": "markdown",
   "id": "f4ae6d0b",
   "metadata": {},
   "source": [
    "## 3. Accessing Tuple Elements\n",
    "Like lists, you can access the elements in a tuple using indexing. Indexes in Python start from 0."
   ]
  },
  {
   "cell_type": "code",
   "execution_count": 2,
   "id": "f395b911",
   "metadata": {},
   "outputs": [
    {
     "name": "stdout",
     "output_type": "stream",
     "text": [
      "10\n",
      "30\n"
     ]
    }
   ],
   "source": [
    "example_tuple = (10, 20, 30, 40)\n",
    "\n",
    "# Accessing elements\n",
    "print(example_tuple[0])  # First element\n",
    "print(example_tuple[2])  # Third element\n"
   ]
  },
  {
   "cell_type": "markdown",
   "id": "1b6e8541",
   "metadata": {},
   "source": [
    "- You can also use negative indexing to access elements from the end of the tuple.\n"
   ]
  },
  {
   "cell_type": "code",
   "execution_count": 3,
   "id": "d5d25b01",
   "metadata": {},
   "outputs": [
    {
     "name": "stdout",
     "output_type": "stream",
     "text": [
      "40\n",
      "20\n"
     ]
    }
   ],
   "source": [
    "print(example_tuple[-1])  # Last element\n",
    "print(example_tuple[-3])  # Third element from the end\n"
   ]
  },
  {
   "cell_type": "markdown",
   "id": "9ba29278",
   "metadata": {},
   "source": [
    "## 4. Tuple Slicing\n",
    "You can slice tuples just like you would with lists. Slicing allows you to extract a subset of the tuple."
   ]
  },
  {
   "cell_type": "code",
   "execution_count": 4,
   "id": "aa4a8687",
   "metadata": {},
   "outputs": [
    {
     "name": "stdout",
     "output_type": "stream",
     "text": [
      "(20, 30)\n"
     ]
    }
   ],
   "source": [
    "# Slicing a tuple\n",
    "sliced_tuple = example_tuple[1:3]  # Extract elements from index 1 to 2 (3 is excluded)\n",
    "print(sliced_tuple)\n"
   ]
  },
  {
   "cell_type": "markdown",
   "id": "3dec3eaf",
   "metadata": {},
   "source": [
    "## 5. Immutability of Tuples\n",
    "Tuples are immutable, which means that once a tuple is created, its values cannot be changed."
   ]
  },
  {
   "cell_type": "code",
   "execution_count": 7,
   "id": "aec9b7c8",
   "metadata": {},
   "outputs": [
    {
     "ename": "TypeError",
     "evalue": "'tuple' object does not support item assignment",
     "output_type": "error",
     "traceback": [
      "\u001b[1;31m---------------------------------------------------------------------------\u001b[0m",
      "\u001b[1;31mTypeError\u001b[0m                                 Traceback (most recent call last)",
      "Cell \u001b[1;32mIn[7], line 2\u001b[0m\n\u001b[0;32m      1\u001b[0m immutable_tuple \u001b[38;5;241m=\u001b[39m (\u001b[38;5;241m5\u001b[39m, \u001b[38;5;241m10\u001b[39m, \u001b[38;5;241m15\u001b[39m)\n\u001b[1;32m----> 2\u001b[0m \u001b[43mimmutable_tuple\u001b[49m\u001b[43m[\u001b[49m\u001b[38;5;241;43m1\u001b[39;49m\u001b[43m]\u001b[49m \u001b[38;5;241m=\u001b[39m \u001b[38;5;241m20\u001b[39m  \u001b[38;5;66;03m# This will raise a TypeError because tuples cannot be modified\u001b[39;00m\n",
      "\u001b[1;31mTypeError\u001b[0m: 'tuple' object does not support item assignment"
     ]
    }
   ],
   "source": [
    "immutable_tuple = (5, 10, 15)\n",
    "immutable_tuple[1] = 20  # This will raise a TypeError because tuples cannot be modified\n"
   ]
  },
  {
   "cell_type": "markdown",
   "id": "b599117e",
   "metadata": {},
   "source": [
    "- Attempting to modify an element or assign a new value to a tuple index results in an error."
   ]
  },
  {
   "cell_type": "markdown",
   "id": "96f531fa",
   "metadata": {},
   "source": [
    "## 6. Tuple Methods\n",
    "Since tuples are immutable, they have fewer methods than lists. The two most commonly used methods are:\n",
    "\n",
    "- count(): Returns the number of times an element appears in a tuple.\n",
    "- index(): Returns the index of the first occurrence of an element."
   ]
  },
  {
   "cell_type": "code",
   "execution_count": 8,
   "id": "3ddfd541",
   "metadata": {},
   "outputs": [
    {
     "name": "stdout",
     "output_type": "stream",
     "text": [
      "2\n",
      "2\n"
     ]
    }
   ],
   "source": [
    "sample_tuple = (10, 20, 30, 10)\n",
    "\n",
    "# Count occurrences of an element\n",
    "print(sample_tuple.count(10))  # Output: 2\n",
    "\n",
    "# Find the index of an element\n",
    "print(sample_tuple.index(30))  # Output: 2\n"
   ]
  },
  {
   "cell_type": "markdown",
   "id": "6178ef48",
   "metadata": {},
   "source": [
    "## 7. Tuple Packing and Unpacking\n",
    "Tuples allow you to pack multiple values into a single variable and unpack them into individual variables."
   ]
  },
  {
   "cell_type": "code",
   "execution_count": 9,
   "id": "004621ee",
   "metadata": {},
   "outputs": [
    {
     "name": "stdout",
     "output_type": "stream",
     "text": [
      "1 2 3 Python\n"
     ]
    }
   ],
   "source": [
    "# Packing\n",
    "packed_tuple = 1, 2, 3, 'Python'\n",
    "\n",
    "# Unpacking\n",
    "a, b, c, d = packed_tuple\n",
    "print(a, b, c, d)\n"
   ]
  },
  {
   "cell_type": "markdown",
   "id": "ef9bc09b",
   "metadata": {},
   "source": [
    "## 8. Nested Tuples\n",
    "You can also create tuples within tuples, allowing you to nest data structures."
   ]
  },
  {
   "cell_type": "code",
   "execution_count": 10,
   "id": "8d59fc4e",
   "metadata": {},
   "outputs": [
    {
     "name": "stdout",
     "output_type": "stream",
     "text": [
      "(2, 3)\n",
      "5\n"
     ]
    }
   ],
   "source": [
    "nested_tuple = (1, (2, 3), (4, 5, 6))\n",
    "print(nested_tuple[1])  # Output: (2, 3)\n",
    "print(nested_tuple[2][1])  # Output: 5\n"
   ]
  },
  {
   "cell_type": "markdown",
   "id": "8d9e4c41",
   "metadata": {},
   "source": [
    "## 9. Tuple vs List\n",
    "- Tuples are faster than lists due to their immutability.\n",
    "- Tuples use less memory compared to lists.\n",
    "- Tuples are used when data shouldn't change, while lists are for data that might change.\n",
    " "
   ]
  },
  {
   "cell_type": "code",
   "execution_count": 15,
   "id": "74f33144",
   "metadata": {},
   "outputs": [],
   "source": [
    "my_tuple = (1, 2, 3)\n",
    "my_list = [1, 2, 3]\n"
   ]
  },
  {
   "cell_type": "code",
   "execution_count": 16,
   "id": "07bcb253",
   "metadata": {},
   "outputs": [
    {
     "ename": "TypeError",
     "evalue": "'tuple' object does not support item assignment",
     "output_type": "error",
     "traceback": [
      "\u001b[1;31m---------------------------------------------------------------------------\u001b[0m",
      "\u001b[1;31mTypeError\u001b[0m                                 Traceback (most recent call last)",
      "Cell \u001b[1;32mIn[16], line 1\u001b[0m\n\u001b[1;32m----> 1\u001b[0m \u001b[43mmy_tuple\u001b[49m\u001b[43m[\u001b[49m\u001b[38;5;241;43m1\u001b[39;49m\u001b[43m]\u001b[49m \u001b[38;5;241m=\u001b[39m \u001b[38;5;241m4\u001b[39m  \u001b[38;5;66;03m# This will raise an error\u001b[39;00m\n",
      "\u001b[1;31mTypeError\u001b[0m: 'tuple' object does not support item assignment"
     ]
    }
   ],
   "source": [
    "my_tuple[1] = 4  # This will raise an error"
   ]
  },
  {
   "cell_type": "code",
   "execution_count": 18,
   "id": "5364b799",
   "metadata": {},
   "outputs": [
    {
     "name": "stdout",
     "output_type": "stream",
     "text": [
      "[1, 4, 3]\n"
     ]
    }
   ],
   "source": [
    "my_list[1] = 4  # This works fine\n",
    "print(my_list)"
   ]
  },
  {
   "cell_type": "markdown",
   "id": "c298fe46",
   "metadata": {},
   "source": [
    "## 10. When to Use Tuples\n",
    "- Use tuples when you need a collection of items that should not change.\n",
    "- They are also commonly used in functions to return multiple values."
   ]
  },
  {
   "cell_type": "code",
   "execution_count": 19,
   "id": "b53a06db",
   "metadata": {},
   "outputs": [
    {
     "name": "stdout",
     "output_type": "stream",
     "text": [
      "(10, 40)\n"
     ]
    }
   ],
   "source": [
    "def min_max(numbers):\n",
    "    return min(numbers), max(numbers)\n",
    "\n",
    "result = min_max([10, 20, 30, 40])\n",
    "print(result)  # Output: (10, 40)\n"
   ]
  },
  {
   "cell_type": "markdown",
   "id": "6234be36",
   "metadata": {},
   "source": [
    "## 11. Conclusion\n",
    "Tuples are a fundamental Python data structure, providing a lightweight, immutable alternative to lists. They are ideal for fixed data collections, which enhances both performance and reliability.\n",
    "\n"
   ]
  },
  {
   "cell_type": "code",
   "execution_count": null,
   "id": "8dac106a",
   "metadata": {},
   "outputs": [],
   "source": []
  }
 ],
 "metadata": {
  "kernelspec": {
   "display_name": "Python 3 (ipykernel)",
   "language": "python",
   "name": "python3"
  },
  "language_info": {
   "codemirror_mode": {
    "name": "ipython",
    "version": 3
   },
   "file_extension": ".py",
   "mimetype": "text/x-python",
   "name": "python",
   "nbconvert_exporter": "python",
   "pygments_lexer": "ipython3",
   "version": "3.9.6"
  }
 },
 "nbformat": 4,
 "nbformat_minor": 5
}
