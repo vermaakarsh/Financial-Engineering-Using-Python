{
 "cells": [
  {
   "cell_type": "code",
   "execution_count": null,
   "id": "74a5d7d3",
   "metadata": {},
   "outputs": [],
   "source": []
  },
  {
   "cell_type": "code",
   "execution_count": null,
   "id": "663dfe28",
   "metadata": {},
   "outputs": [],
   "source": []
  },
  {
   "cell_type": "code",
   "execution_count": null,
   "id": "2c97fb5c",
   "metadata": {},
   "outputs": [],
   "source": []
  },
  {
   "cell_type": "code",
   "execution_count": null,
   "id": "5ce5f518",
   "metadata": {},
   "outputs": [],
   "source": []
  },
  {
   "cell_type": "code",
   "execution_count": null,
   "id": "100ebc56",
   "metadata": {},
   "outputs": [],
   "source": []
  },
  {
   "cell_type": "code",
   "execution_count": null,
   "id": "f4c91f23",
   "metadata": {},
   "outputs": [],
   "source": []
  },
  {
   "cell_type": "code",
   "execution_count": null,
   "id": "60d7b891",
   "metadata": {},
   "outputs": [],
   "source": []
  },
  {
   "cell_type": "code",
   "execution_count": null,
   "id": "34d2af5e",
   "metadata": {},
   "outputs": [],
   "source": []
  },
  {
   "cell_type": "code",
   "execution_count": null,
   "id": "2254b45a",
   "metadata": {},
   "outputs": [],
   "source": []
  },
  {
   "cell_type": "code",
   "execution_count": null,
   "id": "d77f50db",
   "metadata": {},
   "outputs": [],
   "source": []
  },
  {
   "cell_type": "code",
   "execution_count": null,
   "id": "5e280d50",
   "metadata": {},
   "outputs": [],
   "source": []
  },
  {
   "cell_type": "code",
   "execution_count": null,
   "id": "572d0ee4",
   "metadata": {},
   "outputs": [],
   "source": []
  },
  {
   "cell_type": "code",
   "execution_count": null,
   "id": "999707d2",
   "metadata": {},
   "outputs": [],
   "source": []
  },
  {
   "cell_type": "code",
   "execution_count": null,
   "id": "a14287ea",
   "metadata": {},
   "outputs": [],
   "source": []
  },
  {
   "cell_type": "code",
   "execution_count": null,
   "id": "529697a9",
   "metadata": {},
   "outputs": [],
   "source": []
  },
  {
   "cell_type": "code",
   "execution_count": null,
   "id": "5975ea36",
   "metadata": {},
   "outputs": [],
   "source": []
  },
  {
   "cell_type": "code",
   "execution_count": null,
   "id": "5f7f552c",
   "metadata": {},
   "outputs": [],
   "source": []
  },
  {
   "cell_type": "code",
   "execution_count": null,
   "id": "1895e988",
   "metadata": {},
   "outputs": [],
   "source": []
  },
  {
   "cell_type": "code",
   "execution_count": null,
   "id": "59668e11",
   "metadata": {},
   "outputs": [],
   "source": []
  },
  {
   "cell_type": "code",
   "execution_count": null,
   "id": "121cd1d1",
   "metadata": {},
   "outputs": [],
   "source": []
  },
  {
   "cell_type": "markdown",
   "id": "0993e791",
   "metadata": {},
   "source": [
    "## Installing the required libraries\n",
    " 1. smartapi-python\n",
    " 2. websocket-client\n",
    "3. pyotp\n",
    " 4. logzero\n"
   ]
  },
  {
   "cell_type": "code",
   "execution_count": 1,
   "id": "da1583f6",
   "metadata": {},
   "outputs": [
    {
     "name": "stdout",
     "output_type": "stream",
     "text": [
      "Collecting smartapi-python\n",
      "  Downloading smartapi_python-1.5.0-py3-none-any.whl.metadata (7.2 kB)\n",
      "Requirement already satisfied: requests>=2.18.4 in c:\\python 39\\lib\\site-packages (from smartapi-python) (2.31.0)\n",
      "Requirement already satisfied: six>=1.11.0 in c:\\python 39\\lib\\site-packages (from smartapi-python) (1.16.0)\n",
      "Requirement already satisfied: python-dateutil>=2.6.1 in c:\\python 39\\lib\\site-packages (from smartapi-python) (2.8.2)\n",
      "Requirement already satisfied: charset-normalizer<4,>=2 in c:\\python 39\\lib\\site-packages (from requests>=2.18.4->smartapi-python) (3.3.2)\n",
      "Requirement already satisfied: idna<4,>=2.5 in c:\\python 39\\lib\\site-packages (from requests>=2.18.4->smartapi-python) (3.6)\n",
      "Requirement already satisfied: urllib3<3,>=1.21.1 in c:\\python 39\\lib\\site-packages (from requests>=2.18.4->smartapi-python) (2.1.0)\n",
      "Requirement already satisfied: certifi>=2017.4.17 in c:\\python 39\\lib\\site-packages (from requests>=2.18.4->smartapi-python) (2023.11.17)\n",
      "Downloading smartapi_python-1.5.0-py3-none-any.whl (27 kB)\n",
      "Installing collected packages: smartapi-python\n",
      "Successfully installed smartapi-python-1.5.0\n",
      "Note: you may need to restart the kernel to use updated packages.\n"
     ]
    }
   ],
   "source": [
    "pip install smartapi-python"
   ]
  },
  {
   "cell_type": "code",
   "execution_count": 2,
   "id": "55350f9b",
   "metadata": {},
   "outputs": [
    {
     "name": "stdout",
     "output_type": "stream",
     "text": [
      "Requirement already satisfied: websocket-client in c:\\python 39\\lib\\site-packages (1.5.1)\n",
      "Note: you may need to restart the kernel to use updated packages.\n"
     ]
    }
   ],
   "source": [
    "pip install websocket-client"
   ]
  },
  {
   "cell_type": "code",
   "execution_count": 7,
   "id": "bd13600e",
   "metadata": {},
   "outputs": [
    {
     "name": "stdout",
     "output_type": "stream",
     "text": [
      "Collecting pyotp\n",
      "  Downloading pyotp-2.9.0-py3-none-any.whl.metadata (9.8 kB)\n",
      "Downloading pyotp-2.9.0-py3-none-any.whl (13 kB)\n",
      "Installing collected packages: pyotp\n",
      "Successfully installed pyotp-2.9.0\n",
      "Note: you may need to restart the kernel to use updated packages.\n"
     ]
    }
   ],
   "source": [
    "pip install pyotp\n",
    "pip install logzero"
   ]
  },
  {
   "cell_type": "markdown",
   "id": "77f299c0",
   "metadata": {},
   "source": [
    "### Import necessary libraries"
   ]
  },
  {
   "cell_type": "code",
   "execution_count": 8,
   "id": "4f34f266",
   "metadata": {},
   "outputs": [],
   "source": [
    "from SmartApi import SmartConnect #or from SmartApi.smartConnect import SmartConnect\n",
    "import pyotp\n",
    "from logzero import logger"
   ]
  },
  {
   "cell_type": "markdown",
   "id": "4d1f85d1",
   "metadata": {},
   "source": [
    "### Initialize API key, username, and password for establishing a connection"
   ]
  },
  {
   "cell_type": "code",
   "execution_count": 52,
   "id": "21e0f95d",
   "metadata": {},
   "outputs": [
    {
     "name": "stderr",
     "output_type": "stream",
     "text": [
      "[I 240922 22:43:42 smartConnect:121] in pool\n"
     ]
    }
   ],
   "source": [
    "api_key = 'cXk8cHsq'\n",
    "username = 'P61834406'\n",
    "pwd = '2119'\n",
    "smartApi = SmartConnect(api_key)\n",
    "try:\n",
    "    token = \"UD55UQHUSX2N4JL62KMEKXKDGQ\"\n",
    "    totp = pyotp.TOTP(token).now()\n",
    "except Exception as e:\n",
    "    logger.error(\"Invalid Token: The provided token is not valid.\")\n",
    "    raise e"
   ]
  },
  {
   "cell_type": "markdown",
   "id": "89abdcd0",
   "metadata": {},
   "source": [
    "### For placing orders token si "
   ]
  },
  {
   "cell_type": "markdown",
   "id": "bec0da72",
   "metadata": {},
   "source": [
    "### Order Placement in NSE"
   ]
  },
  {
   "cell_type": "code",
   "execution_count": 53,
   "id": "c3253555",
   "metadata": {},
   "outputs": [
    {
     "name": "stdout",
     "output_type": "stream",
     "text": [
      "The order id is: 240922100000258\n"
     ]
    }
   ],
   "source": [
    "try:\n",
    "    orderparams = {\n",
    "        \"variety\": \"NORMAL\",\n",
    "        \"tradingsymbol\": \"SBIN-EQ\",\n",
    "        \"symboltoken\": \"3045\",\n",
    "        \"transactiontype\": \"BUY\",\n",
    "        \"exchange\": \"NSE\",\n",
    "        \"ordertype\": \"LIMIT\",\n",
    "        \"producttype\": \"INTRADAY\",\n",
    "        \"duration\": \"DAY\",\n",
    "        \"price\": \"761\",\n",
    "        \"squareoff\": \"0\",\n",
    "        \"stoploss\": \"0\",\n",
    "        \"quantity\": \"1\"\n",
    "        }\n",
    "    orderId=obj.placeOrder(orderparams)\n",
    "    print(\"The order id is: {}\".format(orderId))\n",
    "except Exception as e:\n",
    "    print(\"Order placement failed: {}\".format(e.message))"
   ]
  },
  {
   "cell_type": "code",
   "execution_count": 54,
   "id": "a1f4c4bf",
   "metadata": {},
   "outputs": [
    {
     "name": "stdout",
     "output_type": "stream",
     "text": [
      "The order id is: 240922100000259\n"
     ]
    }
   ],
   "source": [
    "try:\n",
    "    orderparams = {\n",
    "        \"variety\": \"NORMAL\",\n",
    "        \"tradingsymbol\": \"SBILIFE-EQ\",\n",
    "        \"symboltoken\": \"21808\",\n",
    "        \"transactiontype\": \"BUY\",\n",
    "        \"exchange\": \"NSE\",\n",
    "        \"ordertype\": \"LIMIT\",\n",
    "        \"producttype\": \"INTRADAY\",\n",
    "        \"duration\": \"DAY\",\n",
    "        \"price\": \"761\",\n",
    "        \"squareoff\": \"0\",\n",
    "        \"stoploss\": \"0\",\n",
    "        \"quantity\": \"1\"\n",
    "        }\n",
    "    orderId=obj.placeOrder(orderparams)\n",
    "    print(\"The order id is: {}\".format(orderId))\n",
    "except Exception as e:\n",
    "    print(\"Order placement failed: {}\".format(e.message))"
   ]
  },
  {
   "cell_type": "markdown",
   "id": "8174739f",
   "metadata": {},
   "source": [
    "### Order Placement in BSE"
   ]
  },
  {
   "cell_type": "code",
   "execution_count": 55,
   "id": "f27f91cd",
   "metadata": {},
   "outputs": [
    {
     "name": "stdout",
     "output_type": "stream",
     "text": [
      "The order id is: 240922100000260\n"
     ]
    }
   ],
   "source": [
    "try:\n",
    "    orderparams = {\n",
    "        \"variety\": \"NORMAL\",\n",
    "        \"tradingsymbol\": \"JAMNAAUTO\",  # Example of JAMNAAUTO in BSE\n",
    "        \"symboltoken\": \"520051\",  # Token for the specific stock\n",
    "        \"transactiontype\": \"BUY\",\n",
    "        \"exchange\": \"BSE\", # exchange should be BSE\n",
    "        \"ordertype\": \"LIMIT\",\n",
    "        \"producttype\": \"INTRADAY\",\n",
    "        \"duration\": \"DAY\",\n",
    "        \"price\": \"12\",  # Example price for the option\n",
    "        \"squareoff\": \"0\",\n",
    "        \"stoploss\": \"0\",\n",
    "        \"quantity\": \"1\"\n",
    "        }\n",
    "    orderId = obj.placeOrder(orderparams)\n",
    "    print(\"The order id is: {}\".format(orderId))\n",
    "except Exception as e:\n",
    "    print(\"Order placement failed: {}\".format(e.message))\n"
   ]
  },
  {
   "cell_type": "markdown",
   "id": "dac9c275",
   "metadata": {},
   "source": [
    "### Order placement for options"
   ]
  },
  {
   "cell_type": "code",
   "execution_count": 56,
   "id": "e145bf50",
   "metadata": {},
   "outputs": [
    {
     "name": "stdout",
     "output_type": "stream",
     "text": [
      "The order id is: 240922100000261\n"
     ]
    }
   ],
   "source": [
    "try:\n",
    "    orderparams = {\n",
    "        \"variety\": \"NORMAL\",\n",
    "        \"tradingsymbol\": \"POWERGRID31OCT24380CE\",  # Example of Option contract\n",
    "        \"symboltoken\": \"96221\",  # Token for the specific Option\n",
    "        \"transactiontype\": \"BUY\",\n",
    "        \"exchange\": \"NFO\", # exchange should be NFO\n",
    "        \"ordertype\": \"LIMIT\",\n",
    "        \"producttype\": \"INTRADAY\",\n",
    "        \"duration\": \"DAY\",\n",
    "        \"price\": \"2\",\n",
    "        \"squareoff\": \"0\",\n",
    "        \"stoploss\": \"0\",\n",
    "        \"quantity\": \"3600\"\n",
    "        }\n",
    "    orderId = obj.placeOrder(orderparams)\n",
    "    print(\"The order id is: {}\".format(orderId))\n",
    "except Exception as e:\n",
    "    print(\"Order placement failed: {}\".format(e.message))\n"
   ]
  },
  {
   "cell_type": "markdown",
   "id": "9c59d569",
   "metadata": {},
   "source": [
    "### Order placement for Futures"
   ]
  },
  {
   "cell_type": "code",
   "execution_count": 57,
   "id": "f791b693",
   "metadata": {},
   "outputs": [
    {
     "name": "stdout",
     "output_type": "stream",
     "text": [
      "The order id is: 240922100000262\n"
     ]
    }
   ],
   "source": [
    "try:\n",
    "    orderparams = {\n",
    "        \"variety\": \"NORMAL\",\n",
    "        \"tradingsymbol\": \"BHEL28NOV24FUT\",  # Example of Future contract\n",
    "        \"symboltoken\": \"36630\",  # Token for the specific Futures\n",
    "        \"transactiontype\": \"BUY\",\n",
    "        \"exchange\": \"NFO\", # exchange should be NFO\n",
    "        \"ordertype\": \"LIMIT\",\n",
    "        \"producttype\": \"INTRADAY\",\n",
    "        \"duration\": \"DAY\",\n",
    "        \"price\": \"2\",\n",
    "        \"squareoff\": \"0\",\n",
    "        \"stoploss\": \"0\",\n",
    "        \"quantity\": \"2625\"\n",
    "        }\n",
    "    orderId = obj.placeOrder(orderparams)\n",
    "    print(\"The order id is: {}\".format(orderId))\n",
    "except Exception as e:\n",
    "    print(\"Order placement failed: {}\".format(e.message))\n"
   ]
  },
  {
   "cell_type": "markdown",
   "id": "20b4f2e2",
   "metadata": {},
   "source": [
    "### Order Placement for MCX"
   ]
  },
  {
   "cell_type": "code",
   "execution_count": 58,
   "id": "dafe8fd1",
   "metadata": {},
   "outputs": [
    {
     "name": "stdout",
     "output_type": "stream",
     "text": [
      "The order id is: 240922100000263\n"
     ]
    }
   ],
   "source": [
    "try:\n",
    "    orderparams = {\n",
    "        \"variety\": \"NORMAL\",\n",
    "        \"tradingsymbol\": \"GOLDM24SEP2476500CE\",  # Example of Gold September contract\n",
    "        \"symboltoken\": \"436830\",  # Token for the specific commodity\n",
    "        \"transactiontype\": \"BUY\",\n",
    "        \"exchange\": \"MCX\", # exchange should be MCX\n",
    "        \"ordertype\": \"LIMIT\",\n",
    "        \"producttype\": \"INTRADAY\",\n",
    "        \"duration\": \"DAY\",\n",
    "        \"price\": \"2\",\n",
    "        \"squareoff\": \"0\",\n",
    "        \"stoploss\": \"0\",\n",
    "        \"quantity\": \"100\"\n",
    "        }\n",
    "    orderId = obj.placeOrder(orderparams)\n",
    "    print(\"The order id is: {}\".format(orderId))\n",
    "except Exception as e:\n",
    "    print(\"Order placement failed: {}\".format(e.message))\n"
   ]
  },
  {
   "cell_type": "markdown",
   "id": "3e91c2f3",
   "metadata": {},
   "source": [
    "### Order Placement for CDS"
   ]
  },
  {
   "cell_type": "code",
   "execution_count": 59,
   "id": "e6276ff7",
   "metadata": {},
   "outputs": [
    {
     "name": "stdout",
     "output_type": "stream",
     "text": [
      "The order id is: 240922100000264\n"
     ]
    }
   ],
   "source": [
    "try:\n",
    "    orderparams = {\n",
    "        \"variety\": \"NORMAL\",\n",
    "        \"tradingsymbol\": \"GBPINR24O04105.25PE\",  # Example of CDS contract\n",
    "        \"symboltoken\": \"6497\",  # Token for the specific cds\n",
    "        \"transactiontype\": \"BUY\",\n",
    "        \"exchange\": \"CDS\", # exchange should be CDS\n",
    "        \"ordertype\": \"LIMIT\",\n",
    "        \"producttype\": \"INTRADAY\",\n",
    "        \"duration\": \"DAY\",\n",
    "        \"price\": \"2\",\n",
    "        \"squareoff\": \"0\",\n",
    "        \"stoploss\": \"0\",\n",
    "        \"quantity\": \"1\"\n",
    "        }\n",
    "    orderId = obj.placeOrder(orderparams)\n",
    "    print(\"The order id is: {}\".format(orderId))\n",
    "except Exception as e:\n",
    "    print(\"Order placement failed: {}\".format(e.message))\n"
   ]
  },
  {
   "cell_type": "markdown",
   "id": "15d89c4e",
   "metadata": {},
   "source": [
    "### Creating a function for placing orders"
   ]
  },
  {
   "cell_type": "code",
   "execution_count": 60,
   "id": "7fc6f7ba",
   "metadata": {},
   "outputs": [],
   "source": [
    "def placeorder(symbol,token,qty,trans_type,exchange,ordertype,price,producttype,duration,squareoff,stoploss):\n",
    "    orderparams = {\n",
    "        \"variety\": \"NORMAL\",\n",
    "        \"tradingsymbol\": symbol,\n",
    "        \"symboltoken\": token,\n",
    "        \"transactiontype\": trans_type,\n",
    "        \"exchange\": exchange,\n",
    "        \"ordertype\": ordertype,\n",
    "        \"producttype\": producttype,\n",
    "        \"duration\": duration,\n",
    "        \"price\": price,\n",
    "        \"squareoff\": squareoff,\n",
    "        \"stoploss\": stoploss,\n",
    "        \"quantity\": qty\n",
    "        }\n",
    "    orderId = obj.placeOrder(orderparams)\n",
    "    return orderId"
   ]
  },
  {
   "cell_type": "markdown",
   "id": "134f25f2",
   "metadata": {},
   "source": [
    "### Order Placement for NSE"
   ]
  },
  {
   "cell_type": "code",
   "execution_count": 61,
   "id": "4f379b64",
   "metadata": {},
   "outputs": [
    {
     "name": "stdout",
     "output_type": "stream",
     "text": [
      "240922100000318\n"
     ]
    }
   ],
   "source": [
    "print(placeorder(\"SBIN-EQ\",\"3045\",\"1\",\"BUY\",\"NSE\",\"LIMIT\",\"761\",\"INTRADAY\",\"DAY\",\"0\",\"1\"))"
   ]
  },
  {
   "cell_type": "markdown",
   "id": "2663f87f",
   "metadata": {},
   "source": [
    "### Order Placement for BSE"
   ]
  },
  {
   "cell_type": "code",
   "execution_count": 62,
   "id": "01012042",
   "metadata": {},
   "outputs": [
    {
     "name": "stdout",
     "output_type": "stream",
     "text": [
      "240922100000326\n"
     ]
    }
   ],
   "source": [
    "print(placeorder(\"JAMNAAUTO\",\"520051\",\"1\",\"BUY\",\"BSE\",\"LIMIT\",\"12\",\"INTRADAY\",\"DAY\",\"0\",\"1\"))"
   ]
  },
  {
   "cell_type": "markdown",
   "id": "508193a0",
   "metadata": {},
   "source": [
    "### Order Placement for Options"
   ]
  },
  {
   "cell_type": "code",
   "execution_count": 63,
   "id": "d7b11b67",
   "metadata": {},
   "outputs": [
    {
     "name": "stdout",
     "output_type": "stream",
     "text": [
      "240922100000327\n"
     ]
    }
   ],
   "source": [
    "print(placeorder(\"POWERGRID31OCT24380CE\",\"96221\",\"3600\",\"BUY\",\"NFO\",\"LIMIT\",\"2\",\"INTRADAY\",\"DAY\",\"0\",\"1\"))"
   ]
  },
  {
   "cell_type": "markdown",
   "id": "7def1869",
   "metadata": {},
   "source": [
    "### Order Placement for Futures"
   ]
  },
  {
   "cell_type": "code",
   "execution_count": 64,
   "id": "cd66af83",
   "metadata": {},
   "outputs": [
    {
     "name": "stdout",
     "output_type": "stream",
     "text": [
      "240922100000328\n"
     ]
    }
   ],
   "source": [
    "print(placeorder(\"BHEL28NOV24FUT\",\"36630\",\"2625\",\"BUY\",\"NFO\",\"LIMIT\",\"2\",\"INTRADAY\",\"DAY\",\"0\",\"1\"))"
   ]
  },
  {
   "cell_type": "markdown",
   "id": "8fbc35ff",
   "metadata": {},
   "source": [
    "### Order placement for MCX"
   ]
  },
  {
   "cell_type": "code",
   "execution_count": 65,
   "id": "73b2e1cf",
   "metadata": {},
   "outputs": [
    {
     "name": "stdout",
     "output_type": "stream",
     "text": [
      "240922100000329\n"
     ]
    }
   ],
   "source": [
    "print(placeorder(\"GOLDM24SEP2476500CE\",\"436830\",\"100\",\"BUY\",\"MCX\",\"LIMIT\",\"2\",\"INTRADAY\",\"DAY\",\"0\",\"1\"))"
   ]
  },
  {
   "cell_type": "markdown",
   "id": "efae8adc",
   "metadata": {},
   "source": [
    "### Order Placement in CDS"
   ]
  },
  {
   "cell_type": "code",
   "execution_count": 67,
   "id": "673d5519",
   "metadata": {},
   "outputs": [
    {
     "name": "stdout",
     "output_type": "stream",
     "text": [
      "240922100000330\n"
     ]
    }
   ],
   "source": [
    "print(placeorder(\"GBPINR24O04105.25PE\",\"6497\",\"1\",\"BUY\",\"CDS\",\"LIMIT\",\"2\",\"INTRADAY\",\"DAY\",\"0\",\"1\"))"
   ]
  }
 ],
 "metadata": {
  "kernelspec": {
   "display_name": "Python 3 (ipykernel)",
   "language": "python",
   "name": "python3"
  },
  "language_info": {
   "codemirror_mode": {
    "name": "ipython",
    "version": 3
   },
   "file_extension": ".py",
   "mimetype": "text/x-python",
   "name": "python",
   "nbconvert_exporter": "python",
   "pygments_lexer": "ipython3",
   "version": "3.9.6"
  }
 },
 "nbformat": 4,
 "nbformat_minor": 5
}
